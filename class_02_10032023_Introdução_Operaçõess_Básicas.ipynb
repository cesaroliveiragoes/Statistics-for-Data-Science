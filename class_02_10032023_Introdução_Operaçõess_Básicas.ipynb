{
  "nbformat": 4,
  "nbformat_minor": 0,
  "metadata": {
    "colab": {
      "provenance": [],
      "authorship_tag": "ABX9TyOX2AuIYhiN3RPNvA892w1e",
      "include_colab_link": true
    },
    "kernelspec": {
      "name": "python3",
      "display_name": "Python 3"
    },
    "language_info": {
      "name": "python"
    }
  },
  "cells": [
    {
      "cell_type": "markdown",
      "metadata": {
        "id": "view-in-github",
        "colab_type": "text"
      },
      "source": [
        "<a href=\"https://colab.research.google.com/github/cesaroliveiragoes/Statistics-for-Data-Science/blob/main/class_02_10032023_Introdu%C3%A7%C3%A3o_Opera%C3%A7%C3%B5ess_B%C3%A1sicas.ipynb\" target=\"_parent\"><img src=\"https://colab.research.google.com/assets/colab-badge.svg\" alt=\"Open In Colab\"/></a>"
      ]
    },
    {
      "cell_type": "markdown",
      "source": [
        "## Aula 02"
      ],
      "metadata": {
        "id": "QU8r9Zg12gYl"
      }
    },
    {
      "cell_type": "markdown",
      "source": [
        "# Operações Básicas"
      ],
      "metadata": {
        "id": "B0GGoaLOoY84"
      }
    },
    {
      "cell_type": "code",
      "execution_count": null,
      "metadata": {
        "id": "qX_qQpuD2XS_"
      },
      "outputs": [],
      "source": [
        "import numpy as np\n",
        "import random as rnd\n",
        "import pandas as pd"
      ]
    },
    {
      "cell_type": "markdown",
      "source": [
        "Operações Básicas"
      ],
      "metadata": {
        "id": "CvLu3MCf4fVh"
      }
    },
    {
      "cell_type": "code",
      "source": [
        "# soma\n",
        "6+5"
      ],
      "metadata": {
        "colab": {
          "base_uri": "https://localhost:8080/"
        },
        "id": "6qs4vKhL2n88",
        "outputId": "e1204e3e-04ee-4422-e3e5-30bb692c9470"
      },
      "execution_count": null,
      "outputs": [
        {
          "output_type": "execute_result",
          "data": {
            "text/plain": [
              "11"
            ]
          },
          "metadata": {},
          "execution_count": 16
        }
      ]
    },
    {
      "cell_type": "code",
      "source": [
        "# subtração\n",
        "9-5"
      ],
      "metadata": {
        "colab": {
          "base_uri": "https://localhost:8080/"
        },
        "id": "v6Bm67Ef2yU0",
        "outputId": "06ca6b5a-4f85-46d5-ed81-7ab68710e10b"
      },
      "execution_count": null,
      "outputs": [
        {
          "output_type": "execute_result",
          "data": {
            "text/plain": [
              "4"
            ]
          },
          "metadata": {},
          "execution_count": 17
        }
      ]
    },
    {
      "cell_type": "code",
      "source": [
        "# multiplicação\n",
        "2*3"
      ],
      "metadata": {
        "colab": {
          "base_uri": "https://localhost:8080/"
        },
        "id": "WPIiSIuv21HS",
        "outputId": "e3a90413-723a-4ae2-a763-7ffa9e156646"
      },
      "execution_count": null,
      "outputs": [
        {
          "output_type": "execute_result",
          "data": {
            "text/plain": [
              "6"
            ]
          },
          "metadata": {},
          "execution_count": 18
        }
      ]
    },
    {
      "cell_type": "code",
      "source": [
        "# divisão\n",
        "8/2"
      ],
      "metadata": {
        "colab": {
          "base_uri": "https://localhost:8080/"
        },
        "id": "OvPIoJeI24DD",
        "outputId": "e83dfe54-8cd9-4319-b8fe-e4c492400ca9"
      },
      "execution_count": null,
      "outputs": [
        {
          "output_type": "execute_result",
          "data": {
            "text/plain": [
              "4.0"
            ]
          },
          "metadata": {},
          "execution_count": 19
        }
      ]
    },
    {
      "cell_type": "code",
      "source": [
        "# potencia\n",
        "5**2"
      ],
      "metadata": {
        "colab": {
          "base_uri": "https://localhost:8080/"
        },
        "id": "ZZhq_kaM2626",
        "outputId": "7eb24cfb-59d3-4dab-b55b-49310a8f7018"
      },
      "execution_count": null,
      "outputs": [
        {
          "output_type": "execute_result",
          "data": {
            "text/plain": [
              "25"
            ]
          },
          "metadata": {},
          "execution_count": 20
        }
      ]
    },
    {
      "cell_type": "code",
      "source": [
        "# logaritimo\n",
        "np.log(5)"
      ],
      "metadata": {
        "colab": {
          "base_uri": "https://localhost:8080/"
        },
        "id": "4zT3G0rg3SAy",
        "outputId": "ac07df6a-8ee1-4d66-ddb3-e056be3a51ba"
      },
      "execution_count": null,
      "outputs": [
        {
          "output_type": "execute_result",
          "data": {
            "text/plain": [
              "1.6094379124341003"
            ]
          },
          "metadata": {},
          "execution_count": 21
        }
      ]
    },
    {
      "cell_type": "code",
      "source": [
        "# exponencial\n",
        "np.exp(7)"
      ],
      "metadata": {
        "colab": {
          "base_uri": "https://localhost:8080/"
        },
        "id": "8pNLDJbt4uzS",
        "outputId": "35685976-24bc-4580-b6d1-320f09383905"
      },
      "execution_count": null,
      "outputs": [
        {
          "output_type": "execute_result",
          "data": {
            "text/plain": [
              "1096.6331584284585"
            ]
          },
          "metadata": {},
          "execution_count": 22
        }
      ]
    },
    {
      "cell_type": "markdown",
      "source": [
        "## Criar Função"
      ],
      "metadata": {
        "id": "XilgFKuuD0BQ"
      }
    },
    {
      "cell_type": "code",
      "source": [
        "def funcao(a, b):\n",
        "  res = a*b\n",
        "  return res\n",
        "\n",
        "funcao (8,2)"
      ],
      "metadata": {
        "colab": {
          "base_uri": "https://localhost:8080/"
        },
        "id": "rn0wqYFT456z",
        "outputId": "7f0b677b-cc6d-40d8-90ca-a49c2506ad59"
      },
      "execution_count": null,
      "outputs": [
        {
          "output_type": "execute_result",
          "data": {
            "text/plain": [
              "16"
            ]
          },
          "metadata": {},
          "execution_count": 23
        }
      ]
    },
    {
      "cell_type": "code",
      "source": [
        "def funcao2(a, b):\n",
        "  res = a**b\n",
        "  return res\n",
        "\n",
        "funcao2 (2,3)"
      ],
      "metadata": {
        "colab": {
          "base_uri": "https://localhost:8080/"
        },
        "id": "DEqtYFtYFVuR",
        "outputId": "63d3e86a-3799-4e5c-baeb-3931757b301f"
      },
      "execution_count": null,
      "outputs": [
        {
          "output_type": "execute_result",
          "data": {
            "text/plain": [
              "8"
            ]
          },
          "metadata": {},
          "execution_count": 24
        }
      ]
    },
    {
      "cell_type": "markdown",
      "source": [
        "## Criação de Lista Customizada / Sequencial / Números Aleatórios"
      ],
      "metadata": {
        "id": "p6hmudRcGHvh"
      }
    },
    {
      "cell_type": "code",
      "source": [
        "# lista customizada\n",
        "lista1 = [1,5,10]\n",
        "lista1"
      ],
      "metadata": {
        "colab": {
          "base_uri": "https://localhost:8080/"
        },
        "id": "qZVZIy7vGURR",
        "outputId": "8dd266e1-e8ab-44ac-cf9e-c70775242870"
      },
      "execution_count": null,
      "outputs": [
        {
          "output_type": "execute_result",
          "data": {
            "text/plain": [
              "[1, 5, 10]"
            ]
          },
          "metadata": {},
          "execution_count": 25
        }
      ]
    },
    {
      "cell_type": "code",
      "source": [
        "# lista sequencial\n",
        "lista2 = list(range(2,8))\n",
        "lista2\n"
      ],
      "metadata": {
        "colab": {
          "base_uri": "https://localhost:8080/"
        },
        "id": "_fJ8mrMXGbmA",
        "outputId": "a120e1bc-4e6c-4871-8829-7b2840f61c01"
      },
      "execution_count": null,
      "outputs": [
        {
          "output_type": "execute_result",
          "data": {
            "text/plain": [
              "[2, 3, 4, 5, 6, 7]"
            ]
          },
          "metadata": {},
          "execution_count": 26
        }
      ]
    },
    {
      "cell_type": "markdown",
      "source": [
        "## Loops"
      ],
      "metadata": {
        "id": "b3ZegU3bIWGJ"
      }
    },
    {
      "cell_type": "code",
      "source": [
        "for i in range(5):\n",
        "  print(i)"
      ],
      "metadata": {
        "colab": {
          "base_uri": "https://localhost:8080/"
        },
        "id": "u4o-tsCkIXnh",
        "outputId": "def36c6f-e257-4180-9e49-de8ec67f1ae9"
      },
      "execution_count": null,
      "outputs": [
        {
          "output_type": "stream",
          "name": "stdout",
          "text": [
            "0\n",
            "1\n",
            "2\n",
            "3\n",
            "4\n"
          ]
        }
      ]
    },
    {
      "cell_type": "code",
      "source": [
        "for nome in ['al', 'ci', 'des']:\n",
        "  print(nome)"
      ],
      "metadata": {
        "colab": {
          "base_uri": "https://localhost:8080/"
        },
        "id": "FI3LOmbwIeBx",
        "outputId": "ef4023ea-9a57-4d9e-828c-27a3027c6302"
      },
      "execution_count": null,
      "outputs": [
        {
          "output_type": "stream",
          "name": "stdout",
          "text": [
            "al\n",
            "ci\n",
            "des\n"
          ]
        }
      ]
    },
    {
      "cell_type": "code",
      "source": [
        "#loop para criar sequencia de números aleatórios\n",
        "for i in range(5):\n",
        "\n",
        "  print(round(rnd.uniform(0, 1), 4))"
      ],
      "metadata": {
        "colab": {
          "base_uri": "https://localhost:8080/"
        },
        "id": "DlG95-xpI6Lo",
        "outputId": "d6e4d0a6-9348-4e5a-c0dc-8c132cafd26a"
      },
      "execution_count": null,
      "outputs": [
        {
          "output_type": "stream",
          "name": "stdout",
          "text": [
            "0.5238\n",
            "0.302\n",
            "0.9289\n",
            "0.0227\n",
            "0.8256\n"
          ]
        }
      ]
    },
    {
      "cell_type": "code",
      "source": [
        "#loop para criar lista de números aleatórios\n",
        "lista_aleatoria = [round(rnd.uniform(0, 1), 2) for i in range(5)]\n",
        "lista_aleatoria\n",
        "\n"
      ],
      "metadata": {
        "colab": {
          "base_uri": "https://localhost:8080/"
        },
        "id": "iJeIjrynKOFA",
        "outputId": "ef35f294-df9c-47a9-9c3f-76b71d67f5bb"
      },
      "execution_count": null,
      "outputs": [
        {
          "output_type": "execute_result",
          "data": {
            "text/plain": [
              "[0.17, 0.46, 0.39, 0.96, 0.26]"
            ]
          },
          "metadata": {},
          "execution_count": 30
        }
      ]
    },
    {
      "cell_type": "code",
      "source": [
        "# criar lista de números aleatórios inteiros\n",
        "megadavirada = rnd.sample(range(1,61), 6)\n",
        "megadavirada"
      ],
      "metadata": {
        "colab": {
          "base_uri": "https://localhost:8080/"
        },
        "id": "CMyYCvx9K7-Q",
        "outputId": "5d4e7fcb-ec20-4197-c34f-73a2e12714f8"
      },
      "execution_count": null,
      "outputs": [
        {
          "output_type": "execute_result",
          "data": {
            "text/plain": [
              "[56, 35, 12, 46, 36, 47]"
            ]
          },
          "metadata": {},
          "execution_count": 31
        }
      ]
    },
    {
      "cell_type": "markdown",
      "source": [
        "## Operações com Listas Numpy"
      ],
      "metadata": {
        "id": "VWmED2HHM1ZW"
      }
    },
    {
      "cell_type": "code",
      "source": [
        "# somar listas\n",
        "a = [2, 3]\n",
        "b = [5, 6]\n",
        "a+b"
      ],
      "metadata": {
        "colab": {
          "base_uri": "https://localhost:8080/"
        },
        "id": "V5if-bkqM80J",
        "outputId": "0f5623c5-6e0d-4ccc-de59-dc2e49fa0721"
      },
      "execution_count": null,
      "outputs": [
        {
          "output_type": "execute_result",
          "data": {
            "text/plain": [
              "[2, 3, 5, 6]"
            ]
          },
          "metadata": {},
          "execution_count": 32
        }
      ]
    },
    {
      "cell_type": "code",
      "source": [
        "# somar listas numpy\n",
        "a_np = np.array(a)\n",
        "a_np"
      ],
      "metadata": {
        "colab": {
          "base_uri": "https://localhost:8080/"
        },
        "id": "3XRFfMVMNOBh",
        "outputId": "82c3a1a7-4603-474e-ce7b-2cc9f7df34f1"
      },
      "execution_count": null,
      "outputs": [
        {
          "output_type": "execute_result",
          "data": {
            "text/plain": [
              "array([2, 3])"
            ]
          },
          "metadata": {},
          "execution_count": 33
        }
      ]
    },
    {
      "cell_type": "code",
      "source": [
        "b_np = np.array(b)\n",
        "b_np"
      ],
      "metadata": {
        "colab": {
          "base_uri": "https://localhost:8080/"
        },
        "id": "UHWBor7tNhii",
        "outputId": "f7f6b8ad-ad48-4fa6-ed37-dc0f73284ed3"
      },
      "execution_count": null,
      "outputs": [
        {
          "output_type": "execute_result",
          "data": {
            "text/plain": [
              "array([5, 6])"
            ]
          },
          "metadata": {},
          "execution_count": 34
        }
      ]
    },
    {
      "cell_type": "code",
      "source": [
        "# soma\n",
        "a_np+b_np"
      ],
      "metadata": {
        "colab": {
          "base_uri": "https://localhost:8080/"
        },
        "id": "owqCOWiZNmsL",
        "outputId": "a0dfcb62-b89f-4915-9b8e-d874d5c6ef7c"
      },
      "execution_count": null,
      "outputs": [
        {
          "output_type": "execute_result",
          "data": {
            "text/plain": [
              "array([7, 9])"
            ]
          },
          "metadata": {},
          "execution_count": 35
        }
      ]
    },
    {
      "cell_type": "code",
      "source": [
        "#subtração\n",
        "a_np-b_np"
      ],
      "metadata": {
        "colab": {
          "base_uri": "https://localhost:8080/"
        },
        "id": "YBJ_27kNNszc",
        "outputId": "0d56ede3-4e08-428f-a012-48c9f1e5a247"
      },
      "execution_count": null,
      "outputs": [
        {
          "output_type": "execute_result",
          "data": {
            "text/plain": [
              "array([-3, -3])"
            ]
          },
          "metadata": {},
          "execution_count": 36
        }
      ]
    },
    {
      "cell_type": "code",
      "source": [
        "# multiplicação\n",
        "a_np*b_np"
      ],
      "metadata": {
        "colab": {
          "base_uri": "https://localhost:8080/"
        },
        "id": "LroV3N6tNxGF",
        "outputId": "cef66025-0e87-4615-f783-a083b0c20d30"
      },
      "execution_count": null,
      "outputs": [
        {
          "output_type": "execute_result",
          "data": {
            "text/plain": [
              "array([10, 18])"
            ]
          },
          "metadata": {},
          "execution_count": 37
        }
      ]
    },
    {
      "cell_type": "code",
      "source": [
        "# divisão\n",
        "a_np/b_np"
      ],
      "metadata": {
        "colab": {
          "base_uri": "https://localhost:8080/"
        },
        "id": "4M-_fEI-N1kF",
        "outputId": "e67ac6c2-6a1f-4fc6-d106-88a6cd71ef01"
      },
      "execution_count": null,
      "outputs": [
        {
          "output_type": "execute_result",
          "data": {
            "text/plain": [
              "array([0.4, 0.5])"
            ]
          },
          "metadata": {},
          "execution_count": 38
        }
      ]
    },
    {
      "cell_type": "markdown",
      "source": [
        "## Operações com Matrizes"
      ],
      "metadata": {
        "id": "wFJQkUM3Q8_c"
      }
    },
    {
      "cell_type": "code",
      "source": [
        "# criar matriz numpy\n",
        "A = np.array([[2,3], [5,6]])\n",
        "A"
      ],
      "metadata": {
        "colab": {
          "base_uri": "https://localhost:8080/"
        },
        "id": "ruvtdZ85RAKk",
        "outputId": "760b8d5a-5589-4f9d-d9f3-832e61f9909d"
      },
      "execution_count": null,
      "outputs": [
        {
          "output_type": "execute_result",
          "data": {
            "text/plain": [
              "array([[2, 3],\n",
              "       [5, 6]])"
            ]
          },
          "metadata": {},
          "execution_count": 39
        }
      ]
    },
    {
      "cell_type": "code",
      "source": [
        "B = np.array([[7,2], [4,3]])\n",
        "B"
      ],
      "metadata": {
        "colab": {
          "base_uri": "https://localhost:8080/"
        },
        "id": "56W74f1QRWx9",
        "outputId": "c971cefd-74a3-45dd-e53f-5c8bc5938650"
      },
      "execution_count": null,
      "outputs": [
        {
          "output_type": "execute_result",
          "data": {
            "text/plain": [
              "array([[7, 2],\n",
              "       [4, 3]])"
            ]
          },
          "metadata": {},
          "execution_count": 40
        }
      ]
    },
    {
      "cell_type": "code",
      "source": [
        "# Soma\n",
        "A+B"
      ],
      "metadata": {
        "colab": {
          "base_uri": "https://localhost:8080/"
        },
        "id": "_aq6PLe5Rhiu",
        "outputId": "e28c26ef-1db9-40a9-d66a-facc2c0389bc"
      },
      "execution_count": null,
      "outputs": [
        {
          "output_type": "execute_result",
          "data": {
            "text/plain": [
              "array([[9, 5],\n",
              "       [9, 9]])"
            ]
          },
          "metadata": {},
          "execution_count": 41
        }
      ]
    },
    {
      "cell_type": "code",
      "source": [
        "# Subtração\n",
        "A-B"
      ],
      "metadata": {
        "colab": {
          "base_uri": "https://localhost:8080/"
        },
        "id": "MSl9WnSQRmC-",
        "outputId": "370295a9-6ccc-4ae0-a95b-89e90380d452"
      },
      "execution_count": null,
      "outputs": [
        {
          "output_type": "execute_result",
          "data": {
            "text/plain": [
              "array([[-5,  1],\n",
              "       [ 1,  3]])"
            ]
          },
          "metadata": {},
          "execution_count": 42
        }
      ]
    },
    {
      "cell_type": "code",
      "source": [
        "# Multiplicação de elementos\n",
        "A*B"
      ],
      "metadata": {
        "colab": {
          "base_uri": "https://localhost:8080/"
        },
        "id": "DyTIu5BzRoP8",
        "outputId": "1b5a4f3e-b39e-4bd2-b11a-9a1e040ad51f"
      },
      "execution_count": null,
      "outputs": [
        {
          "output_type": "execute_result",
          "data": {
            "text/plain": [
              "array([[14,  6],\n",
              "       [20, 18]])"
            ]
          },
          "metadata": {},
          "execution_count": 43
        }
      ]
    },
    {
      "cell_type": "code",
      "source": [
        "# Multiplicação de Matriz\n",
        "A.dot(B)"
      ],
      "metadata": {
        "colab": {
          "base_uri": "https://localhost:8080/"
        },
        "id": "9HVYUgQBRr-k",
        "outputId": "b164613e-3bbd-42bc-c8f2-a199a77c1d25"
      },
      "execution_count": null,
      "outputs": [
        {
          "output_type": "execute_result",
          "data": {
            "text/plain": [
              "array([[26, 13],\n",
              "       [59, 28]])"
            ]
          },
          "metadata": {},
          "execution_count": 44
        }
      ]
    }
  ]
}