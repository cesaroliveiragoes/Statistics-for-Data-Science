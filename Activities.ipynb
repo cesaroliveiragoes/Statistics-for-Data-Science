{
  "nbformat": 4,
  "nbformat_minor": 0,
  "metadata": {
    "colab": {
      "provenance": [],
      "toc_visible": true,
      "authorship_tag": "ABX9TyOFGMzANk4yyrpEQfjjIAVl"
    },
    "kernelspec": {
      "name": "python3",
      "display_name": "Python 3"
    },
    "language_info": {
      "name": "python"
    }
  },
  "cells": [
    {
      "cell_type": "markdown",
      "source": [
        "## Exercícios"
      ],
      "metadata": {
        "id": "FO_GS1SNbhjg"
      }
    },
    {
      "cell_type": "markdown",
      "source": [
        "**Criar a Seguinte Função znorm = x-min(x) / max (x) - min (x)**\n",
        "                              "
      ],
      "metadata": {
        "id": "5ukMBxr_bkC1"
      }
    },
    {
      "cell_type": "code",
      "source": [
        "import numpy as np\n",
        "import random as rnd\n",
        "import pandas as pd"
      ],
      "metadata": {
        "id": "MJMNm-rNbyyM"
      },
      "execution_count": null,
      "outputs": []
    },
    {
      "cell_type": "markdown",
      "source": [
        "**Criar 2 Vetores: vetorA (nrs de 1 a 20), vetorB(números aleatórios entre 1 e 20)**"
      ],
      "metadata": {
        "id": "c8NbRnfF-1ZF"
      }
    },
    {
      "cell_type": "code",
      "source": [
        "vetorA = np.array(list(range(1,21)))\n",
        "vetorA"
      ],
      "metadata": {
        "colab": {
          "base_uri": "https://localhost:8080/"
        },
        "id": "BoY8b44fezNc",
        "outputId": "e49bede5-8483-4bf1-f14a-c20daec0fabf"
      },
      "execution_count": null,
      "outputs": [
        {
          "output_type": "execute_result",
          "data": {
            "text/plain": [
              "array([ 1,  2,  3,  4,  5,  6,  7,  8,  9, 10, 11, 12, 13, 14, 15, 16, 17,\n",
              "       18, 19, 20])"
            ]
          },
          "metadata": {},
          "execution_count": 3
        }
      ]
    },
    {
      "cell_type": "code",
      "source": [
        "vetorB = np.array(rnd.sample(range(1,21), 20))\n",
        "vetorB"
      ],
      "metadata": {
        "colab": {
          "base_uri": "https://localhost:8080/"
        },
        "id": "1h8oo7vNfErp",
        "outputId": "f35087bb-7505-46d8-af4c-0dc9aa6f19d1"
      },
      "execution_count": null,
      "outputs": [
        {
          "output_type": "execute_result",
          "data": {
            "text/plain": [
              "array([ 5, 15,  7,  4,  8, 16,  1,  2, 11, 12, 13, 18, 10, 19,  3, 20, 17,\n",
              "       14,  6,  9])"
            ]
          },
          "metadata": {},
          "execution_count": 4
        }
      ]
    },
    {
      "cell_type": "markdown",
      "source": [
        "**Aplique a função criada nos vetores. O que ocorreu? Salve os resultados em novos vetores**\n",
        "\n",
        "\n",
        "\n"
      ],
      "metadata": {
        "id": "gjXNjmmr_GvV"
      }
    },
    {
      "cell_type": "code",
      "source": [
        "znorm = (np.array(vetorA) - min(np.array(vetorA))) / (max(np.array(vetorA)) - min(np.array(vetorA)))\n",
        "znormrounda = []\n",
        "for number in znorm:\n",
        "  znormrounda.append(round(number, 3))\n",
        "  \n",
        "print(znormrounda)"
      ],
      "metadata": {
        "colab": {
          "base_uri": "https://localhost:8080/"
        },
        "id": "exIoMsx9m3BA",
        "outputId": "477e2b5e-8601-45c2-d261-2ea531d6ea53"
      },
      "execution_count": null,
      "outputs": [
        {
          "output_type": "stream",
          "name": "stdout",
          "text": [
            "[0.0, 0.053, 0.105, 0.158, 0.211, 0.263, 0.316, 0.368, 0.421, 0.474, 0.526, 0.579, 0.632, 0.684, 0.737, 0.789, 0.842, 0.895, 0.947, 1.0]\n"
          ]
        }
      ]
    },
    {
      "cell_type": "code",
      "source": [
        "znormb = (np.array(vetorB) - min(np.array(vetorB))) / (max(np.array(vetorB)) - min(np.array(vetorB)))\n",
        "znormroundb = []\n",
        "for number in znormb:\n",
        "  znormroundb.append(round(number, 3))\n",
        "  \n",
        "print(znormroundb)"
      ],
      "metadata": {
        "colab": {
          "base_uri": "https://localhost:8080/"
        },
        "id": "7vcnvj_Mo3fn",
        "outputId": "371c377c-f34e-434c-ed73-b2a7305ffb5a"
      },
      "execution_count": null,
      "outputs": [
        {
          "output_type": "stream",
          "name": "stdout",
          "text": [
            "[0.211, 0.737, 0.316, 0.158, 0.368, 0.789, 0.0, 0.053, 0.526, 0.579, 0.632, 0.895, 0.474, 0.947, 0.105, 1.0, 0.842, 0.684, 0.263, 0.421]\n"
          ]
        }
      ]
    },
    {
      "cell_type": "code",
      "source": [
        "vtresultA = np.array(znormrounda)\n",
        "print(vtresultA)\n",
        "\n",
        "vtresultB = np.array(znormroundb)\n",
        "print(vtresultB)"
      ],
      "metadata": {
        "colab": {
          "base_uri": "https://localhost:8080/"
        },
        "id": "zbsC8wNgsAuQ",
        "outputId": "80e2f9b5-df41-46db-a47c-1e76a74e2c8e"
      },
      "execution_count": null,
      "outputs": [
        {
          "output_type": "stream",
          "name": "stdout",
          "text": [
            "[0.    0.053 0.105 0.158 0.211 0.263 0.316 0.368 0.421 0.474 0.526 0.579\n",
            " 0.632 0.684 0.737 0.789 0.842 0.895 0.947 1.   ]\n",
            "[0.211 0.737 0.316 0.158 0.368 0.789 0.    0.053 0.526 0.579 0.632 0.895\n",
            " 0.474 0.947 0.105 1.    0.842 0.684 0.263 0.421]\n"
          ]
        }
      ]
    },
    {
      "cell_type": "markdown",
      "source": [
        "**Crie as matrizes matrixAB(20,2) e matrixAB_norm(20,2) utilizando os vetores criados anteriormente.**"
      ],
      "metadata": {
        "id": "ZUbFmfGA_gCU"
      }
    },
    {
      "cell_type": "code",
      "source": [
        "m1 = np.array(vetorA)\n",
        "m1"
      ],
      "metadata": {
        "colab": {
          "base_uri": "https://localhost:8080/"
        },
        "id": "34x3LnsI3Jcq",
        "outputId": "afb23434-2ed4-4cd1-a1c3-fd679452194c"
      },
      "execution_count": null,
      "outputs": [
        {
          "output_type": "execute_result",
          "data": {
            "text/plain": [
              "array([ 1,  2,  3,  4,  5,  6,  7,  8,  9, 10, 11, 12, 13, 14, 15, 16, 17,\n",
              "       18, 19, 20])"
            ]
          },
          "metadata": {},
          "execution_count": 10
        }
      ]
    },
    {
      "cell_type": "code",
      "source": [
        "m2 = np.array(vetorB)\n",
        "m2"
      ],
      "metadata": {
        "colab": {
          "base_uri": "https://localhost:8080/"
        },
        "id": "ffzBbysS4BDT",
        "outputId": "f517d787-38e1-4029-aa50-ca55bed0f1c8"
      },
      "execution_count": null,
      "outputs": [
        {
          "output_type": "execute_result",
          "data": {
            "text/plain": [
              "array([ 5, 15,  7,  4,  8, 16,  1,  2, 11, 12, 13, 18, 10, 19,  3, 20, 17,\n",
              "       14,  6,  9])"
            ]
          },
          "metadata": {},
          "execution_count": 11
        }
      ]
    },
    {
      "cell_type": "code",
      "source": [
        "matrizab = np.array([[m1], [m2]])\n",
        "matrizab"
      ],
      "metadata": {
        "colab": {
          "base_uri": "https://localhost:8080/"
        },
        "id": "YF1aYVDk5iR5",
        "outputId": "a7ba7d09-aa04-4687-cd14-7e5759b51501"
      },
      "execution_count": 26,
      "outputs": [
        {
          "output_type": "execute_result",
          "data": {
            "text/plain": [
              "array([[[ 1,  2,  3,  4,  5,  6,  7,  8,  9, 10, 11, 12, 13, 14, 15, 16,\n",
              "         17, 18, 19, 20]],\n",
              "\n",
              "       [[ 5, 15,  7,  4,  8, 16,  1,  2, 11, 12, 13, 18, 10, 19,  3, 20,\n",
              "         17, 14,  6,  9]]])"
            ]
          },
          "metadata": {},
          "execution_count": 26
        }
      ]
    },
    {
      "cell_type": "code",
      "source": [
        "matrizabnorm = np.array([[vtresultA], [vtresultB]])\n",
        "matrizabnorm"
      ],
      "metadata": {
        "colab": {
          "base_uri": "https://localhost:8080/"
        },
        "id": "v1jfIZse6I5I",
        "outputId": "2a884b0f-ef02-434f-9174-0bc06539939c"
      },
      "execution_count": 34,
      "outputs": [
        {
          "output_type": "execute_result",
          "data": {
            "text/plain": [
              "array([[[0.   , 0.053, 0.105, 0.158, 0.211, 0.263, 0.316, 0.368, 0.421,\n",
              "         0.474, 0.526, 0.579, 0.632, 0.684, 0.737, 0.789, 0.842, 0.895,\n",
              "         0.947, 1.   ]],\n",
              "\n",
              "       [[0.211, 0.737, 0.316, 0.158, 0.368, 0.789, 0.   , 0.053, 0.526,\n",
              "         0.579, 0.632, 0.895, 0.474, 0.947, 0.105, 1.   , 0.842, 0.684,\n",
              "         0.263, 0.421]]])"
            ]
          },
          "metadata": {},
          "execution_count": 34
        }
      ]
    },
    {
      "cell_type": "markdown",
      "source": [
        "**Aplique as operações “*” e “dot” nas matrizes. Quais os resultados obtidos?**"
      ],
      "metadata": {
        "id": "KqiDTj-2_8do"
      }
    },
    {
      "cell_type": "code",
      "source": [
        "matrizab*matrizabnorm"
      ],
      "metadata": {
        "colab": {
          "base_uri": "https://localhost:8080/"
        },
        "id": "8CepH8tr8DSh",
        "outputId": "c59fd09e-338c-48e7-dd9d-895ef25f547a"
      },
      "execution_count": 35,
      "outputs": [
        {
          "output_type": "execute_result",
          "data": {
            "text/plain": [
              "array([[[ 0.   ,  0.106,  0.315,  0.632,  1.055,  1.578,  2.212,  2.944,\n",
              "          3.789,  4.74 ,  5.786,  6.948,  8.216,  9.576, 11.055, 12.624,\n",
              "         14.314, 16.11 , 17.993, 20.   ]],\n",
              "\n",
              "       [[ 1.055, 11.055,  2.212,  0.632,  2.944, 12.624,  0.   ,  0.106,\n",
              "          5.786,  6.948,  8.216, 16.11 ,  4.74 , 17.993,  0.315, 20.   ,\n",
              "         14.314,  9.576,  1.578,  3.789]]])"
            ]
          },
          "metadata": {},
          "execution_count": 35
        }
      ]
    },
    {
      "cell_type": "code",
      "source": [
        "np.dot(vtresultA, vtresultB)"
      ],
      "metadata": {
        "colab": {
          "base_uri": "https://localhost:8080/"
        },
        "id": "SBICiwXH80fz",
        "outputId": "4d2e45e4-0b0d-4efb-aa2f-4c11ee807168"
      },
      "execution_count": 36,
      "outputs": [
        {
          "output_type": "execute_result",
          "data": {
            "text/plain": [
              "5.553299000000001"
            ]
          },
          "metadata": {},
          "execution_count": 36
        }
      ]
    }
  ]
}