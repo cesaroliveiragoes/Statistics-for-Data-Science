{
  "nbformat": 4,
  "nbformat_minor": 0,
  "metadata": {
    "colab": {
      "provenance": [],
      "authorship_tag": "ABX9TyNRMJCLHjcaheNjRDnCi27G",
      "include_colab_link": true
    },
    "kernelspec": {
      "name": "python3",
      "display_name": "Python 3"
    },
    "language_info": {
      "name": "python"
    }
  },
  "cells": [
    {
      "cell_type": "markdown",
      "metadata": {
        "id": "view-in-github",
        "colab_type": "text"
      },
      "source": [
        "<a href=\"https://colab.research.google.com/github/cesaroliveiragoes/Statistics-for-Data-Science/blob/main/class_08_Integrais_(04_08_2023).ipynb\" target=\"_parent\"><img src=\"https://colab.research.google.com/assets/colab-badge.svg\" alt=\"Open In Colab\"/></a>"
      ]
    },
    {
      "cell_type": "markdown",
      "source": [
        "##Aula de Integrais\n"
      ],
      "metadata": {
        "id": "TaQuFS7UqeVP"
      }
    },
    {
      "cell_type": "code",
      "source": [
        "import numpy as np\n",
        "import pandas as pd\n",
        "import matplotlib.pyplot as plt\n",
        "import sympy as sp"
      ],
      "metadata": {
        "id": "aet6X9ZPq9iX"
      },
      "execution_count": null,
      "outputs": []
    },
    {
      "cell_type": "markdown",
      "source": [
        "Integrais na Raça\n"
      ],
      "metadata": {
        "id": "8At9qVWaOlfy"
      }
    },
    {
      "cell_type": "markdown",
      "source": [
        "- Parametros Iniciais"
      ],
      "metadata": {
        "id": "PeulRiCIP0Rj"
      }
    },
    {
      "cell_type": "code",
      "source": [
        "a = 0\n",
        "b = 24\n",
        "n = 8\n",
        "dx = (b - a) / n"
      ],
      "metadata": {
        "id": "MIJaoVXdNr9a"
      },
      "execution_count": null,
      "outputs": []
    },
    {
      "cell_type": "code",
      "source": [
        "dx"
      ],
      "metadata": {
        "colab": {
          "base_uri": "https://localhost:8080/"
        },
        "id": "8tHTGOK3NsAJ",
        "outputId": "eb4cc410-4a03-43c2-df8c-7eff155a914d"
      },
      "execution_count": null,
      "outputs": [
        {
          "output_type": "execute_result",
          "data": {
            "text/plain": [
              "3.0"
            ]
          },
          "metadata": {},
          "execution_count": 147
        }
      ]
    },
    {
      "cell_type": "markdown",
      "source": [
        "- Eixo X"
      ],
      "metadata": {
        "id": "SVAsHn6xP40G"
      }
    },
    {
      "cell_type": "code",
      "source": [
        "eixo_x = np.arange(a, b+dx, dx)\n",
        "eixo_x"
      ],
      "metadata": {
        "colab": {
          "base_uri": "https://localhost:8080/"
        },
        "id": "kotA6CsCNsDh",
        "outputId": "a2e321fa-d694-4912-a27e-84b92058fba4"
      },
      "execution_count": null,
      "outputs": [
        {
          "output_type": "execute_result",
          "data": {
            "text/plain": [
              "array([ 0.,  3.,  6.,  9., 12., 15., 18., 21., 24.])"
            ]
          },
          "metadata": {},
          "execution_count": 148
        }
      ]
    },
    {
      "cell_type": "markdown",
      "source": [
        "- Eixo Y"
      ],
      "metadata": {
        "id": "hXsh3Cg6P828"
      }
    },
    {
      "cell_type": "code",
      "source": [
        "x = sp.Symbol('x')\n",
        "x"
      ],
      "metadata": {
        "colab": {
          "base_uri": "https://localhost:8080/",
          "height": 38
        },
        "id": "1b4-ZsCKNsGq",
        "outputId": "3962f5bc-020d-44c1-8d1a-639ec85f6508"
      },
      "execution_count": null,
      "outputs": [
        {
          "output_type": "execute_result",
          "data": {
            "text/plain": [
              "x"
            ],
            "text/latex": "$\\displaystyle x$"
          },
          "metadata": {},
          "execution_count": 149
        }
      ]
    },
    {
      "cell_type": "code",
      "source": [
        "fx = 2*x**2\n",
        "fx"
      ],
      "metadata": {
        "colab": {
          "base_uri": "https://localhost:8080/",
          "height": 38
        },
        "id": "A37b9XZbNsJd",
        "outputId": "2745ec06-dfb7-492f-84af-dd92ace50800"
      },
      "execution_count": null,
      "outputs": [
        {
          "output_type": "execute_result",
          "data": {
            "text/plain": [
              "2*x**2"
            ],
            "text/latex": "$\\displaystyle 2 x^{2}$"
          },
          "metadata": {},
          "execution_count": 150
        }
      ]
    },
    {
      "cell_type": "code",
      "source": [
        "fx_calc = sp.lambdify(x, fx)"
      ],
      "metadata": {
        "id": "t4HVi77VNsL0"
      },
      "execution_count": null,
      "outputs": []
    },
    {
      "cell_type": "code",
      "source": [
        "eixo_y = fx_calc(eixo_x)\n",
        "eixo_y"
      ],
      "metadata": {
        "colab": {
          "base_uri": "https://localhost:8080/"
        },
        "id": "6oJI9bq-QQYn",
        "outputId": "929a2317-3829-4240-98ef-5b22690e2748"
      },
      "execution_count": null,
      "outputs": [
        {
          "output_type": "execute_result",
          "data": {
            "text/plain": [
              "array([   0.,   18.,   72.,  162.,  288.,  450.,  648.,  882., 1152.])"
            ]
          },
          "metadata": {},
          "execution_count": 152
        }
      ]
    },
    {
      "cell_type": "markdown",
      "source": [
        "- Gráfico"
      ],
      "metadata": {
        "id": "dTflQqOXRFpf"
      }
    },
    {
      "cell_type": "code",
      "source": [
        "plt.bar(x = eixo_x, height = eixo_y, width=2) #grafico barras\n",
        "plt.plot(eixo_x, eixo_y, color='k') #grafico de linhas\n",
        "plt.show()"
      ],
      "metadata": {
        "colab": {
          "base_uri": "https://localhost:8080/",
          "height": 432
        },
        "id": "y34BxjVcQQbJ",
        "outputId": "f64f0512-2594-4a00-8661-655a7415984f"
      },
      "execution_count": null,
      "outputs": [
        {
          "output_type": "display_data",
          "data": {
            "text/plain": [
              "<Figure size 640x480 with 1 Axes>"
            ],
            "image/png": "[encoded data removed]"
          },
          "metadata": {}
        }
      ]
    },
    {
      "cell_type": "markdown",
      "source": [
        "- Obter área"
      ],
      "metadata": {
        "id": "bA6-9S9HSMcd"
      }
    },
    {
      "cell_type": "code",
      "source": [
        "np.sum(dx * eixo_y)"
      ],
      "metadata": {
        "colab": {
          "base_uri": "https://localhost:8080/"
        },
        "id": "eKyIWODaQQdg",
        "outputId": "43906c21-d994-4b4b-d8a6-aaf18345de7b"
      },
      "execution_count": null,
      "outputs": [
        {
          "output_type": "execute_result",
          "data": {
            "text/plain": [
              "11016.0"
            ]
          },
          "metadata": {},
          "execution_count": 154
        }
      ]
    },
    {
      "cell_type": "markdown",
      "source": [
        "Área por integrais"
      ],
      "metadata": {
        "id": "_T1Pg2w4ScxV"
      }
    },
    {
      "cell_type": "markdown",
      "source": [
        "- Obter a integral"
      ],
      "metadata": {
        "id": "s5REMIjGS6EY"
      }
    },
    {
      "cell_type": "code",
      "source": [
        "Fx = sp.integrate(fx)\n",
        "Fx"
      ],
      "metadata": {
        "colab": {
          "base_uri": "https://localhost:8080/",
          "height": 54
        },
        "id": "X42SOt5CSTcq",
        "outputId": "4432e227-aefa-4f59-c583-62e0b0a29ce2"
      },
      "execution_count": null,
      "outputs": [
        {
          "output_type": "execute_result",
          "data": {
            "text/plain": [
              "2*x**3/3"
            ],
            "text/latex": "$\\displaystyle \\frac{2 x^{3}}{3}$"
          },
          "metadata": {},
          "execution_count": 155
        }
      ]
    },
    {
      "cell_type": "code",
      "source": [
        "Fx_calc = sp.lambdify(x, Fx)"
      ],
      "metadata": {
        "id": "pfym0sdnS3sU"
      },
      "execution_count": null,
      "outputs": []
    },
    {
      "cell_type": "markdown",
      "source": [
        "- Área pela integral"
      ],
      "metadata": {
        "id": "DiDYsa57TQhp"
      }
    },
    {
      "cell_type": "code",
      "source": [
        "Fx_calc(b) - Fx_calc(a)"
      ],
      "metadata": {
        "colab": {
          "base_uri": "https://localhost:8080/"
        },
        "id": "uTzPd_H8TL57",
        "outputId": "c1f6a97e-976c-492a-8bbb-6504cd24cb32"
      },
      "execution_count": null,
      "outputs": [
        {
          "output_type": "execute_result",
          "data": {
            "text/plain": [
              "9216.0"
            ]
          },
          "metadata": {},
          "execution_count": 157
        }
      ]
    },
    {
      "cell_type": "markdown",
      "source": [
        "Integral de forma direta pela função\n"
      ],
      "metadata": {
        "id": "6Ou4ehEJU0Cs"
      }
    },
    {
      "cell_type": "code",
      "source": [
        "sp.integrate(fx, (x, a, b))"
      ],
      "metadata": {
        "colab": {
          "base_uri": "https://localhost:8080/",
          "height": 37
        },
        "id": "G-6hxQbGTbvE",
        "outputId": "204d131a-fa84-45f1-ba93-c2fc52b5176c"
      },
      "execution_count": null,
      "outputs": [
        {
          "output_type": "execute_result",
          "data": {
            "text/plain": [
              "9216"
            ],
            "text/latex": "$\\displaystyle 9216$"
          },
          "metadata": {},
          "execution_count": 158
        }
      ]
    },
    {
      "cell_type": "code",
      "source": [],
      "metadata": {
        "id": "Zke_eZ7fU91o"
      },
      "execution_count": null,
      "outputs": []
    }
  ]
}