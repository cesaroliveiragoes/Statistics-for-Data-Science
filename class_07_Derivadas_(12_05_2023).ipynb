{
  "nbformat": 4,
  "nbformat_minor": 0,
  "metadata": {
    "colab": {
      "provenance": [],
      "authorship_tag": "ABX9TyPwveQ0SW176BbRuqEclGWX",
      "include_colab_link": true
    },
    "kernelspec": {
      "name": "python3",
      "display_name": "Python 3"
    },
    "language_info": {
      "name": "python"
    }
  },
  "cells": [
    {
      "cell_type": "markdown",
      "metadata": {
        "id": "view-in-github",
        "colab_type": "text"
      },
      "source": [
        "<a href=\"https://colab.research.google.com/github/cesaroliveiragoes/Statistics-for-Data-Science/blob/main/class_07_Derivadas_(12_05_2023).ipynb\" target=\"_parent\"><img src=\"https://colab.research.google.com/assets/colab-badge.svg\" alt=\"Open In Colab\"/></a>"
      ]
    },
    {
      "cell_type": "markdown",
      "source": [
        "#Derivadas no python"
      ],
      "metadata": {
        "id": "99Uip4EzL9XT"
      }
    },
    {
      "cell_type": "markdown",
      "source": [
        "# Bibliotecas"
      ],
      "metadata": {
        "id": "kA3dOERUmjwv"
      }
    },
    {
      "cell_type": "code",
      "source": [
        "import numpy as np\n",
        "import pandas as pd\n",
        "import sympy as sp\n",
        "import matplotlib.pyplot as plt"
      ],
      "metadata": {
        "id": "uwYgr4simfwg"
      },
      "execution_count": null,
      "outputs": []
    },
    {
      "cell_type": "markdown",
      "source": [
        "# Exemplos"
      ],
      "metadata": {
        "id": "XhIerVu6m06a"
      }
    },
    {
      "cell_type": "markdown",
      "source": [
        "Exemplo 1 - Regra da Constante"
      ],
      "metadata": {
        "id": "HW8AJsBhm50Z"
      }
    },
    {
      "cell_type": "code",
      "source": [
        "# regra da constante\n",
        "\n",
        "x = 3\n",
        "sp.diff(x)"
      ],
      "metadata": {
        "colab": {
          "base_uri": "https://localhost:8080/",
          "height": 37
        },
        "id": "x5cJT9C2mxla",
        "outputId": "435e59fa-8e0d-4d2f-8bd1-e690fb5b44fb"
      },
      "execution_count": null,
      "outputs": [
        {
          "output_type": "execute_result",
          "data": {
            "text/plain": [
              "0"
            ],
            "text/latex": "$\\displaystyle 0$"
          },
          "metadata": {},
          "execution_count": 2
        }
      ]
    },
    {
      "cell_type": "markdown",
      "source": [
        "Exemplo 2 - Regra da Potência"
      ],
      "metadata": {
        "id": "KycxbhVOnNO0"
      }
    },
    {
      "cell_type": "code",
      "source": [
        "# definir o simbolo\n",
        "\n",
        "x = sp.Symbol('x')"
      ],
      "metadata": {
        "id": "-wBfBQ3OnH2G"
      },
      "execution_count": null,
      "outputs": []
    },
    {
      "cell_type": "code",
      "source": [
        "# definir equação\n",
        "\n",
        "funcao = x**2\n",
        "funcao"
      ],
      "metadata": {
        "colab": {
          "base_uri": "https://localhost:8080/",
          "height": 38
        },
        "id": "KNjA3cexnZuW",
        "outputId": "13504ce5-e1c4-41b9-aa8f-ea6a21521f22"
      },
      "execution_count": null,
      "outputs": [
        {
          "output_type": "execute_result",
          "data": {
            "text/plain": [
              "x**2"
            ],
            "text/latex": "$\\displaystyle x^{2}$"
          },
          "metadata": {},
          "execution_count": 26
        }
      ]
    },
    {
      "cell_type": "code",
      "source": [
        "# encontrar derivada\n",
        "\n",
        "derivada_funcao = sp.diff(funcao)\n",
        "derivada_funcao"
      ],
      "metadata": {
        "colab": {
          "base_uri": "https://localhost:8080/",
          "height": 38
        },
        "id": "ScKIOQHTnj9h",
        "outputId": "c142f668-5633-4a15-9ce0-41a53e7b83a1"
      },
      "execution_count": null,
      "outputs": [
        {
          "output_type": "execute_result",
          "data": {
            "text/plain": [
              "3*x**2"
            ],
            "text/latex": "$\\displaystyle 3 x^{2}$"
          },
          "metadata": {},
          "execution_count": 25
        }
      ]
    },
    {
      "cell_type": "code",
      "source": [
        "# grafico funcao original\n",
        "\n",
        "sp.plot(funcao)"
      ],
      "metadata": {
        "colab": {
          "base_uri": "https://localhost:8080/",
          "height": 501
        },
        "id": "PJ6xRRvvnqaC",
        "outputId": "186bce7e-6550-4b60-a192-8c117d721dc9"
      },
      "execution_count": null,
      "outputs": [
        {
          "output_type": "display_data",
          "data": {
            "text/plain": [
              "<Figure size 640x480 with 1 Axes>"
            ],
            "image/png": "[encoded data removed]"
          },
          "metadata": {}
        },
        {
          "output_type": "execute_result",
          "data": {
            "text/plain": [
              "<sympy.plotting.plot.Plot at 0x7f879f4c6770>"
            ]
          },
          "metadata": {},
          "execution_count": 6
        }
      ]
    },
    {
      "cell_type": "code",
      "source": [
        "#grafico funcao derivada\n",
        "\n",
        "sp.plot(derivada_funcao)"
      ],
      "metadata": {
        "colab": {
          "base_uri": "https://localhost:8080/",
          "height": 504
        },
        "id": "JADntqPfn9fT",
        "outputId": "f56cc8b3-88d4-4575-c15d-425c971090df"
      },
      "execution_count": null,
      "outputs": [
        {
          "output_type": "display_data",
          "data": {
            "text/plain": [
              "<Figure size 640x480 with 1 Axes>"
            ],
            "image/png": "[encoded data removed]"
          },
          "metadata": {}
        },
        {
          "output_type": "execute_result",
          "data": {
            "text/plain": [
              "<sympy.plotting.plot.Plot at 0x7f879cf7b910>"
            ]
          },
          "metadata": {},
          "execution_count": 7
        }
      ]
    },
    {
      "cell_type": "markdown",
      "source": [
        "Exemplo 3 - Regra da Multiplicação"
      ],
      "metadata": {
        "id": "x_0AW8DroVd7"
      }
    },
    {
      "cell_type": "code",
      "source": [
        "# definir o simbolo\n",
        "\n",
        "x = sp.Symbol('x')"
      ],
      "metadata": {
        "id": "7JUJiKG6oF3M"
      },
      "execution_count": null,
      "outputs": []
    },
    {
      "cell_type": "code",
      "source": [
        "# definir a equação\n",
        "\n",
        "funcao = (x**2+3) * (2*x+1)\n",
        "funcao"
      ],
      "metadata": {
        "colab": {
          "base_uri": "https://localhost:8080/",
          "height": 38
        },
        "id": "7C5v_akYoeM-",
        "outputId": "5078c012-6957-4dde-e4e3-41599575db89"
      },
      "execution_count": null,
      "outputs": [
        {
          "output_type": "execute_result",
          "data": {
            "text/plain": [
              "(2*x + 1)*(x**2 + 3)"
            ],
            "text/latex": "$\\displaystyle \\left(2 x + 1\\right) \\left(x^{2} + 3\\right)$"
          },
          "metadata": {},
          "execution_count": 9
        }
      ]
    },
    {
      "cell_type": "code",
      "source": [
        "# encontrar a derivada\n",
        "funcao_derivada = sp.diff(funcao)\n",
        "funcao_derivada"
      ],
      "metadata": {
        "colab": {
          "base_uri": "https://localhost:8080/",
          "height": 38
        },
        "id": "pMysjdz-ooU2",
        "outputId": "174b3c15-1995-4e7b-fdd7-c631caee114b"
      },
      "execution_count": null,
      "outputs": [
        {
          "output_type": "execute_result",
          "data": {
            "text/plain": [
              "2*x**2 + 2*x*(2*x + 1) + 6"
            ],
            "text/latex": "$\\displaystyle 2 x^{2} + 2 x \\left(2 x + 1\\right) + 6$"
          },
          "metadata": {},
          "execution_count": 10
        }
      ]
    },
    {
      "cell_type": "code",
      "source": [
        "# simplificar a funcao\n",
        "\n",
        "sp.simplify(funcao_derivada)"
      ],
      "metadata": {
        "colab": {
          "base_uri": "https://localhost:8080/",
          "height": 38
        },
        "id": "0FjD6sGIoxNP",
        "outputId": "6e577dec-346b-44fa-8884-bdc176817161"
      },
      "execution_count": null,
      "outputs": [
        {
          "output_type": "execute_result",
          "data": {
            "text/plain": [
              "6*x**2 + 2*x + 6"
            ],
            "text/latex": "$\\displaystyle 6 x^{2} + 2 x + 6$"
          },
          "metadata": {},
          "execution_count": 11
        }
      ]
    },
    {
      "cell_type": "markdown",
      "source": [
        "Exemplo 4 - Regra da divisão"
      ],
      "metadata": {
        "id": "tF7QQ3MNpS74"
      }
    },
    {
      "cell_type": "code",
      "source": [
        "# definir o simbolo\n",
        "\n",
        "x = sp.Symbol('x')"
      ],
      "metadata": {
        "id": "ubUT0uqWpCvH"
      },
      "execution_count": null,
      "outputs": []
    },
    {
      "cell_type": "code",
      "source": [
        "# definir a equação\n",
        "\n",
        "funcao = (3*x**2 + 1) / (2*x - 1)\n",
        "funcao\n",
        "\n"
      ],
      "metadata": {
        "colab": {
          "base_uri": "https://localhost:8080/",
          "height": 55
        },
        "id": "HR80NzHxpYm-",
        "outputId": "fe9130a5-67be-4942-e915-bd8b81e5fd43"
      },
      "execution_count": null,
      "outputs": [
        {
          "output_type": "execute_result",
          "data": {
            "text/plain": [
              "(3*x**2 + 1)/(2*x - 1)"
            ],
            "text/latex": "$\\displaystyle \\frac{3 x^{2} + 1}{2 x - 1}$"
          },
          "metadata": {},
          "execution_count": 13
        }
      ]
    },
    {
      "cell_type": "code",
      "source": [
        "# encontrar a derivada\n",
        "\n",
        "funcao_derivada = sp.diff(funcao)\n",
        "funcao_derivada"
      ],
      "metadata": {
        "colab": {
          "base_uri": "https://localhost:8080/",
          "height": 62
        },
        "id": "Siq5qa0ctJVt",
        "outputId": "70f34b12-7988-421a-dada-5b6914532819"
      },
      "execution_count": null,
      "outputs": [
        {
          "output_type": "execute_result",
          "data": {
            "text/plain": [
              "6*x/(2*x - 1) - 2*(3*x**2 + 1)/(2*x - 1)**2"
            ],
            "text/latex": "$\\displaystyle \\frac{6 x}{2 x - 1} - \\frac{2 \\cdot \\left(3 x^{2} + 1\\right)}{\\left(2 x - 1\\right)^{2}}$"
          },
          "metadata": {},
          "execution_count": 14
        }
      ]
    },
    {
      "cell_type": "code",
      "source": [
        "# simplificar a funcao\n",
        "\n",
        "sp.simplify(funcao_derivada)"
      ],
      "metadata": {
        "colab": {
          "base_uri": "https://localhost:8080/",
          "height": 57
        },
        "id": "PbGx_GR_tdEN",
        "outputId": "446f4783-411f-45b5-8686-8f6239af63a3"
      },
      "execution_count": null,
      "outputs": [
        {
          "output_type": "execute_result",
          "data": {
            "text/plain": [
              "2*(3*x**2 - 3*x - 1)/(4*x**2 - 4*x + 1)"
            ],
            "text/latex": "$\\displaystyle \\frac{2 \\cdot \\left(3 x^{2} - 3 x - 1\\right)}{4 x^{2} - 4 x + 1}$"
          },
          "metadata": {},
          "execution_count": 15
        }
      ]
    },
    {
      "cell_type": "markdown",
      "source": [
        "Exemplo 5 - Regra do Logaritimo"
      ],
      "metadata": {
        "id": "1GwAw8ezuAEE"
      }
    },
    {
      "cell_type": "code",
      "source": [
        "# definir o simbolo\n",
        "\n",
        "x = sp.Symbol('x')"
      ],
      "metadata": {
        "id": "LoOTUIkytua1"
      },
      "execution_count": null,
      "outputs": []
    },
    {
      "cell_type": "code",
      "source": [
        "# definir equacao\n",
        "\n",
        "funcao = x * sp.log(x)\n",
        "funcao"
      ],
      "metadata": {
        "colab": {
          "base_uri": "https://localhost:8080/",
          "height": 38
        },
        "id": "Xxs5lSOeuLFE",
        "outputId": "7af0f1e3-c3f6-4760-cee7-3250a3915952"
      },
      "execution_count": null,
      "outputs": [
        {
          "output_type": "execute_result",
          "data": {
            "text/plain": [
              "x*log(x)"
            ],
            "text/latex": "$\\displaystyle x \\log{\\left(x \\right)}$"
          },
          "metadata": {},
          "execution_count": 17
        }
      ]
    },
    {
      "cell_type": "code",
      "source": [
        "# encontrar a derivada\n",
        "\n",
        "funcao_derivada = sp.diff(funcao)\n",
        "funcao_derivada"
      ],
      "metadata": {
        "colab": {
          "base_uri": "https://localhost:8080/",
          "height": 38
        },
        "id": "dk4LTcjvu2Hk",
        "outputId": "909ff5d6-458f-4387-c1cc-83866ba09ebf"
      },
      "execution_count": null,
      "outputs": [
        {
          "output_type": "execute_result",
          "data": {
            "text/plain": [
              "log(x) + 1"
            ],
            "text/latex": "$\\displaystyle \\log{\\left(x \\right)} + 1$"
          },
          "metadata": {},
          "execution_count": 18
        }
      ]
    },
    {
      "cell_type": "code",
      "source": [
        "# simplificar a funcao\n",
        "\n",
        "sp.simplify(funcao_derivada)"
      ],
      "metadata": {
        "colab": {
          "base_uri": "https://localhost:8080/",
          "height": 38
        },
        "id": "1CszupvnvDWZ",
        "outputId": "ac50fdeb-674e-4b1d-cc18-e01bdb35b62a"
      },
      "execution_count": null,
      "outputs": [
        {
          "output_type": "execute_result",
          "data": {
            "text/plain": [
              "log(x) + 1"
            ],
            "text/latex": "$\\displaystyle \\log{\\left(x \\right)} + 1$"
          },
          "metadata": {},
          "execution_count": 19
        }
      ]
    },
    {
      "cell_type": "markdown",
      "source": [
        "Exemplo 6 - Regra Exponencial"
      ],
      "metadata": {
        "id": "Wy0W2KnZvNaB"
      }
    },
    {
      "cell_type": "code",
      "source": [
        "# definir o simbolo\n",
        "\n",
        "x = sp.Symbol('x')"
      ],
      "metadata": {
        "id": "fItYFL7DvRTl"
      },
      "execution_count": null,
      "outputs": []
    },
    {
      "cell_type": "code",
      "source": [
        "# definir equacao\n",
        "\n",
        "funcao = x * sp.exp(2*x)\n",
        "funcao"
      ],
      "metadata": {
        "colab": {
          "base_uri": "https://localhost:8080/",
          "height": 38
        },
        "id": "OgEtHrPFvRZI",
        "outputId": "795b9569-9a55-419b-f096-34b61331dbcc"
      },
      "execution_count": null,
      "outputs": [
        {
          "output_type": "execute_result",
          "data": {
            "text/plain": [
              "x*exp(2*x)"
            ],
            "text/latex": "$\\displaystyle x e^{2 x}$"
          },
          "metadata": {},
          "execution_count": 21
        }
      ]
    },
    {
      "cell_type": "code",
      "source": [
        "# encontrar a derivada\n",
        "\n",
        "funcao_derivada = sp.diff(funcao)\n",
        "funcao_derivada"
      ],
      "metadata": {
        "id": "o4_mQGOavaC4",
        "colab": {
          "base_uri": "https://localhost:8080/",
          "height": 38
        },
        "outputId": "cae00619-b0cc-43df-b802-ed7c0591620d"
      },
      "execution_count": null,
      "outputs": [
        {
          "output_type": "execute_result",
          "data": {
            "text/plain": [
              "2*x*exp(2*x) + exp(2*x)"
            ],
            "text/latex": "$\\displaystyle 2 x e^{2 x} + e^{2 x}$"
          },
          "metadata": {},
          "execution_count": 22
        }
      ]
    },
    {
      "cell_type": "markdown",
      "source": [
        ". Transformar a função simbolica em numérica"
      ],
      "metadata": {
        "id": "KvtPrAfUpfVf"
      }
    },
    {
      "cell_type": "code",
      "source": [],
      "metadata": {
        "id": "rkETDKuNvCUR"
      },
      "execution_count": null,
      "outputs": []
    },
    {
      "cell_type": "code",
      "source": [
        "funcao_derivada(2)"
      ],
      "metadata": {
        "colab": {
          "base_uri": "https://localhost:8080/",
          "height": 165
        },
        "id": "2zpmTeDLpeh_",
        "outputId": "48555d23-f655-4205-9b38-289d7ac02fe7"
      },
      "execution_count": null,
      "outputs": [
        {
          "output_type": "error",
          "ename": "TypeError",
          "evalue": "ignored",
          "traceback": [
            "\u001b[0;31m---------------------------------------------------------------------------\u001b[0m",
            "\u001b[0;31mTypeError\u001b[0m                                 Traceback (most recent call last)",
            "\u001b[0;32m<ipython-input-23-def21373b76c>\u001b[0m in \u001b[0;36m<cell line: 1>\u001b[0;34m()\u001b[0m\n\u001b[0;32m----> 1\u001b[0;31m \u001b[0mfuncao_derivada\u001b[0m\u001b[0;34m(\u001b[0m\u001b[0;36m2\u001b[0m\u001b[0;34m)\u001b[0m\u001b[0;34m\u001b[0m\u001b[0;34m\u001b[0m\u001b[0m\n\u001b[0m",
            "\u001b[0;31mTypeError\u001b[0m: 'Add' object is not callable"
          ]
        }
      ]
    },
    {
      "cell_type": "code",
      "source": [
        "funcao_derivada_calc = sp.lambdify(x, funcao_derivada)"
      ],
      "metadata": {
        "id": "A9YbjXdApyGw"
      },
      "execution_count": null,
      "outputs": []
    },
    {
      "cell_type": "code",
      "source": [
        "funcao_derivada_calc(2)"
      ],
      "metadata": {
        "id": "pHAoX_K0pzhL"
      },
      "execution_count": null,
      "outputs": []
    },
    {
      "cell_type": "markdown",
      "source": [
        "Exemplo do Lucro"
      ],
      "metadata": {
        "id": "P6sabQ5AqTXp"
      }
    },
    {
      "cell_type": "code",
      "source": [
        "# definir o simbolo\n",
        "\n",
        "p = sp.Symbol('p')\n",
        "p"
      ],
      "metadata": {
        "id": "hgB3FmGhqIW6"
      },
      "execution_count": null,
      "outputs": []
    },
    {
      "cell_type": "code",
      "source": [
        "#definir a equação\n",
        "\n",
        "funcao_lucro = -2 * p**2 + 50.4 * p - 10\n",
        "funcao_lucro"
      ],
      "metadata": {
        "id": "S3yxsuSOqc2L"
      },
      "execution_count": null,
      "outputs": []
    },
    {
      "cell_type": "code",
      "source": [
        "# encontrar a derivada\n",
        "\n",
        "funcao_lucro_derivada = sp.diff(funcao_lucro)\n",
        "funcao_lucro_derivada"
      ],
      "metadata": {
        "id": "-tG7uRY3qtpz"
      },
      "execution_count": null,
      "outputs": []
    },
    {
      "cell_type": "code",
      "source": [
        "# encontrar o melhor preço\n",
        "\n",
        "sp.solve(funcao_lucro_derivada)"
      ],
      "metadata": {
        "id": "z1nlwUfTq2Fs"
      },
      "execution_count": null,
      "outputs": []
    },
    {
      "cell_type": "markdown",
      "source": [
        "- Gráfico do Lucro"
      ],
      "metadata": {
        "id": "iWnoQnwXrOoj"
      }
    },
    {
      "cell_type": "code",
      "source": [
        "funcao_lucro_calc = sp.lambdify(p, funcao_lucro)\n"
      ],
      "metadata": {
        "id": "7Fp3I_z4rAYs"
      },
      "execution_count": null,
      "outputs": []
    },
    {
      "cell_type": "code",
      "source": [
        "funcao_lucro_calc(12.6)"
      ],
      "metadata": {
        "id": "3zBOQv4QrXnF"
      },
      "execution_count": null,
      "outputs": []
    },
    {
      "cell_type": "code",
      "source": [
        "x = range(1,20)\n",
        "precos = list(x)\n",
        "precos"
      ],
      "metadata": {
        "id": "R5x2YtOurn4k"
      },
      "execution_count": null,
      "outputs": []
    },
    {
      "cell_type": "code",
      "source": [
        "lucros = [funcao_lucro_calc(p) for p in precos]\n",
        ""
      ],
      "metadata": {
        "id": "v5NdscgirxEm"
      },
      "execution_count": null,
      "outputs": []
    },
    {
      "cell_type": "code",
      "source": [
        "plt.plot(precos, lucros)"
      ],
      "metadata": {
        "id": "zP-u662GsFVN"
      },
      "execution_count": null,
      "outputs": []
    }
  ]
}