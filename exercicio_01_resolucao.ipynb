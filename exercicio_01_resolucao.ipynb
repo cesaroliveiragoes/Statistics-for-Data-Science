{
  "nbformat": 4,
  "nbformat_minor": 0,
  "metadata": {
    "colab": {
      "provenance": [],
      "authorship_tag": "ABX9TyOolAjjbrCdSNgPJ87OPPi1",
      "include_colab_link": true
    },
    "kernelspec": {
      "name": "python3",
      "display_name": "Python 3"
    },
    "language_info": {
      "name": "python"
    }
  },
  "cells": [
    {
      "cell_type": "markdown",
      "metadata": {
        "id": "view-in-github",
        "colab_type": "text"
      },
      "source": [
        "<a href=\"https://colab.research.google.com/github/cesaroliveiragoes/Statistics-for-Data-Science/blob/main/exercicio_01_resolucao.ipynb\" target=\"_parent\"><img src=\"https://colab.research.google.com/assets/colab-badge.svg\" alt=\"Open In Colab\"/></a>"
      ]
    },
    {
      "cell_type": "markdown",
      "source": [
        "## Resolução"
      ],
      "metadata": {
        "id": "y68LCVAItaVw"
      }
    },
    {
      "cell_type": "code",
      "source": [
        "import numpy as np\n",
        "import random as rnd"
      ],
      "metadata": {
        "id": "nNul5sPDtfDG"
      },
      "execution_count": null,
      "outputs": []
    },
    {
      "cell_type": "markdown",
      "source": [
        "Questão 1"
      ],
      "metadata": {
        "id": "bkOHLuYD3DHS"
      }
    },
    {
      "cell_type": "code",
      "source": [
        "def znorm(x):\n",
        "  res = (x-min(x)) / (max(x) - min(x))\n",
        "  return res"
      ],
      "metadata": {
        "id": "YTRuSgNptnou"
      },
      "execution_count": null,
      "outputs": []
    },
    {
      "cell_type": "code",
      "source": [
        "znorm (np.array([1, 4, 10]))"
      ],
      "metadata": {
        "colab": {
          "base_uri": "https://localhost:8080/"
        },
        "id": "gHgV4oeauiuH",
        "outputId": "6cfd4d28-86d8-45e5-de43-03e423cc3111"
      },
      "execution_count": null,
      "outputs": [
        {
          "output_type": "execute_result",
          "data": {
            "text/plain": [
              "array([0.        , 0.33333333, 1.        ])"
            ]
          },
          "metadata": {},
          "execution_count": 3
        }
      ]
    },
    {
      "cell_type": "markdown",
      "source": [
        "Questao 2"
      ],
      "metadata": {
        "id": "pRVSWLyrwmbW"
      }
    },
    {
      "cell_type": "code",
      "source": [
        "vetorA = np.array(list(range(1,21)))\n",
        "vetorA"
      ],
      "metadata": {
        "colab": {
          "base_uri": "https://localhost:8080/"
        },
        "id": "EsIp3jBMxQh3",
        "outputId": "01c0e33c-af0c-4e31-f2ee-d96c9573535e"
      },
      "execution_count": null,
      "outputs": [
        {
          "output_type": "execute_result",
          "data": {
            "text/plain": [
              "array([ 1,  2,  3,  4,  5,  6,  7,  8,  9, 10, 11, 12, 13, 14, 15, 16, 17,\n",
              "       18, 19, 20])"
            ]
          },
          "metadata": {},
          "execution_count": 6
        }
      ]
    },
    {
      "cell_type": "code",
      "source": [
        "vetorB = np.array(rnd.sample(range(1,21), 20))\n",
        "vetorB"
      ],
      "metadata": {
        "colab": {
          "base_uri": "https://localhost:8080/"
        },
        "id": "3phMSevMxkCA",
        "outputId": "860eb4cb-b356-4d25-f35b-d4b6cdfd4670"
      },
      "execution_count": null,
      "outputs": [
        {
          "output_type": "execute_result",
          "data": {
            "text/plain": [
              "array([18, 19, 14,  7, 17,  4, 16,  8, 20,  6,  9, 13,  1,  2,  3,  5, 12,\n",
              "       11, 10, 15])"
            ]
          },
          "metadata": {},
          "execution_count": 7
        }
      ]
    },
    {
      "cell_type": "markdown",
      "source": [
        "Questão 3"
      ],
      "metadata": {
        "id": "RsLJtaEtxxcR"
      }
    },
    {
      "cell_type": "code",
      "source": [
        "vetorA_norm = znorm(vetorA)\n",
        "vetorA_norm"
      ],
      "metadata": {
        "colab": {
          "base_uri": "https://localhost:8080/"
        },
        "id": "BkCHHv2Rx0Ig",
        "outputId": "a3bdfa71-7a03-41bd-f127-fcf0c93230c5"
      },
      "execution_count": null,
      "outputs": [
        {
          "output_type": "execute_result",
          "data": {
            "text/plain": [
              "array([0.        , 0.05263158, 0.10526316, 0.15789474, 0.21052632,\n",
              "       0.26315789, 0.31578947, 0.36842105, 0.42105263, 0.47368421,\n",
              "       0.52631579, 0.57894737, 0.63157895, 0.68421053, 0.73684211,\n",
              "       0.78947368, 0.84210526, 0.89473684, 0.94736842, 1.        ])"
            ]
          },
          "metadata": {},
          "execution_count": 9
        }
      ]
    },
    {
      "cell_type": "code",
      "source": [
        "vetorB_norm = znorm(vetorB)\n",
        "vetorB_norm"
      ],
      "metadata": {
        "colab": {
          "base_uri": "https://localhost:8080/"
        },
        "id": "fQ5EzavEyjKY",
        "outputId": "5251ea06-f3e6-4413-9639-216eb5ed6997"
      },
      "execution_count": null,
      "outputs": [
        {
          "output_type": "execute_result",
          "data": {
            "text/plain": [
              "array([0.89473684, 0.94736842, 0.68421053, 0.31578947, 0.84210526,\n",
              "       0.15789474, 0.78947368, 0.36842105, 1.        , 0.26315789,\n",
              "       0.42105263, 0.63157895, 0.        , 0.05263158, 0.10526316,\n",
              "       0.21052632, 0.57894737, 0.52631579, 0.47368421, 0.73684211])"
            ]
          },
          "metadata": {},
          "execution_count": 11
        }
      ]
    },
    {
      "cell_type": "markdown",
      "source": [
        "Questao 4"
      ],
      "metadata": {
        "id": "k-lU5s2FyyLq"
      }
    },
    {
      "cell_type": "code",
      "source": [
        "#sem transpose\n",
        "np.array([vetorA, vetorB]).shape\n"
      ],
      "metadata": {
        "colab": {
          "base_uri": "https://localhost:8080/"
        },
        "id": "LeYzLUmDy2Da",
        "outputId": "7fdd76e0-5dfb-4e36-9d31-7abeaf557025"
      },
      "execution_count": null,
      "outputs": [
        {
          "output_type": "execute_result",
          "data": {
            "text/plain": [
              "(2, 20)"
            ]
          },
          "metadata": {},
          "execution_count": 18
        }
      ]
    },
    {
      "cell_type": "code",
      "source": [
        "#com transpose\n",
        "matrizAB = np.transpose([vetorA, vetorB])\n",
        "matrizAB"
      ],
      "metadata": {
        "colab": {
          "base_uri": "https://localhost:8080/"
        },
        "id": "aiv_BMeb0qQA",
        "outputId": "947f08a1-2ca2-4e9b-abe3-92f83f299c5d"
      },
      "execution_count": null,
      "outputs": [
        {
          "output_type": "execute_result",
          "data": {
            "text/plain": [
              "array([[ 1, 18],\n",
              "       [ 2, 19],\n",
              "       [ 3, 14],\n",
              "       [ 4,  7],\n",
              "       [ 5, 17],\n",
              "       [ 6,  4],\n",
              "       [ 7, 16],\n",
              "       [ 8,  8],\n",
              "       [ 9, 20],\n",
              "       [10,  6],\n",
              "       [11,  9],\n",
              "       [12, 13],\n",
              "       [13,  1],\n",
              "       [14,  2],\n",
              "       [15,  3],\n",
              "       [16,  5],\n",
              "       [17, 12],\n",
              "       [18, 11],\n",
              "       [19, 10],\n",
              "       [20, 15]])"
            ]
          },
          "metadata": {},
          "execution_count": 19
        }
      ]
    },
    {
      "cell_type": "code",
      "source": [
        "matrizABnorm = np.transpose([vetorA_norm, vetorB_norm])\n",
        "matrizABnorm"
      ],
      "metadata": {
        "colab": {
          "base_uri": "https://localhost:8080/"
        },
        "id": "OZbwnTuA0_W3",
        "outputId": "e874e488-4ab9-41cb-c91e-d084c55f3edb"
      },
      "execution_count": null,
      "outputs": [
        {
          "output_type": "execute_result",
          "data": {
            "text/plain": [
              "array([[0.        , 0.89473684],\n",
              "       [0.05263158, 0.94736842],\n",
              "       [0.10526316, 0.68421053],\n",
              "       [0.15789474, 0.31578947],\n",
              "       [0.21052632, 0.84210526],\n",
              "       [0.26315789, 0.15789474],\n",
              "       [0.31578947, 0.78947368],\n",
              "       [0.36842105, 0.36842105],\n",
              "       [0.42105263, 1.        ],\n",
              "       [0.47368421, 0.26315789],\n",
              "       [0.52631579, 0.42105263],\n",
              "       [0.57894737, 0.63157895],\n",
              "       [0.63157895, 0.        ],\n",
              "       [0.68421053, 0.05263158],\n",
              "       [0.73684211, 0.10526316],\n",
              "       [0.78947368, 0.21052632],\n",
              "       [0.84210526, 0.57894737],\n",
              "       [0.89473684, 0.52631579],\n",
              "       [0.94736842, 0.47368421],\n",
              "       [1.        , 0.73684211]])"
            ]
          },
          "metadata": {},
          "execution_count": 20
        }
      ]
    },
    {
      "cell_type": "markdown",
      "source": [
        "Questão 5"
      ],
      "metadata": {
        "id": "8GcQl60n1Lkg"
      }
    },
    {
      "cell_type": "code",
      "source": [
        "matrizAB * matrizABnorm"
      ],
      "metadata": {
        "colab": {
          "base_uri": "https://localhost:8080/"
        },
        "id": "OmLwbJra1asx",
        "outputId": "de3abab7-4e83-44d1-8e77-084de072ed07"
      },
      "execution_count": null,
      "outputs": [
        {
          "output_type": "execute_result",
          "data": {
            "text/plain": [
              "array([[ 0.        , 16.10526316],\n",
              "       [ 0.10526316, 18.        ],\n",
              "       [ 0.31578947,  9.57894737],\n",
              "       [ 0.63157895,  2.21052632],\n",
              "       [ 1.05263158, 14.31578947],\n",
              "       [ 1.57894737,  0.63157895],\n",
              "       [ 2.21052632, 12.63157895],\n",
              "       [ 2.94736842,  2.94736842],\n",
              "       [ 3.78947368, 20.        ],\n",
              "       [ 4.73684211,  1.57894737],\n",
              "       [ 5.78947368,  3.78947368],\n",
              "       [ 6.94736842,  8.21052632],\n",
              "       [ 8.21052632,  0.        ],\n",
              "       [ 9.57894737,  0.10526316],\n",
              "       [11.05263158,  0.31578947],\n",
              "       [12.63157895,  1.05263158],\n",
              "       [14.31578947,  6.94736842],\n",
              "       [16.10526316,  5.78947368],\n",
              "       [18.        ,  4.73684211],\n",
              "       [20.        , 11.05263158]])"
            ]
          },
          "metadata": {},
          "execution_count": 22
        }
      ]
    },
    {
      "cell_type": "code",
      "source": [
        "#dot - forma 1\n",
        "matrizAB.dot(np.transpose(matrizABnorm)).shape\n"
      ],
      "metadata": {
        "colab": {
          "base_uri": "https://localhost:8080/"
        },
        "id": "FbvxGh4T18IC",
        "outputId": "6e347d7c-b8d6-418e-a798-b42c68117043"
      },
      "execution_count": null,
      "outputs": [
        {
          "output_type": "execute_result",
          "data": {
            "text/plain": [
              "(20, 20)"
            ]
          },
          "metadata": {},
          "execution_count": 27
        }
      ]
    },
    {
      "cell_type": "code",
      "source": [
        "#dot - forma 2\n",
        "np.transpose(matrizAB).dot(matrizABnorm)"
      ],
      "metadata": {
        "colab": {
          "base_uri": "https://localhost:8080/"
        },
        "id": "wGkf1wWa2xAv",
        "outputId": "34cc95f1-9fdd-4e77-d264-d98e3bb3de6f"
      },
      "execution_count": null,
      "outputs": [
        {
          "output_type": "execute_result",
          "data": {
            "text/plain": [
              "array([[140.        ,  92.31578947],\n",
              "       [ 92.31578947, 140.        ]])"
            ]
          },
          "metadata": {},
          "execution_count": 29
        }
      ]
    }
  ]
}