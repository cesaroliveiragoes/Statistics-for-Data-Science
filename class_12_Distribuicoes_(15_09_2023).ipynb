{
  "cells": [
    {
      "cell_type": "markdown",
      "metadata": {
        "id": "view-in-github",
        "colab_type": "text"
      },
      "source": [
        "<a href=\"https://colab.research.google.com/github/cesaroliveiragoes/Statistics-for-Data-Science/blob/main/class_12_Distribuicoes_(15_09_2023).ipynb\" target=\"_parent\"><img src=\"https://colab.research.google.com/assets/colab-badge.svg\" alt=\"Open In Colab\"/></a>"
      ]
    },
    {
      "cell_type": "markdown",
      "metadata": {
        "id": "p90s2TeBe0Sa"
      },
      "source": [
        "# Aula 06 - Exemplo Distribuições"
      ]
    },
    {
      "cell_type": "code",
      "execution_count": null,
      "metadata": {
        "id": "lO_hcA8He4Fy"
      },
      "outputs": [],
      "source": [
        "# gerais\n",
        "\n",
        "import pandas as pd\n",
        "import numpy as np\n",
        "import matplotlib.pyplot as plt\n",
        "\n",
        "#estatistica\n",
        "\n",
        "from scipy.stats import expon, norm, t, chi2, f"
      ]
    },
    {
      "cell_type": "markdown",
      "metadata": {
        "id": "0JlocmLdfkNf"
      },
      "source": [
        "## Exemplo Exponencial\n"
      ]
    },
    {
      "cell_type": "code",
      "execution_count": null,
      "metadata": {
        "id": "vriZ6ex1fTW_"
      },
      "outputs": [],
      "source": [
        "tempo_medio_vida = 76\n",
        "n = 300\n"
      ]
    },
    {
      "cell_type": "code",
      "execution_count": null,
      "metadata": {
        "id": "OQ1S6EACfn6P"
      },
      "outputs": [],
      "source": [
        "anos = np.arange(0, n+1)"
      ]
    },
    {
      "cell_type": "code",
      "execution_count": null,
      "metadata": {
        "id": "YDcZlGCPfn9o"
      },
      "outputs": [],
      "source": [
        "# pdf = probability distribution function\n",
        "probabilidades = expon.pdf(x = anos, scale = tempo_medio_vida)"
      ]
    },
    {
      "cell_type": "code",
      "execution_count": null,
      "metadata": {
        "colab": {
          "base_uri": "https://localhost:8080/",
          "height": 448
        },
        "id": "PLwX8cwMfoBZ",
        "outputId": "23015d04-22fc-4438-96a4-24ce3a05ce81"
      },
      "outputs": [
        {
          "data": {
            "text/plain": [
              "[<matplotlib.lines.Line2D at 0x78326a1e6b90>]"
            ]
          },
          "execution_count": 24,
          "metadata": {},
          "output_type": "execute_result"
        },
        {
          "data": {
            "image/png": "[encoded data removed]",
            "text/plain": [
              "<Figure size 640x480 with 1 Axes>"
            ]
          },
          "metadata": {},
          "output_type": "display_data"
        }
      ],
      "source": [
        "plt.bar(anos, probabilidades)\n",
        "plt.plot(anos, probabilidades, color = 'red')"
      ]
    },
    {
      "cell_type": "code",
      "execution_count": null,
      "metadata": {
        "colab": {
          "base_uri": "https://localhost:8080/"
        },
        "id": "U6bnSSNtgvln",
        "outputId": "405c9307-4c0e-4c09-d65b-937eab4ba6a8"
      },
      "outputs": [
        {
          "data": {
            "text/plain": [
              "0.8288609603224694"
            ]
          },
          "execution_count": 25,
          "metadata": {},
          "output_type": "execute_result"
        }
      ],
      "source": [
        "media_celular = 3\n",
        "1- expon.pdf(x = 2, scale = media_celular)"
      ]
    },
    {
      "cell_type": "markdown",
      "metadata": {
        "id": "8vmnsJKLi-2W"
      },
      "source": [
        "Normal"
      ]
    },
    {
      "cell_type": "code",
      "execution_count": null,
      "metadata": {
        "id": "5xQBen0Ggvn3"
      },
      "outputs": [],
      "source": [
        "media_altura = 175\n",
        "dp_altura = 20"
      ]
    },
    {
      "cell_type": "code",
      "execution_count": null,
      "metadata": {
        "id": "8TnE5gEpgvqP"
      },
      "outputs": [],
      "source": [
        "alturas = np.linspace(100, 250, 100)"
      ]
    },
    {
      "cell_type": "code",
      "execution_count": null,
      "metadata": {
        "colab": {
          "base_uri": "https://localhost:8080/"
        },
        "id": "F3RTKWn8gvsu",
        "outputId": "43bc2f8b-b9af-4c31-e670-f0879a7b2aaa"
      },
      "outputs": [
        {
          "data": {
            "text/plain": [
              "array([100.        , 101.51515152, 103.03030303, 104.54545455,\n",
              "       106.06060606, 107.57575758, 109.09090909, 110.60606061,\n",
              "       112.12121212, 113.63636364, 115.15151515, 116.66666667,\n",
              "       118.18181818, 119.6969697 , 121.21212121, 122.72727273,\n",
              "       124.24242424, 125.75757576, 127.27272727, 128.78787879,\n",
              "       130.3030303 , 131.81818182, 133.33333333, 134.84848485,\n",
              "       136.36363636, 137.87878788, 139.39393939, 140.90909091,\n",
              "       142.42424242, 143.93939394, 145.45454545, 146.96969697,\n",
              "       148.48484848, 150.        , 151.51515152, 153.03030303,\n",
              "       154.54545455, 156.06060606, 157.57575758, 159.09090909,\n",
              "       160.60606061, 162.12121212, 163.63636364, 165.15151515,\n",
              "       166.66666667, 168.18181818, 169.6969697 , 171.21212121,\n",
              "       172.72727273, 174.24242424, 175.75757576, 177.27272727,\n",
              "       178.78787879, 180.3030303 , 181.81818182, 183.33333333,\n",
              "       184.84848485, 186.36363636, 187.87878788, 189.39393939,\n",
              "       190.90909091, 192.42424242, 193.93939394, 195.45454545,\n",
              "       196.96969697, 198.48484848, 200.        , 201.51515152,\n",
              "       203.03030303, 204.54545455, 206.06060606, 207.57575758,\n",
              "       209.09090909, 210.60606061, 212.12121212, 213.63636364,\n",
              "       215.15151515, 216.66666667, 218.18181818, 219.6969697 ,\n",
              "       221.21212121, 222.72727273, 224.24242424, 225.75757576,\n",
              "       227.27272727, 228.78787879, 230.3030303 , 231.81818182,\n",
              "       233.33333333, 234.84848485, 236.36363636, 237.87878788,\n",
              "       239.39393939, 240.90909091, 242.42424242, 243.93939394,\n",
              "       245.45454545, 246.96969697, 248.48484848, 250.        ])"
            ]
          },
          "execution_count": 48,
          "metadata": {},
          "output_type": "execute_result"
        }
      ],
      "source": [
        "alturas"
      ]
    },
    {
      "cell_type": "code",
      "execution_count": null,
      "metadata": {
        "id": "Z_FsAGmOgvvJ"
      },
      "outputs": [],
      "source": [
        "probabilidades = norm.pdf(x = alturas, loc = media_altura, scale = dp_altura)"
      ]
    },
    {
      "cell_type": "code",
      "execution_count": null,
      "metadata": {
        "colab": {
          "base_uri": "https://localhost:8080/",
          "height": 448
        },
        "id": "M0AmQebBj730",
        "outputId": "0f8f1fb3-3592-4877-d6c3-0982e456a467"
      },
      "outputs": [
        {
          "data": {
            "text/plain": [
              "[<matplotlib.lines.Line2D at 0x783269cdd540>]"
            ]
          },
          "execution_count": 50,
          "metadata": {},
          "output_type": "execute_result"
        },
        {
          "data": {
            "image/png": "[encoded data removed]",
            "text/plain": [
              "<Figure size 640x480 with 1 Axes>"
            ]
          },
          "metadata": {},
          "output_type": "display_data"
        }
      ],
      "source": [
        "plt.bar(alturas, probabilidades)\n",
        "plt.plot(alturas, probabilidades, color = 'red')"
      ]
    },
    {
      "cell_type": "markdown",
      "metadata": {
        "id": "6LUpMfiJlOKl"
      },
      "source": [
        "Exercicio"
      ]
    },
    {
      "cell_type": "code",
      "execution_count": null,
      "metadata": {
        "id": "eNccSFcukR8z"
      },
      "outputs": [],
      "source": [
        "dados_vinho = pd.read_csv('vinho_nacional.csv', sep = ';', decimal = ',')"
      ]
    },
    {
      "cell_type": "code",
      "execution_count": null,
      "metadata": {
        "colab": {
          "base_uri": "https://localhost:8080/",
          "height": 676
        },
        "id": "du-D1VW_lnK9",
        "outputId": "ddfe064c-3605-4b25-f88c-a123ab87660d"
      },
      "outputs": [
        {
          "data": {
            "text/html": [
              "\n",
              "  <div id=\"df-e1d623a0-686c-4eb0-b548-a3d5b5a36d0f\" class=\"colab-df-container\">\n",
              "    <div>\n",
              "<style scoped>\n",
              "    .dataframe tbody tr th:only-of-type {\n",
              "        vertical-align: middle;\n",
              "    }\n",
              "\n",
              "    .dataframe tbody tr th {\n",
              "        vertical-align: top;\n",
              "    }\n",
              "\n",
              "    .dataframe thead th {\n",
              "        text-align: right;\n",
              "    }\n",
              "</style>\n",
              "<table border=\"1\" class=\"dataframe\">\n",
              "  <thead>\n",
              "    <tr style=\"text-align: right;\">\n",
              "      <th></th>\n",
              "      <th>preco_vinho_italiano</th>\n",
              "      <th>gasto_propaganda</th>\n",
              "      <th>temperatura</th>\n",
              "      <th>vendas_vinho_nacional</th>\n",
              "    </tr>\n",
              "  </thead>\n",
              "  <tbody>\n",
              "    <tr>\n",
              "      <th>0</th>\n",
              "      <td>50</td>\n",
              "      <td>230</td>\n",
              "      <td>27</td>\n",
              "      <td>328</td>\n",
              "    </tr>\n",
              "    <tr>\n",
              "      <th>1</th>\n",
              "      <td>50</td>\n",
              "      <td>232</td>\n",
              "      <td>26</td>\n",
              "      <td>328</td>\n",
              "    </tr>\n",
              "    <tr>\n",
              "      <th>2</th>\n",
              "      <td>58</td>\n",
              "      <td>235</td>\n",
              "      <td>27</td>\n",
              "      <td>330</td>\n",
              "    </tr>\n",
              "    <tr>\n",
              "      <th>3</th>\n",
              "      <td>56</td>\n",
              "      <td>242</td>\n",
              "      <td>27</td>\n",
              "      <td>330</td>\n",
              "    </tr>\n",
              "    <tr>\n",
              "      <th>4</th>\n",
              "      <td>62</td>\n",
              "      <td>245</td>\n",
              "      <td>28</td>\n",
              "      <td>335</td>\n",
              "    </tr>\n",
              "    <tr>\n",
              "      <th>5</th>\n",
              "      <td>58</td>\n",
              "      <td>248</td>\n",
              "      <td>27</td>\n",
              "      <td>335</td>\n",
              "    </tr>\n",
              "    <tr>\n",
              "      <th>6</th>\n",
              "      <td>56</td>\n",
              "      <td>247</td>\n",
              "      <td>26</td>\n",
              "      <td>335</td>\n",
              "    </tr>\n",
              "    <tr>\n",
              "      <th>7</th>\n",
              "      <td>62</td>\n",
              "      <td>250</td>\n",
              "      <td>28</td>\n",
              "      <td>337</td>\n",
              "    </tr>\n",
              "    <tr>\n",
              "      <th>8</th>\n",
              "      <td>68</td>\n",
              "      <td>251</td>\n",
              "      <td>27</td>\n",
              "      <td>338</td>\n",
              "    </tr>\n",
              "    <tr>\n",
              "      <th>9</th>\n",
              "      <td>66</td>\n",
              "      <td>250</td>\n",
              "      <td>29</td>\n",
              "      <td>338</td>\n",
              "    </tr>\n",
              "    <tr>\n",
              "      <th>10</th>\n",
              "      <td>66</td>\n",
              "      <td>252</td>\n",
              "      <td>29</td>\n",
              "      <td>338</td>\n",
              "    </tr>\n",
              "    <tr>\n",
              "      <th>11</th>\n",
              "      <td>70</td>\n",
              "      <td>253</td>\n",
              "      <td>29</td>\n",
              "      <td>339</td>\n",
              "    </tr>\n",
              "    <tr>\n",
              "      <th>12</th>\n",
              "      <td>68</td>\n",
              "      <td>254</td>\n",
              "      <td>28</td>\n",
              "      <td>340</td>\n",
              "    </tr>\n",
              "    <tr>\n",
              "      <th>13</th>\n",
              "      <td>75</td>\n",
              "      <td>252</td>\n",
              "      <td>28</td>\n",
              "      <td>342</td>\n",
              "    </tr>\n",
              "    <tr>\n",
              "      <th>14</th>\n",
              "      <td>70</td>\n",
              "      <td>251</td>\n",
              "      <td>27</td>\n",
              "      <td>343</td>\n",
              "    </tr>\n",
              "    <tr>\n",
              "      <th>15</th>\n",
              "      <td>78</td>\n",
              "      <td>260</td>\n",
              "      <td>30</td>\n",
              "      <td>345</td>\n",
              "    </tr>\n",
              "    <tr>\n",
              "      <th>16</th>\n",
              "      <td>75</td>\n",
              "      <td>262</td>\n",
              "      <td>30</td>\n",
              "      <td>348</td>\n",
              "    </tr>\n",
              "    <tr>\n",
              "      <th>17</th>\n",
              "      <td>80</td>\n",
              "      <td>265</td>\n",
              "      <td>29</td>\n",
              "      <td>350</td>\n",
              "    </tr>\n",
              "    <tr>\n",
              "      <th>18</th>\n",
              "      <td>78</td>\n",
              "      <td>265</td>\n",
              "      <td>28</td>\n",
              "      <td>350</td>\n",
              "    </tr>\n",
              "    <tr>\n",
              "      <th>19</th>\n",
              "      <td>80</td>\n",
              "      <td>260</td>\n",
              "      <td>30</td>\n",
              "      <td>352</td>\n",
              "    </tr>\n",
              "  </tbody>\n",
              "</table>\n",
              "</div>\n",
              "    <div class=\"colab-df-buttons\">\n",
              "\n",
              "  <div class=\"colab-df-container\">\n",
              "    <button class=\"colab-df-convert\" onclick=\"convertToInteractive('df-e1d623a0-686c-4eb0-b548-a3d5b5a36d0f')\"\n",
              "            title=\"Convert this dataframe to an interactive table.\"\n",
              "            style=\"display:none;\">\n",
              "\n",
              "  <svg xmlns=\"http://www.w3.org/2000/svg\" height=\"24px\" viewBox=\"0 -960 960 960\">\n",
              "    <path d=\"M120-120v-720h720v720H120Zm60-500h600v-160H180v160Zm220 220h160v-160H400v160Zm0 220h160v-160H400v160ZM180-400h160v-160H180v160Zm440 0h160v-160H620v160ZM180-180h160v-160H180v160Zm440 0h160v-160H620v160Z\"/>\n",
              "  </svg>\n",
              "    </button>\n",
              "\n",
              "  <style>\n",
              "    .colab-df-container {\n",
              "      display:flex;\n",
              "      gap: 12px;\n",
              "    }\n",
              "\n",
              "    .colab-df-convert {\n",
              "      background-color: #E8F0FE;\n",
              "      border: none;\n",
              "      border-radius: 50%;\n",
              "      cursor: pointer;\n",
              "      display: none;\n",
              "      fill: #1967D2;\n",
              "      height: 32px;\n",
              "      padding: 0 0 0 0;\n",
              "      width: 32px;\n",
              "    }\n",
              "\n",
              "    .colab-df-convert:hover {\n",
              "      background-color: #E2EBFA;\n",
              "      box-shadow: 0px 1px 2px rgba(60, 64, 67, 0.3), 0px 1px 3px 1px rgba(60, 64, 67, 0.15);\n",
              "      fill: #174EA6;\n",
              "    }\n",
              "\n",
              "    .colab-df-buttons div {\n",
              "      margin-bottom: 4px;\n",
              "    }\n",
              "\n",
              "    [theme=dark] .colab-df-convert {\n",
              "      background-color: #3B4455;\n",
              "      fill: #D2E3FC;\n",
              "    }\n",
              "\n",
              "    [theme=dark] .colab-df-convert:hover {\n",
              "      background-color: #434B5C;\n",
              "      box-shadow: 0px 1px 3px 1px rgba(0, 0, 0, 0.15);\n",
              "      filter: drop-shadow(0px 1px 2px rgba(0, 0, 0, 0.3));\n",
              "      fill: #FFFFFF;\n",
              "    }\n",
              "  </style>\n",
              "\n",
              "    <script>\n",
              "      const buttonEl =\n",
              "        document.querySelector('#df-e1d623a0-686c-4eb0-b548-a3d5b5a36d0f button.colab-df-convert');\n",
              "      buttonEl.style.display =\n",
              "        google.colab.kernel.accessAllowed ? 'block' : 'none';\n",
              "\n",
              "      async function convertToInteractive(key) {\n",
              "        const element = document.querySelector('#df-e1d623a0-686c-4eb0-b548-a3d5b5a36d0f');\n",
              "        const dataTable =\n",
              "          await google.colab.kernel.invokeFunction('convertToInteractive',\n",
              "                                                    [key], {});\n",
              "        if (!dataTable) return;\n",
              "\n",
              "        const docLinkHtml = 'Like what you see? Visit the ' +\n",
              "          '<a target=\"_blank\" href=https://colab.research.google.com/notebooks/data_table.ipynb>data table notebook</a>'\n",
              "          + ' to learn more about interactive tables.';\n",
              "        element.innerHTML = '';\n",
              "        dataTable['output_type'] = 'display_data';\n",
              "        await google.colab.output.renderOutput(dataTable, element);\n",
              "        const docLink = document.createElement('div');\n",
              "        docLink.innerHTML = docLinkHtml;\n",
              "        element.appendChild(docLink);\n",
              "      }\n",
              "    </script>\n",
              "  </div>\n",
              "\n",
              "\n",
              "<div id=\"df-0510e86b-cab4-44a0-b5cd-f4187c258f69\">\n",
              "  <button class=\"colab-df-quickchart\" onclick=\"quickchart('df-0510e86b-cab4-44a0-b5cd-f4187c258f69')\"\n",
              "            title=\"Suggest charts.\"\n",
              "            style=\"display:none;\">\n",
              "\n",
              "<svg xmlns=\"http://www.w3.org/2000/svg\" height=\"24px\"viewBox=\"0 0 24 24\"\n",
              "     width=\"24px\">\n",
              "    <g>\n",
              "        <path d=\"M19 3H5c-1.1 0-2 .9-2 2v14c0 1.1.9 2 2 2h14c1.1 0 2-.9 2-2V5c0-1.1-.9-2-2-2zM9 17H7v-7h2v7zm4 0h-2V7h2v10zm4 0h-2v-4h2v4z\"/>\n",
              "    </g>\n",
              "</svg>\n",
              "  </button>\n",
              "\n",
              "<style>\n",
              "  .colab-df-quickchart {\n",
              "      --bg-color: #E8F0FE;\n",
              "      --fill-color: #1967D2;\n",
              "      --hover-bg-color: #E2EBFA;\n",
              "      --hover-fill-color: #174EA6;\n",
              "      --disabled-fill-color: #AAA;\n",
              "      --disabled-bg-color: #DDD;\n",
              "  }\n",
              "\n",
              "  [theme=dark] .colab-df-quickchart {\n",
              "      --bg-color: #3B4455;\n",
              "      --fill-color: #D2E3FC;\n",
              "      --hover-bg-color: #434B5C;\n",
              "      --hover-fill-color: #FFFFFF;\n",
              "      --disabled-bg-color: #3B4455;\n",
              "      --disabled-fill-color: #666;\n",
              "  }\n",
              "\n",
              "  .colab-df-quickchart {\n",
              "    background-color: var(--bg-color);\n",
              "    border: none;\n",
              "    border-radius: 50%;\n",
              "    cursor: pointer;\n",
              "    display: none;\n",
              "    fill: var(--fill-color);\n",
              "    height: 32px;\n",
              "    padding: 0;\n",
              "    width: 32px;\n",
              "  }\n",
              "\n",
              "  .colab-df-quickchart:hover {\n",
              "    background-color: var(--hover-bg-color);\n",
              "    box-shadow: 0 1px 2px rgba(60, 64, 67, 0.3), 0 1px 3px 1px rgba(60, 64, 67, 0.15);\n",
              "    fill: var(--button-hover-fill-color);\n",
              "  }\n",
              "\n",
              "  .colab-df-quickchart-complete:disabled,\n",
              "  .colab-df-quickchart-complete:disabled:hover {\n",
              "    background-color: var(--disabled-bg-color);\n",
              "    fill: var(--disabled-fill-color);\n",
              "    box-shadow: none;\n",
              "  }\n",
              "\n",
              "  .colab-df-spinner {\n",
              "    border: 2px solid var(--fill-color);\n",
              "    border-color: transparent;\n",
              "    border-bottom-color: var(--fill-color);\n",
              "    animation:\n",
              "      spin 1s steps(1) infinite;\n",
              "  }\n",
              "\n",
              "  @keyframes spin {\n",
              "    0% {\n",
              "      border-color: transparent;\n",
              "      border-bottom-color: var(--fill-color);\n",
              "      border-left-color: var(--fill-color);\n",
              "    }\n",
              "    20% {\n",
              "      border-color: transparent;\n",
              "      border-left-color: var(--fill-color);\n",
              "      border-top-color: var(--fill-color);\n",
              "    }\n",
              "    30% {\n",
              "      border-color: transparent;\n",
              "      border-left-color: var(--fill-color);\n",
              "      border-top-color: var(--fill-color);\n",
              "      border-right-color: var(--fill-color);\n",
              "    }\n",
              "    40% {\n",
              "      border-color: transparent;\n",
              "      border-right-color: var(--fill-color);\n",
              "      border-top-color: var(--fill-color);\n",
              "    }\n",
              "    60% {\n",
              "      border-color: transparent;\n",
              "      border-right-color: var(--fill-color);\n",
              "    }\n",
              "    80% {\n",
              "      border-color: transparent;\n",
              "      border-right-color: var(--fill-color);\n",
              "      border-bottom-color: var(--fill-color);\n",
              "    }\n",
              "    90% {\n",
              "      border-color: transparent;\n",
              "      border-bottom-color: var(--fill-color);\n",
              "    }\n",
              "  }\n",
              "</style>\n",
              "\n",
              "  <script>\n",
              "    async function quickchart(key) {\n",
              "      const quickchartButtonEl =\n",
              "        document.querySelector('#' + key + ' button');\n",
              "      quickchartButtonEl.disabled = true;  // To prevent multiple clicks.\n",
              "      quickchartButtonEl.classList.add('colab-df-spinner');\n",
              "      try {\n",
              "        const charts = await google.colab.kernel.invokeFunction(\n",
              "            'suggestCharts', [key], {});\n",
              "      } catch (error) {\n",
              "        console.error('Error during call to suggestCharts:', error);\n",
              "      }\n",
              "      quickchartButtonEl.classList.remove('colab-df-spinner');\n",
              "      quickchartButtonEl.classList.add('colab-df-quickchart-complete');\n",
              "    }\n",
              "    (() => {\n",
              "      let quickchartButtonEl =\n",
              "        document.querySelector('#df-0510e86b-cab4-44a0-b5cd-f4187c258f69 button');\n",
              "      quickchartButtonEl.style.display =\n",
              "        google.colab.kernel.accessAllowed ? 'block' : 'none';\n",
              "    })();\n",
              "  </script>\n",
              "</div>\n",
              "    </div>\n",
              "  </div>\n"
            ],
            "text/plain": [
              "    preco_vinho_italiano  gasto_propaganda  temperatura  vendas_vinho_nacional\n",
              "0                     50               230           27                    328\n",
              "1                     50               232           26                    328\n",
              "2                     58               235           27                    330\n",
              "3                     56               242           27                    330\n",
              "4                     62               245           28                    335\n",
              "5                     58               248           27                    335\n",
              "6                     56               247           26                    335\n",
              "7                     62               250           28                    337\n",
              "8                     68               251           27                    338\n",
              "9                     66               250           29                    338\n",
              "10                    66               252           29                    338\n",
              "11                    70               253           29                    339\n",
              "12                    68               254           28                    340\n",
              "13                    75               252           28                    342\n",
              "14                    70               251           27                    343\n",
              "15                    78               260           30                    345\n",
              "16                    75               262           30                    348\n",
              "17                    80               265           29                    350\n",
              "18                    78               265           28                    350\n",
              "19                    80               260           30                    352"
            ]
          },
          "execution_count": 54,
          "metadata": {},
          "output_type": "execute_result"
        }
      ],
      "source": [
        "dados_vinho"
      ]
    },
    {
      "cell_type": "code",
      "execution_count": null,
      "metadata": {
        "colab": {
          "base_uri": "https://localhost:8080/"
        },
        "id": "R9cMhKwAmH3b",
        "outputId": "c4e41af1-6474-4551-f363-82a990b92285"
      },
      "outputs": [
        {
          "data": {
            "text/plain": [
              "339.05"
            ]
          },
          "execution_count": 55,
          "metadata": {},
          "output_type": "execute_result"
        }
      ],
      "source": [
        "media_vendas = dados_vinho['vendas_vinho_nacional'].mean()\n",
        "media_vendas"
      ]
    },
    {
      "cell_type": "code",
      "execution_count": null,
      "metadata": {
        "colab": {
          "base_uri": "https://localhost:8080/"
        },
        "id": "lV8bzmoVl4ui",
        "outputId": "7fab58aa-27d8-4046-9c16-587bbcabf534"
      },
      "outputs": [
        {
          "data": {
            "text/plain": [
              "7.301585984889641"
            ]
          },
          "execution_count": 56,
          "metadata": {},
          "output_type": "execute_result"
        }
      ],
      "source": [
        "dp_vendas = dados_vinho['vendas_vinho_nacional'].std()\n",
        "dp_vendas"
      ]
    },
    {
      "cell_type": "markdown",
      "metadata": {
        "id": "U49Cn9wcnHab"
      },
      "source": [
        "- Q1 - P(330 e 370)\n"
      ]
    },
    {
      "cell_type": "code",
      "execution_count": null,
      "metadata": {
        "colab": {
          "base_uri": "https://localhost:8080/"
        },
        "id": "fbeizh0umnOd",
        "outputId": "9f971aec-eaef-4bf9-ce31-b2a13abaeb86"
      },
      "outputs": [
        {
          "data": {
            "text/plain": [
              "0.10758819897287808"
            ]
          },
          "execution_count": 57,
          "metadata": {},
          "output_type": "execute_result"
        }
      ],
      "source": [
        "p330 = norm.cdf(x = 330, loc = media_vendas, scale = dp_vendas)\n",
        "p330"
      ]
    },
    {
      "cell_type": "code",
      "execution_count": null,
      "metadata": {
        "colab": {
          "base_uri": "https://localhost:8080/"
        },
        "id": "KBBIoC37ndhx",
        "outputId": "225abbd0-f700-4b2f-83ea-4ef83772f818"
      },
      "outputs": [
        {
          "data": {
            "text/plain": [
              "0.9999887643687708"
            ]
          },
          "execution_count": 58,
          "metadata": {},
          "output_type": "execute_result"
        }
      ],
      "source": [
        "p370 = norm.cdf(x = 370, loc = media_vendas, scale = dp_vendas)\n",
        "p370"
      ]
    },
    {
      "cell_type": "code",
      "execution_count": null,
      "metadata": {
        "colab": {
          "base_uri": "https://localhost:8080/",
          "height": 36
        },
        "id": "TzBOt9BxnkGf",
        "outputId": "6487a6c8-b6a9-4560-8d71-b992f3a13f0c"
      },
      "outputs": [
        {
          "data": {
            "application/vnd.google.colaboratory.intrinsic+json": {
              "type": "string"
            },
            "text/plain": [
              "'A probabilidade é 89.24%'"
            ]
          },
          "execution_count": 62,
          "metadata": {},
          "output_type": "execute_result"
        }
      ],
      "source": [
        "f'A probabilidade é {(p370 - p330)*100:.2f}%'\n"
      ]
    },
    {
      "cell_type": "markdown",
      "metadata": {
        "id": "3GGD0wMuoHDO"
      },
      "source": [
        "- Q2 P(>370)"
      ]
    },
    {
      "cell_type": "code",
      "execution_count": null,
      "metadata": {
        "colab": {
          "background_save": true
        },
        "id": "F0OJ8ekLnr6A",
        "outputId": "8822ceb6-ad71-445b-d4fe-010e72c532e9"
      },
      "outputs": [
        {
          "data": {
            "text/plain": [
              "0.9999887643687708"
            ]
          },
          "execution_count": 68,
          "metadata": {},
          "output_type": "execute_result"
        }
      ],
      "source": [
        "p370 = norm.cdf(x = 370, loc = media_vendas, scale = dp_vendas)\n",
        "p370"
      ]
    },
    {
      "cell_type": "code",
      "execution_count": null,
      "metadata": {
        "colab": {
          "background_save": true
        },
        "id": "kfFf4vzkoNhS",
        "outputId": "18d32a99-a1cc-429d-e0cd-def7057f8da2"
      },
      "outputs": [
        {
          "data": {
            "application/vnd.google.colaboratory.intrinsic+json": {
              "type": "string"
            },
            "text/plain": [
              "'A probabilidade é de 0.001124%'"
            ]
          },
          "execution_count": 69,
          "metadata": {},
          "output_type": "execute_result"
        }
      ],
      "source": [
        "f'A probabilidade é de {(1 - p370)*100:.6f}%'"
      ]
    }
  ],
  "metadata": {
    "colab": {
      "provenance": [],
      "authorship_tag": "ABX9TyMr/ryRIzYMKeKuG0TAX70g",
      "include_colab_link": true
    },
    "kernelspec": {
      "display_name": "Python 3",
      "name": "python3"
    },
    "language_info": {
      "name": "python"
    }
  },
  "nbformat": 4,
  "nbformat_minor": 0
}