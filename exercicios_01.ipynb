{
  "nbformat": 4,
  "nbformat_minor": 0,
  "metadata": {
    "colab": {
      "provenance": [],
      "authorship_tag": "ABX9TyOwOpv6KCn2S8iMlrdNc47e",
      "include_colab_link": true
    },
    "kernelspec": {
      "name": "python3",
      "display_name": "Python 3"
    },
    "language_info": {
      "name": "python"
    }
  },
  "cells": [
    {
      "cell_type": "markdown",
      "metadata": {
        "id": "view-in-github",
        "colab_type": "text"
      },
      "source": [
        "<a href=\"https://colab.research.google.com/github/cesaroliveiragoes/Statistics-for-Data-Science/blob/main/exercicios_01.ipynb\" target=\"_parent\"><img src=\"https://colab.research.google.com/assets/colab-badge.svg\" alt=\"Open In Colab\"/></a>"
      ]
    },
    {
      "cell_type": "markdown",
      "source": [
        "## Exercícios"
      ],
      "metadata": {
        "id": "FO_GS1SNbhjg"
      }
    },
    {
      "cell_type": "markdown",
      "source": [
        "**Criar a Seguinte Função znorm = x-min(x) / max (x) - min (x)**\n",
        "                              "
      ],
      "metadata": {
        "id": "5ukMBxr_bkC1"
      }
    },
    {
      "cell_type": "code",
      "source": [
        "import numpy as np\n",
        "import random as rnd\n",
        "import pandas as pd"
      ],
      "metadata": {
        "id": "MJMNm-rNbyyM"
      },
      "execution_count": null,
      "outputs": []
    },
    {
      "cell_type": "markdown",
      "source": [
        "**Criar 2 Vetores: vetorA (nrs de 1 a 20), vetorB(números aleatórios entre 1 e 20)**"
      ],
      "metadata": {
        "id": "c8NbRnfF-1ZF"
      }
    },
    {
      "cell_type": "code",
      "source": [
        "vetorA = np.array(list(range(1,21)))\n",
        "vetorA"
      ],
      "metadata": {
        "colab": {
          "base_uri": "https://localhost:8080/"
        },
        "id": "BoY8b44fezNc",
        "outputId": "839c2a46-393f-49d8-bb19-7b5de2a02fe4"
      },
      "execution_count": null,
      "outputs": [
        {
          "output_type": "execute_result",
          "data": {
            "text/plain": [
              "array([ 1,  2,  3,  4,  5,  6,  7,  8,  9, 10, 11, 12, 13, 14, 15, 16, 17,\n",
              "       18, 19, 20])"
            ]
          },
          "metadata": {},
          "execution_count": 3
        }
      ]
    },
    {
      "cell_type": "code",
      "source": [
        "vetorB = np.array(rnd.sample(range(1,21), 20))\n",
        "vetorB"
      ],
      "metadata": {
        "colab": {
          "base_uri": "https://localhost:8080/"
        },
        "id": "1h8oo7vNfErp",
        "outputId": "5da27b65-49de-4d81-e37b-acc0d9405310"
      },
      "execution_count": null,
      "outputs": [
        {
          "output_type": "execute_result",
          "data": {
            "text/plain": [
              "array([10, 13,  5, 18, 15,  9,  2,  8,  1,  3, 12,  4, 20, 16, 19, 17,  6,\n",
              "        7, 14, 11])"
            ]
          },
          "metadata": {},
          "execution_count": 4
        }
      ]
    },
    {
      "cell_type": "markdown",
      "source": [
        "**Aplique a função criada nos vetores. O que ocorreu? Salve os resultados em novos vetores**\n",
        "\n",
        "\n",
        "\n"
      ],
      "metadata": {
        "id": "gjXNjmmr_GvV"
      }
    },
    {
      "cell_type": "code",
      "source": [
        "znorm = (np.array(vetorA) - min(np.array(vetorA))) / (max(np.array(vetorA)) - min(np.array(vetorA)))\n",
        "znormrounda = []\n",
        "for number in znorm:\n",
        "  znormrounda.append(round(number, 3))\n",
        "\n",
        "print(znormrounda)"
      ],
      "metadata": {
        "colab": {
          "base_uri": "https://localhost:8080/"
        },
        "id": "exIoMsx9m3BA",
        "outputId": "aa058144-8d67-4059-a5e2-7e6fb0881901"
      },
      "execution_count": null,
      "outputs": [
        {
          "output_type": "stream",
          "name": "stdout",
          "text": [
            "[0.0, 0.053, 0.105, 0.158, 0.211, 0.263, 0.316, 0.368, 0.421, 0.474, 0.526, 0.579, 0.632, 0.684, 0.737, 0.789, 0.842, 0.895, 0.947, 1.0]\n"
          ]
        }
      ]
    },
    {
      "cell_type": "code",
      "source": [
        "znormb = (np.array(vetorB) - min(np.array(vetorB))) / (max(np.array(vetorB)) - min(np.array(vetorB)))\n",
        "znormroundb = []\n",
        "for number in znormb:\n",
        "  znormroundb.append(round(number, 3))\n",
        "\n",
        "print(znormroundb)"
      ],
      "metadata": {
        "colab": {
          "base_uri": "https://localhost:8080/"
        },
        "id": "7vcnvj_Mo3fn",
        "outputId": "70d14d67-dfac-4f6e-f2d9-949aac9d0756"
      },
      "execution_count": null,
      "outputs": [
        {
          "output_type": "stream",
          "name": "stdout",
          "text": [
            "[0.474, 0.632, 0.211, 0.895, 0.737, 0.421, 0.053, 0.368, 0.0, 0.105, 0.579, 0.158, 1.0, 0.789, 0.947, 0.842, 0.263, 0.316, 0.684, 0.526]\n"
          ]
        }
      ]
    },
    {
      "cell_type": "code",
      "source": [
        "vtresultA = np.array(znormrounda)\n",
        "print(vtresultA)\n",
        "\n",
        "vtresultB = np.array(znormroundb)\n",
        "print(vtresultB)"
      ],
      "metadata": {
        "colab": {
          "base_uri": "https://localhost:8080/"
        },
        "id": "zbsC8wNgsAuQ",
        "outputId": "3dc872a9-26d0-4525-f8c7-7c2f515f26e3"
      },
      "execution_count": null,
      "outputs": [
        {
          "output_type": "stream",
          "name": "stdout",
          "text": [
            "[0.    0.053 0.105 0.158 0.211 0.263 0.316 0.368 0.421 0.474 0.526 0.579\n",
            " 0.632 0.684 0.737 0.789 0.842 0.895 0.947 1.   ]\n",
            "[0.474 0.632 0.211 0.895 0.737 0.421 0.053 0.368 0.    0.105 0.579 0.158\n",
            " 1.    0.789 0.947 0.842 0.263 0.316 0.684 0.526]\n"
          ]
        }
      ]
    },
    {
      "cell_type": "markdown",
      "source": [
        "**Crie as matrizes matrixAB(20,2) e matrixAB_norm(20,2) utilizando os vetores criados anteriormente.**"
      ],
      "metadata": {
        "id": "ZUbFmfGA_gCU"
      }
    },
    {
      "cell_type": "code",
      "source": [
        "m1 = np.array(vetorA)\n",
        "m1"
      ],
      "metadata": {
        "colab": {
          "base_uri": "https://localhost:8080/"
        },
        "id": "34x3LnsI3Jcq",
        "outputId": "1297e0a3-a628-465d-a4e4-687aa4a12e21"
      },
      "execution_count": null,
      "outputs": [
        {
          "output_type": "execute_result",
          "data": {
            "text/plain": [
              "array([ 1,  2,  3,  4,  5,  6,  7,  8,  9, 10, 11, 12, 13, 14, 15, 16, 17,\n",
              "       18, 19, 20])"
            ]
          },
          "metadata": {},
          "execution_count": 8
        }
      ]
    },
    {
      "cell_type": "code",
      "source": [
        "m2 = np.array(vetorB)\n",
        "m2"
      ],
      "metadata": {
        "colab": {
          "base_uri": "https://localhost:8080/"
        },
        "id": "ffzBbysS4BDT",
        "outputId": "0f78f3ab-2400-47da-ab3c-ab4c0f8b83a3"
      },
      "execution_count": null,
      "outputs": [
        {
          "output_type": "execute_result",
          "data": {
            "text/plain": [
              "array([10, 13,  5, 18, 15,  9,  2,  8,  1,  3, 12,  4, 20, 16, 19, 17,  6,\n",
              "        7, 14, 11])"
            ]
          },
          "metadata": {},
          "execution_count": 9
        }
      ]
    },
    {
      "cell_type": "code",
      "source": [
        "matrizab = np.transpose([m1, m2])\n",
        "matrizab"
      ],
      "metadata": {
        "colab": {
          "base_uri": "https://localhost:8080/"
        },
        "id": "YF1aYVDk5iR5",
        "outputId": "a8749329-8887-4aef-92b5-cae34ae13371"
      },
      "execution_count": null,
      "outputs": [
        {
          "output_type": "execute_result",
          "data": {
            "text/plain": [
              "array([[ 1, 10],\n",
              "       [ 2, 13],\n",
              "       [ 3,  5],\n",
              "       [ 4, 18],\n",
              "       [ 5, 15],\n",
              "       [ 6,  9],\n",
              "       [ 7,  2],\n",
              "       [ 8,  8],\n",
              "       [ 9,  1],\n",
              "       [10,  3],\n",
              "       [11, 12],\n",
              "       [12,  4],\n",
              "       [13, 20],\n",
              "       [14, 16],\n",
              "       [15, 19],\n",
              "       [16, 17],\n",
              "       [17,  6],\n",
              "       [18,  7],\n",
              "       [19, 14],\n",
              "       [20, 11]])"
            ]
          },
          "metadata": {},
          "execution_count": 24
        }
      ]
    },
    {
      "cell_type": "code",
      "source": [
        "matrizabnorm = np.array([[vtresultA], [vtresultB]])\n",
        "matrizabnorm"
      ],
      "metadata": {
        "colab": {
          "base_uri": "https://localhost:8080/"
        },
        "id": "v1jfIZse6I5I",
        "outputId": "556536ba-a0dd-498c-a726-7090a9c7ee1d"
      },
      "execution_count": null,
      "outputs": [
        {
          "output_type": "execute_result",
          "data": {
            "text/plain": [
              "array([[[0.   , 0.053, 0.105, 0.158, 0.211, 0.263, 0.316, 0.368, 0.421,\n",
              "         0.474, 0.526, 0.579, 0.632, 0.684, 0.737, 0.789, 0.842, 0.895,\n",
              "         0.947, 1.   ]],\n",
              "\n",
              "       [[0.474, 0.632, 0.211, 0.895, 0.737, 0.421, 0.053, 0.368, 0.   ,\n",
              "         0.105, 0.579, 0.158, 1.   , 0.789, 0.947, 0.842, 0.263, 0.316,\n",
              "         0.684, 0.526]]])"
            ]
          },
          "metadata": {},
          "execution_count": 17
        }
      ]
    },
    {
      "cell_type": "markdown",
      "source": [
        "**Aplique as operações “*” e “dot” nas matrizes. Quais os resultados obtidos?**"
      ],
      "metadata": {
        "id": "KqiDTj-2_8do"
      }
    },
    {
      "cell_type": "code",
      "source": [
        "matrizab*matrizabnorm"
      ],
      "metadata": {
        "colab": {
          "base_uri": "https://localhost:8080/"
        },
        "id": "8CepH8tr8DSh",
        "outputId": "e4a2aa6f-4653-46a2-9368-498de4ced9e9"
      },
      "execution_count": null,
      "outputs": [
        {
          "output_type": "execute_result",
          "data": {
            "text/plain": [
              "array([[[ 0.   ,  0.106,  0.315,  0.632,  1.055,  1.578,  2.212,  2.944,\n",
              "          3.789,  4.74 ,  5.786,  6.948,  8.216,  9.576, 11.055, 12.624,\n",
              "         14.314, 16.11 , 17.993, 20.   ]],\n",
              "\n",
              "       [[ 4.74 ,  8.216,  1.055, 16.11 , 11.055,  3.789,  0.106,  2.944,\n",
              "          0.   ,  0.315,  6.948,  0.632, 20.   , 12.624, 17.993, 14.314,\n",
              "          1.578,  2.212,  9.576,  5.786]]])"
            ]
          },
          "metadata": {},
          "execution_count": 12
        }
      ]
    },
    {
      "cell_type": "code",
      "source": [
        "np.dot(vtresultA, vtresultB)"
      ],
      "metadata": {
        "colab": {
          "base_uri": "https://localhost:8080/"
        },
        "id": "SBICiwXH80fz",
        "outputId": "9d84f6b6-9a64-487b-f5eb-a57c1acc926b"
      },
      "execution_count": null,
      "outputs": [
        {
          "output_type": "execute_result",
          "data": {
            "text/plain": [
              "5.273235999999999"
            ]
          },
          "metadata": {},
          "execution_count": 13
        }
      ]
    },
    {
      "cell_type": "markdown",
      "source": [
        "#Aula 02"
      ],
      "metadata": {
        "id": "0xRy_5nWkYfe"
      }
    },
    {
      "cell_type": "code",
      "source": [
        "dados = pd.read_csv('dados_1997_2011_paises_csv.csv', encoding = 'latin1', sep = ';', decimal = ',')\n",
        "dados"
      ],
      "metadata": {
        "colab": {
          "base_uri": "https://localhost:8080/",
          "height": 424
        },
        "id": "q-TvrbGYkcFg",
        "outputId": "ebc81b07-dbd4-48bc-fab7-a46cd425d534"
      },
      "execution_count": null,
      "outputs": [
        {
          "output_type": "execute_result",
          "data": {
            "text/plain": [
              "              pais   ano     idh  corrupcao_indice  competitividade_indice  \\\n",
              "0    África do Sul  1997  0.6328                56                   44.54   \n",
              "1    África do Sul  1998  0.6272                57                   31.11   \n",
              "2    África do Sul  1999  0.6216                50                   43.90   \n",
              "3    África do Sul  2000  0.6160                52                   51.52   \n",
              "4    África do Sul  2001  0.6126                50                   45.12   \n",
              "..             ...   ...     ...               ...                     ...   \n",
              "280    Reino Unido  2007  0.8560                86                   75.45   \n",
              "281    Reino Unido  2008  0.8600                86                   71.90   \n",
              "282    Reino Unido  2009  0.8600                84                   76.07   \n",
              "283    Reino Unido  2010  0.8620                77                   76.81   \n",
              "284    Reino Unido  2011  0.8630                77                   80.28   \n",
              "\n",
              "     globalizacao_indice           pib    populacao  \n",
              "0               52.60298  1.488142e+08  43353.63200  \n",
              "1               54.51911  1.342956e+08  43961.92400  \n",
              "2               61.04379  1.331836e+08  44526.27200  \n",
              "3               62.47182  1.328776e+08  45064.09800  \n",
              "4               62.04144  1.184790e+08  45576.21500  \n",
              "..                   ...           ...          ...  \n",
              "280             82.12010  1.448770e+06  61337.36992  \n",
              "281             81.67998  1.447825e+06  61731.27576  \n",
              "282             79.31000  1.377247e+06  62086.03336  \n",
              "283             80.18000  1.395893e+06  62438.13815  \n",
              "284             81.68000  1.500045e+06  62262.00000  \n",
              "\n",
              "[285 rows x 8 columns]"
            ],
            "text/html": [
              "\n",
              "  <div id=\"df-47643613-032d-4810-aa16-4ba39b6c7b30\">\n",
              "    <div class=\"colab-df-container\">\n",
              "      <div>\n",
              "<style scoped>\n",
              "    .dataframe tbody tr th:only-of-type {\n",
              "        vertical-align: middle;\n",
              "    }\n",
              "\n",
              "    .dataframe tbody tr th {\n",
              "        vertical-align: top;\n",
              "    }\n",
              "\n",
              "    .dataframe thead th {\n",
              "        text-align: right;\n",
              "    }\n",
              "</style>\n",
              "<table border=\"1\" class=\"dataframe\">\n",
              "  <thead>\n",
              "    <tr style=\"text-align: right;\">\n",
              "      <th></th>\n",
              "      <th>pais</th>\n",
              "      <th>ano</th>\n",
              "      <th>idh</th>\n",
              "      <th>corrupcao_indice</th>\n",
              "      <th>competitividade_indice</th>\n",
              "      <th>globalizacao_indice</th>\n",
              "      <th>pib</th>\n",
              "      <th>populacao</th>\n",
              "    </tr>\n",
              "  </thead>\n",
              "  <tbody>\n",
              "    <tr>\n",
              "      <th>0</th>\n",
              "      <td>África do Sul</td>\n",
              "      <td>1997</td>\n",
              "      <td>0.6328</td>\n",
              "      <td>56</td>\n",
              "      <td>44.54</td>\n",
              "      <td>52.60298</td>\n",
              "      <td>1.488142e+08</td>\n",
              "      <td>43353.63200</td>\n",
              "    </tr>\n",
              "    <tr>\n",
              "      <th>1</th>\n",
              "      <td>África do Sul</td>\n",
              "      <td>1998</td>\n",
              "      <td>0.6272</td>\n",
              "      <td>57</td>\n",
              "      <td>31.11</td>\n",
              "      <td>54.51911</td>\n",
              "      <td>1.342956e+08</td>\n",
              "      <td>43961.92400</td>\n",
              "    </tr>\n",
              "    <tr>\n",
              "      <th>2</th>\n",
              "      <td>África do Sul</td>\n",
              "      <td>1999</td>\n",
              "      <td>0.6216</td>\n",
              "      <td>50</td>\n",
              "      <td>43.90</td>\n",
              "      <td>61.04379</td>\n",
              "      <td>1.331836e+08</td>\n",
              "      <td>44526.27200</td>\n",
              "    </tr>\n",
              "    <tr>\n",
              "      <th>3</th>\n",
              "      <td>África do Sul</td>\n",
              "      <td>2000</td>\n",
              "      <td>0.6160</td>\n",
              "      <td>52</td>\n",
              "      <td>51.52</td>\n",
              "      <td>62.47182</td>\n",
              "      <td>1.328776e+08</td>\n",
              "      <td>45064.09800</td>\n",
              "    </tr>\n",
              "    <tr>\n",
              "      <th>4</th>\n",
              "      <td>África do Sul</td>\n",
              "      <td>2001</td>\n",
              "      <td>0.6126</td>\n",
              "      <td>50</td>\n",
              "      <td>45.12</td>\n",
              "      <td>62.04144</td>\n",
              "      <td>1.184790e+08</td>\n",
              "      <td>45576.21500</td>\n",
              "    </tr>\n",
              "    <tr>\n",
              "      <th>...</th>\n",
              "      <td>...</td>\n",
              "      <td>...</td>\n",
              "      <td>...</td>\n",
              "      <td>...</td>\n",
              "      <td>...</td>\n",
              "      <td>...</td>\n",
              "      <td>...</td>\n",
              "      <td>...</td>\n",
              "    </tr>\n",
              "    <tr>\n",
              "      <th>280</th>\n",
              "      <td>Reino Unido</td>\n",
              "      <td>2007</td>\n",
              "      <td>0.8560</td>\n",
              "      <td>86</td>\n",
              "      <td>75.45</td>\n",
              "      <td>82.12010</td>\n",
              "      <td>1.448770e+06</td>\n",
              "      <td>61337.36992</td>\n",
              "    </tr>\n",
              "    <tr>\n",
              "      <th>281</th>\n",
              "      <td>Reino Unido</td>\n",
              "      <td>2008</td>\n",
              "      <td>0.8600</td>\n",
              "      <td>86</td>\n",
              "      <td>71.90</td>\n",
              "      <td>81.67998</td>\n",
              "      <td>1.447825e+06</td>\n",
              "      <td>61731.27576</td>\n",
              "    </tr>\n",
              "    <tr>\n",
              "      <th>282</th>\n",
              "      <td>Reino Unido</td>\n",
              "      <td>2009</td>\n",
              "      <td>0.8600</td>\n",
              "      <td>84</td>\n",
              "      <td>76.07</td>\n",
              "      <td>79.31000</td>\n",
              "      <td>1.377247e+06</td>\n",
              "      <td>62086.03336</td>\n",
              "    </tr>\n",
              "    <tr>\n",
              "      <th>283</th>\n",
              "      <td>Reino Unido</td>\n",
              "      <td>2010</td>\n",
              "      <td>0.8620</td>\n",
              "      <td>77</td>\n",
              "      <td>76.81</td>\n",
              "      <td>80.18000</td>\n",
              "      <td>1.395893e+06</td>\n",
              "      <td>62438.13815</td>\n",
              "    </tr>\n",
              "    <tr>\n",
              "      <th>284</th>\n",
              "      <td>Reino Unido</td>\n",
              "      <td>2011</td>\n",
              "      <td>0.8630</td>\n",
              "      <td>77</td>\n",
              "      <td>80.28</td>\n",
              "      <td>81.68000</td>\n",
              "      <td>1.500045e+06</td>\n",
              "      <td>62262.00000</td>\n",
              "    </tr>\n",
              "  </tbody>\n",
              "</table>\n",
              "<p>285 rows × 8 columns</p>\n",
              "</div>\n",
              "      <button class=\"colab-df-convert\" onclick=\"convertToInteractive('df-47643613-032d-4810-aa16-4ba39b6c7b30')\"\n",
              "              title=\"Convert this dataframe to an interactive table.\"\n",
              "              style=\"display:none;\">\n",
              "        \n",
              "  <svg xmlns=\"http://www.w3.org/2000/svg\" height=\"24px\"viewBox=\"0 0 24 24\"\n",
              "       width=\"24px\">\n",
              "    <path d=\"M0 0h24v24H0V0z\" fill=\"none\"/>\n",
              "    <path d=\"M18.56 5.44l.94 2.06.94-2.06 2.06-.94-2.06-.94-.94-2.06-.94 2.06-2.06.94zm-11 1L8.5 8.5l.94-2.06 2.06-.94-2.06-.94L8.5 2.5l-.94 2.06-2.06.94zm10 10l.94 2.06.94-2.06 2.06-.94-2.06-.94-.94-2.06-.94 2.06-2.06.94z\"/><path d=\"M17.41 7.96l-1.37-1.37c-.4-.4-.92-.59-1.43-.59-.52 0-1.04.2-1.43.59L10.3 9.45l-7.72 7.72c-.78.78-.78 2.05 0 2.83L4 21.41c.39.39.9.59 1.41.59.51 0 1.02-.2 1.41-.59l7.78-7.78 2.81-2.81c.8-.78.8-2.07 0-2.86zM5.41 20L4 18.59l7.72-7.72 1.47 1.35L5.41 20z\"/>\n",
              "  </svg>\n",
              "      </button>\n",
              "      \n",
              "  <style>\n",
              "    .colab-df-container {\n",
              "      display:flex;\n",
              "      flex-wrap:wrap;\n",
              "      gap: 12px;\n",
              "    }\n",
              "\n",
              "    .colab-df-convert {\n",
              "      background-color: #E8F0FE;\n",
              "      border: none;\n",
              "      border-radius: 50%;\n",
              "      cursor: pointer;\n",
              "      display: none;\n",
              "      fill: #1967D2;\n",
              "      height: 32px;\n",
              "      padding: 0 0 0 0;\n",
              "      width: 32px;\n",
              "    }\n",
              "\n",
              "    .colab-df-convert:hover {\n",
              "      background-color: #E2EBFA;\n",
              "      box-shadow: 0px 1px 2px rgba(60, 64, 67, 0.3), 0px 1px 3px 1px rgba(60, 64, 67, 0.15);\n",
              "      fill: #174EA6;\n",
              "    }\n",
              "\n",
              "    [theme=dark] .colab-df-convert {\n",
              "      background-color: #3B4455;\n",
              "      fill: #D2E3FC;\n",
              "    }\n",
              "\n",
              "    [theme=dark] .colab-df-convert:hover {\n",
              "      background-color: #434B5C;\n",
              "      box-shadow: 0px 1px 3px 1px rgba(0, 0, 0, 0.15);\n",
              "      filter: drop-shadow(0px 1px 2px rgba(0, 0, 0, 0.3));\n",
              "      fill: #FFFFFF;\n",
              "    }\n",
              "  </style>\n",
              "\n",
              "      <script>\n",
              "        const buttonEl =\n",
              "          document.querySelector('#df-47643613-032d-4810-aa16-4ba39b6c7b30 button.colab-df-convert');\n",
              "        buttonEl.style.display =\n",
              "          google.colab.kernel.accessAllowed ? 'block' : 'none';\n",
              "\n",
              "        async function convertToInteractive(key) {\n",
              "          const element = document.querySelector('#df-47643613-032d-4810-aa16-4ba39b6c7b30');\n",
              "          const dataTable =\n",
              "            await google.colab.kernel.invokeFunction('convertToInteractive',\n",
              "                                                     [key], {});\n",
              "          if (!dataTable) return;\n",
              "\n",
              "          const docLinkHtml = 'Like what you see? Visit the ' +\n",
              "            '<a target=\"_blank\" href=https://colab.research.google.com/notebooks/data_table.ipynb>data table notebook</a>'\n",
              "            + ' to learn more about interactive tables.';\n",
              "          element.innerHTML = '';\n",
              "          dataTable['output_type'] = 'display_data';\n",
              "          await google.colab.output.renderOutput(dataTable, element);\n",
              "          const docLink = document.createElement('div');\n",
              "          docLink.innerHTML = docLinkHtml;\n",
              "          element.appendChild(docLink);\n",
              "        }\n",
              "      </script>\n",
              "    </div>\n",
              "  </div>\n",
              "  "
            ]
          },
          "metadata": {},
          "execution_count": 6
        }
      ]
    },
    {
      "cell_type": "markdown",
      "source": [
        "2)"
      ],
      "metadata": {
        "id": "eMiPzhRUl75u"
      }
    },
    {
      "cell_type": "code",
      "source": [
        "def znorm(x):\n",
        "  res = (x-min(x)) / (max(x) - min(x))\n",
        "  return res"
      ],
      "metadata": {
        "id": "iIA85_ghl7W_"
      },
      "execution_count": null,
      "outputs": []
    },
    {
      "cell_type": "markdown",
      "source": [
        "3)"
      ],
      "metadata": {
        "id": "dB-ikeBJmoMW"
      }
    },
    {
      "cell_type": "code",
      "source": [
        "z_pop = dados['populacao']\n",
        "z_pop"
      ],
      "metadata": {
        "colab": {
          "base_uri": "https://localhost:8080/"
        },
        "id": "y64SbSY7n0Uv",
        "outputId": "46bf061c-bdf6-4e9a-d0fe-b9ac5b0b0b53"
      },
      "execution_count": null,
      "outputs": [
        {
          "output_type": "execute_result",
          "data": {
            "text/plain": [
              "0      43353.63200\n",
              "1      43961.92400\n",
              "2      44526.27200\n",
              "3      45064.09800\n",
              "4      45576.21500\n",
              "          ...     \n",
              "280    61337.36992\n",
              "281    61731.27576\n",
              "282    62086.03336\n",
              "283    62438.13815\n",
              "284    62262.00000\n",
              "Name: populacao, Length: 285, dtype: float64"
            ]
          },
          "metadata": {},
          "execution_count": 19
        }
      ]
    },
    {
      "cell_type": "code",
      "source": [
        "z_pib = dados['pib']\n",
        "z_pib"
      ],
      "metadata": {
        "colab": {
          "base_uri": "https://localhost:8080/"
        },
        "id": "4lWSfV9Qmpvn",
        "outputId": "3cffda16-df18-4039-ab12-8f13a7df91cd"
      },
      "execution_count": null,
      "outputs": [
        {
          "output_type": "execute_result",
          "data": {
            "text/plain": [
              "0      1.488142e+08\n",
              "1      1.342956e+08\n",
              "2      1.331836e+08\n",
              "3      1.328776e+08\n",
              "4      1.184790e+08\n",
              "           ...     \n",
              "280    1.448770e+06\n",
              "281    1.447825e+06\n",
              "282    1.377247e+06\n",
              "283    1.395893e+06\n",
              "284    1.500045e+06\n",
              "Name: pib, Length: 285, dtype: float64"
            ]
          },
          "metadata": {},
          "execution_count": 10
        }
      ]
    },
    {
      "cell_type": "code",
      "source": [
        "z_popnorm = znorm(z_pop)\n",
        "z_popnorm"
      ],
      "metadata": {
        "colab": {
          "base_uri": "https://localhost:8080/"
        },
        "id": "o2hugglzqffh",
        "outputId": "8d404c50-64de-4e45-ebf8-353f336aab1c"
      },
      "execution_count": null,
      "outputs": [
        {
          "output_type": "execute_result",
          "data": {
            "text/plain": [
              "0      0.029461\n",
              "1      0.029914\n",
              "2      0.030334\n",
              "3      0.030735\n",
              "4      0.031116\n",
              "         ...   \n",
              "280    0.042846\n",
              "281    0.043140\n",
              "282    0.043404\n",
              "283    0.043666\n",
              "284    0.043535\n",
              "Name: populacao, Length: 285, dtype: float64"
            ]
          },
          "metadata": {},
          "execution_count": 26
        }
      ]
    },
    {
      "cell_type": "code",
      "source": [
        "z_pibnorm = znorm(z_pib)\n",
        "z_pibnorm"
      ],
      "metadata": {
        "colab": {
          "base_uri": "https://localhost:8080/"
        },
        "id": "8SzfgiFNn9jc",
        "outputId": "37a13473-af31-42e7-d2bf-6a1cadaf8047"
      },
      "execution_count": null,
      "outputs": [
        {
          "output_type": "execute_result",
          "data": {
            "text/plain": [
              "0      0.010181\n",
              "1      0.009186\n",
              "2      0.009109\n",
              "3      0.009088\n",
              "4      0.008101\n",
              "         ...   \n",
              "280    0.000078\n",
              "281    0.000078\n",
              "282    0.000073\n",
              "283    0.000074\n",
              "284    0.000081\n",
              "Name: pib, Length: 285, dtype: float64"
            ]
          },
          "metadata": {},
          "execution_count": 25
        }
      ]
    },
    {
      "cell_type": "markdown",
      "source": [
        "4) Selecionar os países que tem IDH maior que 0.9 em 2008\n"
      ],
      "metadata": {
        "id": "hX69tDZtqr7T"
      }
    },
    {
      "cell_type": "code",
      "source": [
        "dados[dados['idh'] > 0.9]"
      ],
      "metadata": {
        "colab": {
          "base_uri": "https://localhost:8080/",
          "height": 1000
        },
        "id": "XbbKXtt3qtxJ",
        "outputId": "7109d84f-a16e-4642-8971-0cc6ddfb2030"
      },
      "execution_count": null,
      "outputs": [
        {
          "output_type": "execute_result",
          "data": {
            "text/plain": [
              "               pais   ano     idh  corrupcao_indice  competitividade_indice  \\\n",
              "25         Alemanha  2007  0.9010                82                   78.02   \n",
              "26         Alemanha  2008  0.9020                80                   74.74   \n",
              "28         Alemanha  2010  0.9030                79                   82.73   \n",
              "29         Alemanha  2011  0.9050                80                   87.82   \n",
              "32        Austrália  1999  0.9026                89                   76.78   \n",
              "33        Austrália  2000  0.9060                87                   78.36   \n",
              "34        Austrália  2001  0.9084                87                   75.30   \n",
              "35        Austrália  2002  0.9108                83                   73.27   \n",
              "36        Austrália  2003  0.9132                85                   80.62   \n",
              "37        Austrália  2004  0.9156                86                   86.05   \n",
              "38        Austrália  2005  0.9180                88                   81.98   \n",
              "39        Austrália  2006  0.9200                88                   82.50   \n",
              "40        Austrália  2007  0.9220                88                   82.39   \n",
              "41        Austrália  2008  0.9240                87                   83.50   \n",
              "42        Austrália  2009  0.9260                86                   88.93   \n",
              "43        Austrália  2010  0.9270                87                   92.17   \n",
              "44        Austrália  2011  0.9290                87                   89.26   \n",
              "86           Canadá  2008  0.9030                85                   82.85   \n",
              "87           Canadá  2009  0.9030                87                   88.71   \n",
              "88           Canadá  2010  0.9070                87                   90.46   \n",
              "89           Canadá  2011  0.9080                87                   90.78   \n",
              "157  Estados Unidos  2004  0.9010                77                  100.00   \n",
              "158  Estados Unidos  2005  0.9020                75                  100.00   \n",
              "159  Estados Unidos  2006  0.9040                75                  100.00   \n",
              "160  Estados Unidos  2007  0.9050                76                  100.00   \n",
              "161  Estados Unidos  2008  0.9070                73                  100.00   \n",
              "162  Estados Unidos  2009  0.9060                72                  100.00   \n",
              "163  Estados Unidos  2010  0.9080                73                   99.09   \n",
              "164  Estados Unidos  2011  0.9130                71                   99.09   \n",
              "190         Holanda  2007  0.9020                86                   85.86   \n",
              "191         Holanda  2008  0.9040                87                   80.48   \n",
              "192         Holanda  2009  0.9050                90                   87.76   \n",
              "193         Holanda  2010  0.9090                89                   85.65   \n",
              "194         Holanda  2011  0.9100                89                   85.71   \n",
              "239           Japão  2011  0.9010                77                   75.21   \n",
              "\n",
              "     globalizacao_indice           pib     populacao  \n",
              "25              86.00454  3.323807e+09   82500.62788  \n",
              "26              85.10198  3.623686e+09   82328.58583  \n",
              "28              84.16000  3.280530e+09   81906.32178  \n",
              "29              85.10000  3.577031e+09   81844.00000  \n",
              "32              80.88444  3.902087e+08   18829.98225  \n",
              "33              82.07458  4.169233e+08   19052.91407  \n",
              "34              82.54441  3.804277e+08   19293.98163  \n",
              "35              81.79132  3.972394e+08   19534.65920  \n",
              "36              82.30564  4.684688e+08   19766.25789  \n",
              "37              82.23457  6.152760e+08   19994.78963  \n",
              "38              82.03082  6.960337e+08   20232.05724  \n",
              "39              82.89672  7.493164e+08   20489.17957  \n",
              "40              83.23593  8.568164e+08   20749.32886  \n",
              "41              81.40752  1.039415e+09   21007.01018  \n",
              "42              80.49000  9.248431e+08   21262.33754  \n",
              "43              83.82000  1.131623e+09   21515.44693  \n",
              "44              81.40000  1.371764e+09   22708.00000  \n",
              "86              85.80734  1.502678e+09   33212.69600  \n",
              "87              86.32000  1.337578e+09   33487.20800  \n",
              "88              88.24000  1.577040e+09   33759.74200  \n",
              "89              85.80000  1.736869e+09   34896.00000  \n",
              "157             79.71188  1.181230e+10  293643.37560  \n",
              "158             79.96336  1.257970e+10  296356.30910  \n",
              "159             80.58192  1.333620e+10  299202.16210  \n",
              "160             81.20850  1.399500e+10  302194.93610  \n",
              "161             79.83883  1.429690e+10  304995.58710  \n",
              "162             74.93000  1.404806e+10  307632.65820  \n",
              "163             78.80000  1.458674e+10  308910.76250  \n",
              "164             78.80000  9.398308e+06  310000.00000  \n",
              "190             91.83430  4.044033e+05   16335.33183  \n",
              "191             91.16548  4.116990e+05   16394.30819  \n",
              "192             89.92000  3.971385e+05   16474.58608  \n",
              "193             91.90000  4.038484e+05   16557.93602  \n",
              "194             91.16000  4.216470e+05   16741.00000  \n",
              "239             69.13000  2.885478e+06  127579.00000  "
            ],
            "text/html": [
              "\n",
              "  <div id=\"df-3be8738f-4387-430b-83e8-e9682ea28460\">\n",
              "    <div class=\"colab-df-container\">\n",
              "      <div>\n",
              "<style scoped>\n",
              "    .dataframe tbody tr th:only-of-type {\n",
              "        vertical-align: middle;\n",
              "    }\n",
              "\n",
              "    .dataframe tbody tr th {\n",
              "        vertical-align: top;\n",
              "    }\n",
              "\n",
              "    .dataframe thead th {\n",
              "        text-align: right;\n",
              "    }\n",
              "</style>\n",
              "<table border=\"1\" class=\"dataframe\">\n",
              "  <thead>\n",
              "    <tr style=\"text-align: right;\">\n",
              "      <th></th>\n",
              "      <th>pais</th>\n",
              "      <th>ano</th>\n",
              "      <th>idh</th>\n",
              "      <th>corrupcao_indice</th>\n",
              "      <th>competitividade_indice</th>\n",
              "      <th>globalizacao_indice</th>\n",
              "      <th>pib</th>\n",
              "      <th>populacao</th>\n",
              "    </tr>\n",
              "  </thead>\n",
              "  <tbody>\n",
              "    <tr>\n",
              "      <th>25</th>\n",
              "      <td>Alemanha</td>\n",
              "      <td>2007</td>\n",
              "      <td>0.9010</td>\n",
              "      <td>82</td>\n",
              "      <td>78.02</td>\n",
              "      <td>86.00454</td>\n",
              "      <td>3.323807e+09</td>\n",
              "      <td>82500.62788</td>\n",
              "    </tr>\n",
              "    <tr>\n",
              "      <th>26</th>\n",
              "      <td>Alemanha</td>\n",
              "      <td>2008</td>\n",
              "      <td>0.9020</td>\n",
              "      <td>80</td>\n",
              "      <td>74.74</td>\n",
              "      <td>85.10198</td>\n",
              "      <td>3.623686e+09</td>\n",
              "      <td>82328.58583</td>\n",
              "    </tr>\n",
              "    <tr>\n",
              "      <th>28</th>\n",
              "      <td>Alemanha</td>\n",
              "      <td>2010</td>\n",
              "      <td>0.9030</td>\n",
              "      <td>79</td>\n",
              "      <td>82.73</td>\n",
              "      <td>84.16000</td>\n",
              "      <td>3.280530e+09</td>\n",
              "      <td>81906.32178</td>\n",
              "    </tr>\n",
              "    <tr>\n",
              "      <th>29</th>\n",
              "      <td>Alemanha</td>\n",
              "      <td>2011</td>\n",
              "      <td>0.9050</td>\n",
              "      <td>80</td>\n",
              "      <td>87.82</td>\n",
              "      <td>85.10000</td>\n",
              "      <td>3.577031e+09</td>\n",
              "      <td>81844.00000</td>\n",
              "    </tr>\n",
              "    <tr>\n",
              "      <th>32</th>\n",
              "      <td>Austrália</td>\n",
              "      <td>1999</td>\n",
              "      <td>0.9026</td>\n",
              "      <td>89</td>\n",
              "      <td>76.78</td>\n",
              "      <td>80.88444</td>\n",
              "      <td>3.902087e+08</td>\n",
              "      <td>18829.98225</td>\n",
              "    </tr>\n",
              "    <tr>\n",
              "      <th>33</th>\n",
              "      <td>Austrália</td>\n",
              "      <td>2000</td>\n",
              "      <td>0.9060</td>\n",
              "      <td>87</td>\n",
              "      <td>78.36</td>\n",
              "      <td>82.07458</td>\n",
              "      <td>4.169233e+08</td>\n",
              "      <td>19052.91407</td>\n",
              "    </tr>\n",
              "    <tr>\n",
              "      <th>34</th>\n",
              "      <td>Austrália</td>\n",
              "      <td>2001</td>\n",
              "      <td>0.9084</td>\n",
              "      <td>87</td>\n",
              "      <td>75.30</td>\n",
              "      <td>82.54441</td>\n",
              "      <td>3.804277e+08</td>\n",
              "      <td>19293.98163</td>\n",
              "    </tr>\n",
              "    <tr>\n",
              "      <th>35</th>\n",
              "      <td>Austrália</td>\n",
              "      <td>2002</td>\n",
              "      <td>0.9108</td>\n",
              "      <td>83</td>\n",
              "      <td>73.27</td>\n",
              "      <td>81.79132</td>\n",
              "      <td>3.972394e+08</td>\n",
              "      <td>19534.65920</td>\n",
              "    </tr>\n",
              "    <tr>\n",
              "      <th>36</th>\n",
              "      <td>Austrália</td>\n",
              "      <td>2003</td>\n",
              "      <td>0.9132</td>\n",
              "      <td>85</td>\n",
              "      <td>80.62</td>\n",
              "      <td>82.30564</td>\n",
              "      <td>4.684688e+08</td>\n",
              "      <td>19766.25789</td>\n",
              "    </tr>\n",
              "    <tr>\n",
              "      <th>37</th>\n",
              "      <td>Austrália</td>\n",
              "      <td>2004</td>\n",
              "      <td>0.9156</td>\n",
              "      <td>86</td>\n",
              "      <td>86.05</td>\n",
              "      <td>82.23457</td>\n",
              "      <td>6.152760e+08</td>\n",
              "      <td>19994.78963</td>\n",
              "    </tr>\n",
              "    <tr>\n",
              "      <th>38</th>\n",
              "      <td>Austrália</td>\n",
              "      <td>2005</td>\n",
              "      <td>0.9180</td>\n",
              "      <td>88</td>\n",
              "      <td>81.98</td>\n",
              "      <td>82.03082</td>\n",
              "      <td>6.960337e+08</td>\n",
              "      <td>20232.05724</td>\n",
              "    </tr>\n",
              "    <tr>\n",
              "      <th>39</th>\n",
              "      <td>Austrália</td>\n",
              "      <td>2006</td>\n",
              "      <td>0.9200</td>\n",
              "      <td>88</td>\n",
              "      <td>82.50</td>\n",
              "      <td>82.89672</td>\n",
              "      <td>7.493164e+08</td>\n",
              "      <td>20489.17957</td>\n",
              "    </tr>\n",
              "    <tr>\n",
              "      <th>40</th>\n",
              "      <td>Austrália</td>\n",
              "      <td>2007</td>\n",
              "      <td>0.9220</td>\n",
              "      <td>88</td>\n",
              "      <td>82.39</td>\n",
              "      <td>83.23593</td>\n",
              "      <td>8.568164e+08</td>\n",
              "      <td>20749.32886</td>\n",
              "    </tr>\n",
              "    <tr>\n",
              "      <th>41</th>\n",
              "      <td>Austrália</td>\n",
              "      <td>2008</td>\n",
              "      <td>0.9240</td>\n",
              "      <td>87</td>\n",
              "      <td>83.50</td>\n",
              "      <td>81.40752</td>\n",
              "      <td>1.039415e+09</td>\n",
              "      <td>21007.01018</td>\n",
              "    </tr>\n",
              "    <tr>\n",
              "      <th>42</th>\n",
              "      <td>Austrália</td>\n",
              "      <td>2009</td>\n",
              "      <td>0.9260</td>\n",
              "      <td>86</td>\n",
              "      <td>88.93</td>\n",
              "      <td>80.49000</td>\n",
              "      <td>9.248431e+08</td>\n",
              "      <td>21262.33754</td>\n",
              "    </tr>\n",
              "    <tr>\n",
              "      <th>43</th>\n",
              "      <td>Austrália</td>\n",
              "      <td>2010</td>\n",
              "      <td>0.9270</td>\n",
              "      <td>87</td>\n",
              "      <td>92.17</td>\n",
              "      <td>83.82000</td>\n",
              "      <td>1.131623e+09</td>\n",
              "      <td>21515.44693</td>\n",
              "    </tr>\n",
              "    <tr>\n",
              "      <th>44</th>\n",
              "      <td>Austrália</td>\n",
              "      <td>2011</td>\n",
              "      <td>0.9290</td>\n",
              "      <td>87</td>\n",
              "      <td>89.26</td>\n",
              "      <td>81.40000</td>\n",
              "      <td>1.371764e+09</td>\n",
              "      <td>22708.00000</td>\n",
              "    </tr>\n",
              "    <tr>\n",
              "      <th>86</th>\n",
              "      <td>Canadá</td>\n",
              "      <td>2008</td>\n",
              "      <td>0.9030</td>\n",
              "      <td>85</td>\n",
              "      <td>82.85</td>\n",
              "      <td>85.80734</td>\n",
              "      <td>1.502678e+09</td>\n",
              "      <td>33212.69600</td>\n",
              "    </tr>\n",
              "    <tr>\n",
              "      <th>87</th>\n",
              "      <td>Canadá</td>\n",
              "      <td>2009</td>\n",
              "      <td>0.9030</td>\n",
              "      <td>87</td>\n",
              "      <td>88.71</td>\n",
              "      <td>86.32000</td>\n",
              "      <td>1.337578e+09</td>\n",
              "      <td>33487.20800</td>\n",
              "    </tr>\n",
              "    <tr>\n",
              "      <th>88</th>\n",
              "      <td>Canadá</td>\n",
              "      <td>2010</td>\n",
              "      <td>0.9070</td>\n",
              "      <td>87</td>\n",
              "      <td>90.46</td>\n",
              "      <td>88.24000</td>\n",
              "      <td>1.577040e+09</td>\n",
              "      <td>33759.74200</td>\n",
              "    </tr>\n",
              "    <tr>\n",
              "      <th>89</th>\n",
              "      <td>Canadá</td>\n",
              "      <td>2011</td>\n",
              "      <td>0.9080</td>\n",
              "      <td>87</td>\n",
              "      <td>90.78</td>\n",
              "      <td>85.80000</td>\n",
              "      <td>1.736869e+09</td>\n",
              "      <td>34896.00000</td>\n",
              "    </tr>\n",
              "    <tr>\n",
              "      <th>157</th>\n",
              "      <td>Estados Unidos</td>\n",
              "      <td>2004</td>\n",
              "      <td>0.9010</td>\n",
              "      <td>77</td>\n",
              "      <td>100.00</td>\n",
              "      <td>79.71188</td>\n",
              "      <td>1.181230e+10</td>\n",
              "      <td>293643.37560</td>\n",
              "    </tr>\n",
              "    <tr>\n",
              "      <th>158</th>\n",
              "      <td>Estados Unidos</td>\n",
              "      <td>2005</td>\n",
              "      <td>0.9020</td>\n",
              "      <td>75</td>\n",
              "      <td>100.00</td>\n",
              "      <td>79.96336</td>\n",
              "      <td>1.257970e+10</td>\n",
              "      <td>296356.30910</td>\n",
              "    </tr>\n",
              "    <tr>\n",
              "      <th>159</th>\n",
              "      <td>Estados Unidos</td>\n",
              "      <td>2006</td>\n",
              "      <td>0.9040</td>\n",
              "      <td>75</td>\n",
              "      <td>100.00</td>\n",
              "      <td>80.58192</td>\n",
              "      <td>1.333620e+10</td>\n",
              "      <td>299202.16210</td>\n",
              "    </tr>\n",
              "    <tr>\n",
              "      <th>160</th>\n",
              "      <td>Estados Unidos</td>\n",
              "      <td>2007</td>\n",
              "      <td>0.9050</td>\n",
              "      <td>76</td>\n",
              "      <td>100.00</td>\n",
              "      <td>81.20850</td>\n",
              "      <td>1.399500e+10</td>\n",
              "      <td>302194.93610</td>\n",
              "    </tr>\n",
              "    <tr>\n",
              "      <th>161</th>\n",
              "      <td>Estados Unidos</td>\n",
              "      <td>2008</td>\n",
              "      <td>0.9070</td>\n",
              "      <td>73</td>\n",
              "      <td>100.00</td>\n",
              "      <td>79.83883</td>\n",
              "      <td>1.429690e+10</td>\n",
              "      <td>304995.58710</td>\n",
              "    </tr>\n",
              "    <tr>\n",
              "      <th>162</th>\n",
              "      <td>Estados Unidos</td>\n",
              "      <td>2009</td>\n",
              "      <td>0.9060</td>\n",
              "      <td>72</td>\n",
              "      <td>100.00</td>\n",
              "      <td>74.93000</td>\n",
              "      <td>1.404806e+10</td>\n",
              "      <td>307632.65820</td>\n",
              "    </tr>\n",
              "    <tr>\n",
              "      <th>163</th>\n",
              "      <td>Estados Unidos</td>\n",
              "      <td>2010</td>\n",
              "      <td>0.9080</td>\n",
              "      <td>73</td>\n",
              "      <td>99.09</td>\n",
              "      <td>78.80000</td>\n",
              "      <td>1.458674e+10</td>\n",
              "      <td>308910.76250</td>\n",
              "    </tr>\n",
              "    <tr>\n",
              "      <th>164</th>\n",
              "      <td>Estados Unidos</td>\n",
              "      <td>2011</td>\n",
              "      <td>0.9130</td>\n",
              "      <td>71</td>\n",
              "      <td>99.09</td>\n",
              "      <td>78.80000</td>\n",
              "      <td>9.398308e+06</td>\n",
              "      <td>310000.00000</td>\n",
              "    </tr>\n",
              "    <tr>\n",
              "      <th>190</th>\n",
              "      <td>Holanda</td>\n",
              "      <td>2007</td>\n",
              "      <td>0.9020</td>\n",
              "      <td>86</td>\n",
              "      <td>85.86</td>\n",
              "      <td>91.83430</td>\n",
              "      <td>4.044033e+05</td>\n",
              "      <td>16335.33183</td>\n",
              "    </tr>\n",
              "    <tr>\n",
              "      <th>191</th>\n",
              "      <td>Holanda</td>\n",
              "      <td>2008</td>\n",
              "      <td>0.9040</td>\n",
              "      <td>87</td>\n",
              "      <td>80.48</td>\n",
              "      <td>91.16548</td>\n",
              "      <td>4.116990e+05</td>\n",
              "      <td>16394.30819</td>\n",
              "    </tr>\n",
              "    <tr>\n",
              "      <th>192</th>\n",
              "      <td>Holanda</td>\n",
              "      <td>2009</td>\n",
              "      <td>0.9050</td>\n",
              "      <td>90</td>\n",
              "      <td>87.76</td>\n",
              "      <td>89.92000</td>\n",
              "      <td>3.971385e+05</td>\n",
              "      <td>16474.58608</td>\n",
              "    </tr>\n",
              "    <tr>\n",
              "      <th>193</th>\n",
              "      <td>Holanda</td>\n",
              "      <td>2010</td>\n",
              "      <td>0.9090</td>\n",
              "      <td>89</td>\n",
              "      <td>85.65</td>\n",
              "      <td>91.90000</td>\n",
              "      <td>4.038484e+05</td>\n",
              "      <td>16557.93602</td>\n",
              "    </tr>\n",
              "    <tr>\n",
              "      <th>194</th>\n",
              "      <td>Holanda</td>\n",
              "      <td>2011</td>\n",
              "      <td>0.9100</td>\n",
              "      <td>89</td>\n",
              "      <td>85.71</td>\n",
              "      <td>91.16000</td>\n",
              "      <td>4.216470e+05</td>\n",
              "      <td>16741.00000</td>\n",
              "    </tr>\n",
              "    <tr>\n",
              "      <th>239</th>\n",
              "      <td>Japão</td>\n",
              "      <td>2011</td>\n",
              "      <td>0.9010</td>\n",
              "      <td>77</td>\n",
              "      <td>75.21</td>\n",
              "      <td>69.13000</td>\n",
              "      <td>2.885478e+06</td>\n",
              "      <td>127579.00000</td>\n",
              "    </tr>\n",
              "  </tbody>\n",
              "</table>\n",
              "</div>\n",
              "      <button class=\"colab-df-convert\" onclick=\"convertToInteractive('df-3be8738f-4387-430b-83e8-e9682ea28460')\"\n",
              "              title=\"Convert this dataframe to an interactive table.\"\n",
              "              style=\"display:none;\">\n",
              "        \n",
              "  <svg xmlns=\"http://www.w3.org/2000/svg\" height=\"24px\"viewBox=\"0 0 24 24\"\n",
              "       width=\"24px\">\n",
              "    <path d=\"M0 0h24v24H0V0z\" fill=\"none\"/>\n",
              "    <path d=\"M18.56 5.44l.94 2.06.94-2.06 2.06-.94-2.06-.94-.94-2.06-.94 2.06-2.06.94zm-11 1L8.5 8.5l.94-2.06 2.06-.94-2.06-.94L8.5 2.5l-.94 2.06-2.06.94zm10 10l.94 2.06.94-2.06 2.06-.94-2.06-.94-.94-2.06-.94 2.06-2.06.94z\"/><path d=\"M17.41 7.96l-1.37-1.37c-.4-.4-.92-.59-1.43-.59-.52 0-1.04.2-1.43.59L10.3 9.45l-7.72 7.72c-.78.78-.78 2.05 0 2.83L4 21.41c.39.39.9.59 1.41.59.51 0 1.02-.2 1.41-.59l7.78-7.78 2.81-2.81c.8-.78.8-2.07 0-2.86zM5.41 20L4 18.59l7.72-7.72 1.47 1.35L5.41 20z\"/>\n",
              "  </svg>\n",
              "      </button>\n",
              "      \n",
              "  <style>\n",
              "    .colab-df-container {\n",
              "      display:flex;\n",
              "      flex-wrap:wrap;\n",
              "      gap: 12px;\n",
              "    }\n",
              "\n",
              "    .colab-df-convert {\n",
              "      background-color: #E8F0FE;\n",
              "      border: none;\n",
              "      border-radius: 50%;\n",
              "      cursor: pointer;\n",
              "      display: none;\n",
              "      fill: #1967D2;\n",
              "      height: 32px;\n",
              "      padding: 0 0 0 0;\n",
              "      width: 32px;\n",
              "    }\n",
              "\n",
              "    .colab-df-convert:hover {\n",
              "      background-color: #E2EBFA;\n",
              "      box-shadow: 0px 1px 2px rgba(60, 64, 67, 0.3), 0px 1px 3px 1px rgba(60, 64, 67, 0.15);\n",
              "      fill: #174EA6;\n",
              "    }\n",
              "\n",
              "    [theme=dark] .colab-df-convert {\n",
              "      background-color: #3B4455;\n",
              "      fill: #D2E3FC;\n",
              "    }\n",
              "\n",
              "    [theme=dark] .colab-df-convert:hover {\n",
              "      background-color: #434B5C;\n",
              "      box-shadow: 0px 1px 3px 1px rgba(0, 0, 0, 0.15);\n",
              "      filter: drop-shadow(0px 1px 2px rgba(0, 0, 0, 0.3));\n",
              "      fill: #FFFFFF;\n",
              "    }\n",
              "  </style>\n",
              "\n",
              "      <script>\n",
              "        const buttonEl =\n",
              "          document.querySelector('#df-3be8738f-4387-430b-83e8-e9682ea28460 button.colab-df-convert');\n",
              "        buttonEl.style.display =\n",
              "          google.colab.kernel.accessAllowed ? 'block' : 'none';\n",
              "\n",
              "        async function convertToInteractive(key) {\n",
              "          const element = document.querySelector('#df-3be8738f-4387-430b-83e8-e9682ea28460');\n",
              "          const dataTable =\n",
              "            await google.colab.kernel.invokeFunction('convertToInteractive',\n",
              "                                                     [key], {});\n",
              "          if (!dataTable) return;\n",
              "\n",
              "          const docLinkHtml = 'Like what you see? Visit the ' +\n",
              "            '<a target=\"_blank\" href=https://colab.research.google.com/notebooks/data_table.ipynb>data table notebook</a>'\n",
              "            + ' to learn more about interactive tables.';\n",
              "          element.innerHTML = '';\n",
              "          dataTable['output_type'] = 'display_data';\n",
              "          await google.colab.output.renderOutput(dataTable, element);\n",
              "          const docLink = document.createElement('div');\n",
              "          docLink.innerHTML = docLinkHtml;\n",
              "          element.appendChild(docLink);\n",
              "        }\n",
              "      </script>\n",
              "    </div>\n",
              "  </div>\n",
              "  "
            ]
          },
          "metadata": {},
          "execution_count": 34
        }
      ]
    }
  ]
}