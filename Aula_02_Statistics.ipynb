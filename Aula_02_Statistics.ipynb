{
  "nbformat": 4,
  "nbformat_minor": 0,
  "metadata": {
    "colab": {
      "provenance": [],
      "toc_visible": true,
      "authorship_tag": "ABX9TyOfqli0plEZcaaE357HrSfv"
    },
    "kernelspec": {
      "name": "python3",
      "display_name": "Python 3"
    },
    "language_info": {
      "name": "python"
    }
  },
  "cells": [
    {
      "cell_type": "markdown",
      "source": [
        "## Aula 02"
      ],
      "metadata": {
        "id": "QU8r9Zg12gYl"
      }
    },
    {
      "cell_type": "code",
      "execution_count": null,
      "metadata": {
        "id": "qX_qQpuD2XS_"
      },
      "outputs": [],
      "source": [
        "import numpy as np\n",
        "import random as rnd"
      ]
    },
    {
      "cell_type": "markdown",
      "source": [
        "Operações Básicas"
      ],
      "metadata": {
        "id": "CvLu3MCf4fVh"
      }
    },
    {
      "cell_type": "code",
      "source": [
        "# soma\n",
        "6+5"
      ],
      "metadata": {
        "colab": {
          "base_uri": "https://localhost:8080/"
        },
        "id": "6qs4vKhL2n88",
        "outputId": "5d0f229b-3bf6-4ac2-aed0-7af1aa9e3a48"
      },
      "execution_count": null,
      "outputs": [
        {
          "output_type": "execute_result",
          "data": {
            "text/plain": [
              "11"
            ]
          },
          "metadata": {},
          "execution_count": 2
        }
      ]
    },
    {
      "cell_type": "code",
      "source": [
        "# subtração \n",
        "9-5"
      ],
      "metadata": {
        "colab": {
          "base_uri": "https://localhost:8080/"
        },
        "id": "v6Bm67Ef2yU0",
        "outputId": "bd52ac80-1053-438c-9fe0-286d52f939da"
      },
      "execution_count": null,
      "outputs": [
        {
          "output_type": "execute_result",
          "data": {
            "text/plain": [
              "4"
            ]
          },
          "metadata": {},
          "execution_count": 3
        }
      ]
    },
    {
      "cell_type": "code",
      "source": [
        "# multiplicação \n",
        "2*3"
      ],
      "metadata": {
        "colab": {
          "base_uri": "https://localhost:8080/"
        },
        "id": "WPIiSIuv21HS",
        "outputId": "67cc2ef5-2724-4849-e8b8-8138cbb71e53"
      },
      "execution_count": null,
      "outputs": [
        {
          "output_type": "execute_result",
          "data": {
            "text/plain": [
              "6"
            ]
          },
          "metadata": {},
          "execution_count": 4
        }
      ]
    },
    {
      "cell_type": "code",
      "source": [
        "# divisão\n",
        "8/2"
      ],
      "metadata": {
        "colab": {
          "base_uri": "https://localhost:8080/"
        },
        "id": "OvPIoJeI24DD",
        "outputId": "d4094553-66c9-437e-8b24-e7cea5f1525d"
      },
      "execution_count": null,
      "outputs": [
        {
          "output_type": "execute_result",
          "data": {
            "text/plain": [
              "4.0"
            ]
          },
          "metadata": {},
          "execution_count": 5
        }
      ]
    },
    {
      "cell_type": "code",
      "source": [
        "# potencia\n",
        "5**2"
      ],
      "metadata": {
        "colab": {
          "base_uri": "https://localhost:8080/"
        },
        "id": "ZZhq_kaM2626",
        "outputId": "c790366a-dc68-410a-8f8b-5490cab5fcf0"
      },
      "execution_count": null,
      "outputs": [
        {
          "output_type": "execute_result",
          "data": {
            "text/plain": [
              "25"
            ]
          },
          "metadata": {},
          "execution_count": 6
        }
      ]
    },
    {
      "cell_type": "code",
      "source": [
        "# logaritimo\n",
        "np.log(5)"
      ],
      "metadata": {
        "colab": {
          "base_uri": "https://localhost:8080/"
        },
        "id": "4zT3G0rg3SAy",
        "outputId": "d7b939dd-e041-4ad5-cc60-80955e9990c7"
      },
      "execution_count": null,
      "outputs": [
        {
          "output_type": "execute_result",
          "data": {
            "text/plain": [
              "1.6094379124341003"
            ]
          },
          "metadata": {},
          "execution_count": 7
        }
      ]
    },
    {
      "cell_type": "code",
      "source": [
        "# exponencial\n",
        "np.exp(7)"
      ],
      "metadata": {
        "colab": {
          "base_uri": "https://localhost:8080/"
        },
        "id": "8pNLDJbt4uzS",
        "outputId": "6f6af3d8-a071-4c80-b672-2c44e4b02eed"
      },
      "execution_count": null,
      "outputs": [
        {
          "output_type": "execute_result",
          "data": {
            "text/plain": [
              "1096.6331584284585"
            ]
          },
          "metadata": {},
          "execution_count": 8
        }
      ]
    },
    {
      "cell_type": "markdown",
      "source": [
        "## Criar Função"
      ],
      "metadata": {
        "id": "XilgFKuuD0BQ"
      }
    },
    {
      "cell_type": "code",
      "source": [
        "def funcao(a, b):\n",
        "  res = a*b\n",
        "  return res\n",
        "\n",
        "funcao (8,2)"
      ],
      "metadata": {
        "colab": {
          "base_uri": "https://localhost:8080/"
        },
        "id": "rn0wqYFT456z",
        "outputId": "b2400fea-fb8a-4607-af48-9fa038946500"
      },
      "execution_count": null,
      "outputs": [
        {
          "output_type": "execute_result",
          "data": {
            "text/plain": [
              "16"
            ]
          },
          "metadata": {},
          "execution_count": 49
        }
      ]
    },
    {
      "cell_type": "code",
      "source": [
        "def funcao2(a, potencia):\n",
        "  res = a**b\n",
        "  return res\n",
        "\n",
        "funcao2 (2,3)\n"
      ],
      "metadata": {
        "colab": {
          "base_uri": "https://localhost:8080/"
        },
        "id": "DEqtYFtYFVuR",
        "outputId": "2128650f-ad47-492a-d7c3-302fe0d4ec6b"
      },
      "execution_count": null,
      "outputs": [
        {
          "output_type": "execute_result",
          "data": {
            "text/plain": [
              "512"
            ]
          },
          "metadata": {},
          "execution_count": 50
        }
      ]
    },
    {
      "cell_type": "markdown",
      "source": [
        "## Criação de Lista Customizada / Sequencial / Números Aleatórios"
      ],
      "metadata": {
        "id": "p6hmudRcGHvh"
      }
    },
    {
      "cell_type": "code",
      "source": [
        "# lista customizada\n",
        "lista1 = [1,5,10]\n",
        "lista1"
      ],
      "metadata": {
        "colab": {
          "base_uri": "https://localhost:8080/"
        },
        "id": "qZVZIy7vGURR",
        "outputId": "990b1487-2dd3-4b3a-8a5c-1ee969f4c238"
      },
      "execution_count": null,
      "outputs": [
        {
          "output_type": "execute_result",
          "data": {
            "text/plain": [
              "[1, 5, 10]"
            ]
          },
          "metadata": {},
          "execution_count": 52
        }
      ]
    },
    {
      "cell_type": "code",
      "source": [
        "# lista sequencial\n",
        "lista2 = list(range(2,8))\n",
        "lista2\n"
      ],
      "metadata": {
        "colab": {
          "base_uri": "https://localhost:8080/"
        },
        "id": "_fJ8mrMXGbmA",
        "outputId": "6febed55-99ce-4a00-ad70-ab66f9279734"
      },
      "execution_count": null,
      "outputs": [
        {
          "output_type": "execute_result",
          "data": {
            "text/plain": [
              "[2, 3, 4, 5, 6, 7]"
            ]
          },
          "metadata": {},
          "execution_count": 56
        }
      ]
    },
    {
      "cell_type": "markdown",
      "source": [
        "## Loops"
      ],
      "metadata": {
        "id": "b3ZegU3bIWGJ"
      }
    },
    {
      "cell_type": "code",
      "source": [
        "for i in range(5):\n",
        "  print(i)"
      ],
      "metadata": {
        "colab": {
          "base_uri": "https://localhost:8080/"
        },
        "id": "u4o-tsCkIXnh",
        "outputId": "c13c9b8e-81f1-4226-fee0-f9ee29c604e5"
      },
      "execution_count": null,
      "outputs": [
        {
          "output_type": "stream",
          "name": "stdout",
          "text": [
            "0\n",
            "1\n",
            "2\n",
            "3\n",
            "4\n"
          ]
        }
      ]
    },
    {
      "cell_type": "code",
      "source": [
        "for nome in ['al', 'ci', 'des']:\n",
        "  print(nome)"
      ],
      "metadata": {
        "colab": {
          "base_uri": "https://localhost:8080/"
        },
        "id": "FI3LOmbwIeBx",
        "outputId": "ac79f9ff-1efb-430c-e611-cf6f6d572221"
      },
      "execution_count": null,
      "outputs": [
        {
          "output_type": "stream",
          "name": "stdout",
          "text": [
            "al\n",
            "ci\n",
            "des\n"
          ]
        }
      ]
    },
    {
      "cell_type": "code",
      "source": [
        "#loop para criar sequencia de números aleatórios\n",
        "for i in range(5):\n",
        "\n",
        "  print(round(rnd.uniform(0, 1), 4))"
      ],
      "metadata": {
        "colab": {
          "base_uri": "https://localhost:8080/"
        },
        "id": "DlG95-xpI6Lo",
        "outputId": "d9af2c46-77e5-4325-c961-ba869e05d701"
      },
      "execution_count": null,
      "outputs": [
        {
          "output_type": "stream",
          "name": "stdout",
          "text": [
            "0.309\n",
            "0.6816\n",
            "0.3092\n",
            "0.5101\n",
            "0.3685\n"
          ]
        }
      ]
    },
    {
      "cell_type": "code",
      "source": [
        "#loop para criar lista de números aleatórios\n",
        "lista_aleatoria = [round(rnd.uniform(0, 1), 2) for i in range(5)]\n",
        "lista_aleatoria\n",
        "\n"
      ],
      "metadata": {
        "colab": {
          "base_uri": "https://localhost:8080/"
        },
        "id": "iJeIjrynKOFA",
        "outputId": "f08e1178-50f5-4fc7-f6e6-b31d044e04d7"
      },
      "execution_count": null,
      "outputs": [
        {
          "output_type": "execute_result",
          "data": {
            "text/plain": [
              "[0.79, 0.45, 0.38, 0.3, 0.38]"
            ]
          },
          "metadata": {},
          "execution_count": 70
        }
      ]
    },
    {
      "cell_type": "code",
      "source": [
        "# criar lista de números aleatórios inteiros\n",
        "megadavirada = rnd.sample(range(1,61), 6)\n",
        "megadavirada"
      ],
      "metadata": {
        "colab": {
          "base_uri": "https://localhost:8080/"
        },
        "id": "CMyYCvx9K7-Q",
        "outputId": "7ec5a0ab-59d1-4f06-9c0a-d06d93449515"
      },
      "execution_count": null,
      "outputs": [
        {
          "output_type": "execute_result",
          "data": {
            "text/plain": [
              "[24, 13, 33, 27, 17, 22]"
            ]
          },
          "metadata": {},
          "execution_count": 74
        }
      ]
    },
    {
      "cell_type": "markdown",
      "source": [
        "## Operações com Listas Numpy"
      ],
      "metadata": {
        "id": "VWmED2HHM1ZW"
      }
    },
    {
      "cell_type": "code",
      "source": [
        "# somar listas\n",
        "a = [2, 3]\n",
        "b = [5, 6]\n",
        "a+b"
      ],
      "metadata": {
        "colab": {
          "base_uri": "https://localhost:8080/"
        },
        "id": "V5if-bkqM80J",
        "outputId": "ef414738-b2fc-436f-f173-41acb4a10359"
      },
      "execution_count": null,
      "outputs": [
        {
          "output_type": "execute_result",
          "data": {
            "text/plain": [
              "[2, 3, 5, 6]"
            ]
          },
          "metadata": {},
          "execution_count": 75
        }
      ]
    },
    {
      "cell_type": "code",
      "source": [
        "# somar listas numpy\n",
        "a_np = np.array(a)\n",
        "a_np"
      ],
      "metadata": {
        "colab": {
          "base_uri": "https://localhost:8080/"
        },
        "id": "3XRFfMVMNOBh",
        "outputId": "fdb54d7b-9bd7-40f7-8536-73dc4d1b08c7"
      },
      "execution_count": null,
      "outputs": [
        {
          "output_type": "execute_result",
          "data": {
            "text/plain": [
              "array([2, 3])"
            ]
          },
          "metadata": {},
          "execution_count": 77
        }
      ]
    },
    {
      "cell_type": "code",
      "source": [
        "b_np = np.array(b)\n",
        "b_np"
      ],
      "metadata": {
        "colab": {
          "base_uri": "https://localhost:8080/"
        },
        "id": "UHWBor7tNhii",
        "outputId": "90f5bb53-da3d-40af-b940-b652eef4ae7f"
      },
      "execution_count": null,
      "outputs": [
        {
          "output_type": "execute_result",
          "data": {
            "text/plain": [
              "array([5, 6])"
            ]
          },
          "metadata": {},
          "execution_count": 78
        }
      ]
    },
    {
      "cell_type": "code",
      "source": [
        "# soma\n",
        "a_np+b_np"
      ],
      "metadata": {
        "colab": {
          "base_uri": "https://localhost:8080/"
        },
        "id": "owqCOWiZNmsL",
        "outputId": "44153716-76c3-43a1-db11-c6eba787f00a"
      },
      "execution_count": null,
      "outputs": [
        {
          "output_type": "execute_result",
          "data": {
            "text/plain": [
              "array([7, 9])"
            ]
          },
          "metadata": {},
          "execution_count": 79
        }
      ]
    },
    {
      "cell_type": "code",
      "source": [
        "#subtração\n",
        "a_np-b_np"
      ],
      "metadata": {
        "colab": {
          "base_uri": "https://localhost:8080/"
        },
        "id": "YBJ_27kNNszc",
        "outputId": "f94c4990-a1a2-47e7-ad06-81f880768e2a"
      },
      "execution_count": null,
      "outputs": [
        {
          "output_type": "execute_result",
          "data": {
            "text/plain": [
              "array([-3, -3])"
            ]
          },
          "metadata": {},
          "execution_count": 80
        }
      ]
    },
    {
      "cell_type": "code",
      "source": [
        "# multiplicação\n",
        "a_np*b_np"
      ],
      "metadata": {
        "colab": {
          "base_uri": "https://localhost:8080/"
        },
        "id": "LroV3N6tNxGF",
        "outputId": "dcb3d1b1-08ae-4a56-e322-2b54fa0c5768"
      },
      "execution_count": null,
      "outputs": [
        {
          "output_type": "execute_result",
          "data": {
            "text/plain": [
              "array([10, 18])"
            ]
          },
          "metadata": {},
          "execution_count": 81
        }
      ]
    },
    {
      "cell_type": "code",
      "source": [
        "# divisão\n",
        "a_np/b_np"
      ],
      "metadata": {
        "colab": {
          "base_uri": "https://localhost:8080/"
        },
        "id": "4M-_fEI-N1kF",
        "outputId": "cfbf56b1-1337-4add-deda-41cf7917ea43"
      },
      "execution_count": null,
      "outputs": [
        {
          "output_type": "execute_result",
          "data": {
            "text/plain": [
              "array([0.4, 0.5])"
            ]
          },
          "metadata": {},
          "execution_count": 82
        }
      ]
    },
    {
      "cell_type": "markdown",
      "source": [
        "## Operações com Matrizes"
      ],
      "metadata": {
        "id": "wFJQkUM3Q8_c"
      }
    },
    {
      "cell_type": "code",
      "source": [
        "# criar matriz numpy\n",
        "A = np.array([[2,3], [5,6]])\n",
        "A"
      ],
      "metadata": {
        "colab": {
          "base_uri": "https://localhost:8080/"
        },
        "id": "ruvtdZ85RAKk",
        "outputId": "52fab5cd-9e5d-4f9a-f7c9-28bc3871af38"
      },
      "execution_count": null,
      "outputs": [
        {
          "output_type": "execute_result",
          "data": {
            "text/plain": [
              "array([[2, 3],\n",
              "       [5, 6]])"
            ]
          },
          "metadata": {},
          "execution_count": 85
        }
      ]
    },
    {
      "cell_type": "code",
      "source": [
        "B = np.array([[7,2], [4,3]])\n",
        "B"
      ],
      "metadata": {
        "colab": {
          "base_uri": "https://localhost:8080/"
        },
        "id": "56W74f1QRWx9",
        "outputId": "67cd5fd9-1a56-41ee-adb8-bbb940ca392b"
      },
      "execution_count": null,
      "outputs": [
        {
          "output_type": "execute_result",
          "data": {
            "text/plain": [
              "array([[7, 2],\n",
              "       [4, 3]])"
            ]
          },
          "metadata": {},
          "execution_count": 86
        }
      ]
    },
    {
      "cell_type": "code",
      "source": [
        "# Soma\n",
        "A+B"
      ],
      "metadata": {
        "colab": {
          "base_uri": "https://localhost:8080/"
        },
        "id": "_aq6PLe5Rhiu",
        "outputId": "71a94983-d033-49ba-d536-8be970c34052"
      },
      "execution_count": null,
      "outputs": [
        {
          "output_type": "execute_result",
          "data": {
            "text/plain": [
              "array([[9, 5],\n",
              "       [9, 9]])"
            ]
          },
          "metadata": {},
          "execution_count": 87
        }
      ]
    },
    {
      "cell_type": "code",
      "source": [
        "# Subtração\n",
        "A-B"
      ],
      "metadata": {
        "colab": {
          "base_uri": "https://localhost:8080/"
        },
        "id": "MSl9WnSQRmC-",
        "outputId": "ebffde36-7579-47dd-c6f7-4fccc246df55"
      },
      "execution_count": null,
      "outputs": [
        {
          "output_type": "execute_result",
          "data": {
            "text/plain": [
              "array([[-5,  1],\n",
              "       [ 1,  3]])"
            ]
          },
          "metadata": {},
          "execution_count": 88
        }
      ]
    },
    {
      "cell_type": "code",
      "source": [
        "# Multiplicação de elementos\n",
        "A*B"
      ],
      "metadata": {
        "colab": {
          "base_uri": "https://localhost:8080/"
        },
        "id": "DyTIu5BzRoP8",
        "outputId": "33ea103d-63b4-4cce-840d-a934d1958fef"
      },
      "execution_count": null,
      "outputs": [
        {
          "output_type": "execute_result",
          "data": {
            "text/plain": [
              "array([[14,  6],\n",
              "       [20, 18]])"
            ]
          },
          "metadata": {},
          "execution_count": 90
        }
      ]
    },
    {
      "cell_type": "code",
      "source": [
        "# Multiplicação de Matriz\n",
        "A.dot(B)"
      ],
      "metadata": {
        "colab": {
          "base_uri": "https://localhost:8080/"
        },
        "id": "9HVYUgQBRr-k",
        "outputId": "c71f7640-5776-4cfa-ff15-0f75345a2031"
      },
      "execution_count": null,
      "outputs": [
        {
          "output_type": "execute_result",
          "data": {
            "text/plain": [
              "array([[26, 13],\n",
              "       [59, 28]])"
            ]
          },
          "metadata": {},
          "execution_count": 91
        }
      ]
    }
  ]
}