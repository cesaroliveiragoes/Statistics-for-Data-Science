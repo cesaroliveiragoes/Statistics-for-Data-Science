{
  "cells": [
    {
      "cell_type": "markdown",
      "metadata": {
        "id": "view-in-github",
        "colab_type": "text"
      },
      "source": [
        "<a href=\"https://colab.research.google.com/github/cesaroliveiragoes/Statistics-for-Data-Science/blob/main/checkpoint_02_2_sem.ipynb\" target=\"_parent\"><img src=\"https://colab.research.google.com/assets/colab-badge.svg\" alt=\"Open In Colab\"/></a>"
      ]
    },
    {
      "cell_type": "markdown",
      "metadata": {
        "id": "Ip-ln7NoTna0"
      },
      "source": [
        "# Checkpoint 2 - Análise Covid Brasil"
      ]
    },
    {
      "cell_type": "markdown",
      "metadata": {
        "id": "amL0aL-QT3X4"
      },
      "source": [
        "## Carregar módulos"
      ]
    },
    {
      "cell_type": "code",
      "execution_count": null,
      "metadata": {
        "id": "dy4tAdLXT3c3"
      },
      "outputs": [],
      "source": [
        "import numpy as np\n",
        "import pandas as pd\n",
        "import matplotlib.pyplot as plt\n",
        "\n",
        "#datas\n",
        "import datetime\n",
        "\n",
        "# estatistica\n",
        "from scipy.stats import binom, poisson\n",
        "from scipy.stats import expon, norm, t, chi2, f"
      ]
    },
    {
      "cell_type": "markdown",
      "metadata": {
        "id": "-4a8IgMBT3gr"
      },
      "source": [
        "## Carregar dados"
      ]
    },
    {
      "cell_type": "markdown",
      "metadata": {
        "id": "VnfWrvXjQ-ZU"
      },
      "source": [
        "- Dados Covid Brasil"
      ]
    },
    {
      "cell_type": "code",
      "execution_count": null,
      "metadata": {
        "colab": {
          "base_uri": "https://localhost:8080/"
        },
        "id": "bfb7qKtta_8T",
        "outputId": "ad69ed1f-0d90-4f54-ae29-4d99fe996795"
      },
      "outputs": [
        {
          "output_type": "stream",
          "name": "stdout",
          "text": [
            "--2023-11-14 21:37:06--  https://github.com/wcota/covid19br/blob/master/cases-brazil-cities-time.csv.gz?raw=true\n",
            "Resolving github.com (github.com)... 140.82.112.3\n",
            "Connecting to github.com (github.com)|140.82.112.3|:443... connected.\n",
            "HTTP request sent, awaiting response... 302 Found\n",
            "Location: https://github.com/wcota/covid19br/raw/master/cases-brazil-cities-time.csv.gz [following]\n",
            "--2023-11-14 21:37:07--  https://github.com/wcota/covid19br/raw/master/cases-brazil-cities-time.csv.gz\n",
            "Reusing existing connection to github.com:443.\n",
            "HTTP request sent, awaiting response... 302 Found\n",
            "Location: https://raw.githubusercontent.com/wcota/covid19br/master/cases-brazil-cities-time.csv.gz [following]\n",
            "--2023-11-14 21:37:07--  https://raw.githubusercontent.com/wcota/covid19br/master/cases-brazil-cities-time.csv.gz\n",
            "Resolving raw.githubusercontent.com (raw.githubusercontent.com)... 185.199.108.133, 185.199.109.133, 185.199.111.133, ...\n",
            "Connecting to raw.githubusercontent.com (raw.githubusercontent.com)|185.199.108.133|:443... connected.\n",
            "HTTP request sent, awaiting response... 200 OK\n",
            "Length: 11465888 (11M) [application/octet-stream]\n",
            "Saving to: ‘cases-brazil-cities-time.csv.gz’\n",
            "\n",
            "cases-brazil-cities 100%[===================>]  10.93M  --.-KB/s    in 0.1s    \n",
            "\n",
            "2023-11-14 21:37:07 (81.7 MB/s) - ‘cases-brazil-cities-time.csv.gz’ saved [11465888/11465888]\n",
            "\n"
          ]
        }
      ],
      "source": [
        "! wget --no-check-certificate --content-disposition 'https://github.com/wcota/covid19br/blob/master/cases-brazil-cities-time.csv.gz?raw=true'"
      ]
    },
    {
      "cell_type": "code",
      "execution_count": null,
      "metadata": {
        "id": "O0cvZDFOb3mL"
      },
      "outputs": [],
      "source": [
        "! gunzip cases-brazil-cities-time.csv.gz"
      ]
    },
    {
      "cell_type": "code",
      "execution_count": null,
      "metadata": {
        "id": "GWy73yd4aadf"
      },
      "outputs": [],
      "source": [
        "dados_brasil = pd.read_csv('cases-brazil-cities-time.csv')"
      ]
    },
    {
      "cell_type": "markdown",
      "metadata": {
        "id": "y4rLc7DmRTsb"
      },
      "source": [
        "- Dados censo"
      ]
    },
    {
      "cell_type": "code",
      "execution_count": null,
      "metadata": {
        "id": "IAfG_wH6RTxz",
        "outputId": "49079c04-fba7-4593-bdeb-e1eb69151c75",
        "colab": {
          "base_uri": "https://localhost:8080/",
          "height": 333
        }
      },
      "outputs": [
        {
          "output_type": "error",
          "ename": "FileNotFoundError",
          "evalue": "ignored",
          "traceback": [
            "\u001b[0;31m---------------------------------------------------------------------------\u001b[0m",
            "\u001b[0;31mFileNotFoundError\u001b[0m                         Traceback (most recent call last)",
            "\u001b[0;32m<ipython-input-5-8411024e7cb3>\u001b[0m in \u001b[0;36m<cell line: 1>\u001b[0;34m()\u001b[0m\n\u001b[0;32m----> 1\u001b[0;31m \u001b[0mdados_censo\u001b[0m \u001b[0;34m=\u001b[0m \u001b[0mpd\u001b[0m\u001b[0;34m.\u001b[0m\u001b[0mread_csv\u001b[0m\u001b[0;34m(\u001b[0m\u001b[0;34m'dados_municipios_2010.csv'\u001b[0m\u001b[0;34m,\u001b[0m \u001b[0msep\u001b[0m \u001b[0;34m=\u001b[0m \u001b[0;34m';'\u001b[0m\u001b[0;34m,\u001b[0m \u001b[0mdecimal\u001b[0m \u001b[0;34m=\u001b[0m \u001b[0;34m','\u001b[0m\u001b[0;34m,\u001b[0m \u001b[0mencoding\u001b[0m \u001b[0;34m=\u001b[0m \u001b[0;34m'latin1'\u001b[0m\u001b[0;34m)\u001b[0m\u001b[0;34m\u001b[0m\u001b[0;34m\u001b[0m\u001b[0m\n\u001b[0m",
            "\u001b[0;32m/usr/local/lib/python3.10/dist-packages/pandas/util/_decorators.py\u001b[0m in \u001b[0;36mwrapper\u001b[0;34m(*args, **kwargs)\u001b[0m\n\u001b[1;32m    209\u001b[0m                 \u001b[0;32melse\u001b[0m\u001b[0;34m:\u001b[0m\u001b[0;34m\u001b[0m\u001b[0;34m\u001b[0m\u001b[0m\n\u001b[1;32m    210\u001b[0m                     \u001b[0mkwargs\u001b[0m\u001b[0;34m[\u001b[0m\u001b[0mnew_arg_name\u001b[0m\u001b[0;34m]\u001b[0m \u001b[0;34m=\u001b[0m \u001b[0mnew_arg_value\u001b[0m\u001b[0;34m\u001b[0m\u001b[0;34m\u001b[0m\u001b[0m\n\u001b[0;32m--> 211\u001b[0;31m             \u001b[0;32mreturn\u001b[0m \u001b[0mfunc\u001b[0m\u001b[0;34m(\u001b[0m\u001b[0;34m*\u001b[0m\u001b[0margs\u001b[0m\u001b[0;34m,\u001b[0m \u001b[0;34m**\u001b[0m\u001b[0mkwargs\u001b[0m\u001b[0;34m)\u001b[0m\u001b[0;34m\u001b[0m\u001b[0;34m\u001b[0m\u001b[0m\n\u001b[0m\u001b[1;32m    212\u001b[0m \u001b[0;34m\u001b[0m\u001b[0m\n\u001b[1;32m    213\u001b[0m         \u001b[0;32mreturn\u001b[0m \u001b[0mcast\u001b[0m\u001b[0;34m(\u001b[0m\u001b[0mF\u001b[0m\u001b[0;34m,\u001b[0m \u001b[0mwrapper\u001b[0m\u001b[0;34m)\u001b[0m\u001b[0;34m\u001b[0m\u001b[0;34m\u001b[0m\u001b[0m\n",
            "\u001b[0;32m/usr/local/lib/python3.10/dist-packages/pandas/util/_decorators.py\u001b[0m in \u001b[0;36mwrapper\u001b[0;34m(*args, **kwargs)\u001b[0m\n\u001b[1;32m    329\u001b[0m                     \u001b[0mstacklevel\u001b[0m\u001b[0;34m=\u001b[0m\u001b[0mfind_stack_level\u001b[0m\u001b[0;34m(\u001b[0m\u001b[0;34m)\u001b[0m\u001b[0;34m,\u001b[0m\u001b[0;34m\u001b[0m\u001b[0;34m\u001b[0m\u001b[0m\n\u001b[1;32m    330\u001b[0m                 )\n\u001b[0;32m--> 331\u001b[0;31m             \u001b[0;32mreturn\u001b[0m \u001b[0mfunc\u001b[0m\u001b[0;34m(\u001b[0m\u001b[0;34m*\u001b[0m\u001b[0margs\u001b[0m\u001b[0;34m,\u001b[0m \u001b[0;34m**\u001b[0m\u001b[0mkwargs\u001b[0m\u001b[0;34m)\u001b[0m\u001b[0;34m\u001b[0m\u001b[0;34m\u001b[0m\u001b[0m\n\u001b[0m\u001b[1;32m    332\u001b[0m \u001b[0;34m\u001b[0m\u001b[0m\n\u001b[1;32m    333\u001b[0m         \u001b[0;31m# error: \"Callable[[VarArg(Any), KwArg(Any)], Any]\" has no\u001b[0m\u001b[0;34m\u001b[0m\u001b[0;34m\u001b[0m\u001b[0m\n",
            "\u001b[0;32m/usr/local/lib/python3.10/dist-packages/pandas/io/parsers/readers.py\u001b[0m in \u001b[0;36mread_csv\u001b[0;34m(filepath_or_buffer, sep, delimiter, header, names, index_col, usecols, squeeze, prefix, mangle_dupe_cols, dtype, engine, converters, true_values, false_values, skipinitialspace, skiprows, skipfooter, nrows, na_values, keep_default_na, na_filter, verbose, skip_blank_lines, parse_dates, infer_datetime_format, keep_date_col, date_parser, dayfirst, cache_dates, iterator, chunksize, compression, thousands, decimal, lineterminator, quotechar, quoting, doublequote, escapechar, comment, encoding, encoding_errors, dialect, error_bad_lines, warn_bad_lines, on_bad_lines, delim_whitespace, low_memory, memory_map, float_precision, storage_options)\u001b[0m\n\u001b[1;32m    948\u001b[0m     \u001b[0mkwds\u001b[0m\u001b[0;34m.\u001b[0m\u001b[0mupdate\u001b[0m\u001b[0;34m(\u001b[0m\u001b[0mkwds_defaults\u001b[0m\u001b[0;34m)\u001b[0m\u001b[0;34m\u001b[0m\u001b[0;34m\u001b[0m\u001b[0m\n\u001b[1;32m    949\u001b[0m \u001b[0;34m\u001b[0m\u001b[0m\n\u001b[0;32m--> 950\u001b[0;31m     \u001b[0;32mreturn\u001b[0m \u001b[0m_read\u001b[0m\u001b[0;34m(\u001b[0m\u001b[0mfilepath_or_buffer\u001b[0m\u001b[0;34m,\u001b[0m \u001b[0mkwds\u001b[0m\u001b[0;34m)\u001b[0m\u001b[0;34m\u001b[0m\u001b[0;34m\u001b[0m\u001b[0m\n\u001b[0m\u001b[1;32m    951\u001b[0m \u001b[0;34m\u001b[0m\u001b[0m\n\u001b[1;32m    952\u001b[0m \u001b[0;34m\u001b[0m\u001b[0m\n",
            "\u001b[0;32m/usr/local/lib/python3.10/dist-packages/pandas/io/parsers/readers.py\u001b[0m in \u001b[0;36m_read\u001b[0;34m(filepath_or_buffer, kwds)\u001b[0m\n\u001b[1;32m    603\u001b[0m \u001b[0;34m\u001b[0m\u001b[0m\n\u001b[1;32m    604\u001b[0m     \u001b[0;31m# Create the parser.\u001b[0m\u001b[0;34m\u001b[0m\u001b[0;34m\u001b[0m\u001b[0m\n\u001b[0;32m--> 605\u001b[0;31m     \u001b[0mparser\u001b[0m \u001b[0;34m=\u001b[0m \u001b[0mTextFileReader\u001b[0m\u001b[0;34m(\u001b[0m\u001b[0mfilepath_or_buffer\u001b[0m\u001b[0;34m,\u001b[0m \u001b[0;34m**\u001b[0m\u001b[0mkwds\u001b[0m\u001b[0;34m)\u001b[0m\u001b[0;34m\u001b[0m\u001b[0;34m\u001b[0m\u001b[0m\n\u001b[0m\u001b[1;32m    606\u001b[0m \u001b[0;34m\u001b[0m\u001b[0m\n\u001b[1;32m    607\u001b[0m     \u001b[0;32mif\u001b[0m \u001b[0mchunksize\u001b[0m \u001b[0;32mor\u001b[0m \u001b[0miterator\u001b[0m\u001b[0;34m:\u001b[0m\u001b[0;34m\u001b[0m\u001b[0;34m\u001b[0m\u001b[0m\n",
            "\u001b[0;32m/usr/local/lib/python3.10/dist-packages/pandas/io/parsers/readers.py\u001b[0m in \u001b[0;36m__init__\u001b[0;34m(self, f, engine, **kwds)\u001b[0m\n\u001b[1;32m   1440\u001b[0m \u001b[0;34m\u001b[0m\u001b[0m\n\u001b[1;32m   1441\u001b[0m         \u001b[0mself\u001b[0m\u001b[0;34m.\u001b[0m\u001b[0mhandles\u001b[0m\u001b[0;34m:\u001b[0m \u001b[0mIOHandles\u001b[0m \u001b[0;34m|\u001b[0m \u001b[0;32mNone\u001b[0m \u001b[0;34m=\u001b[0m \u001b[0;32mNone\u001b[0m\u001b[0;34m\u001b[0m\u001b[0;34m\u001b[0m\u001b[0m\n\u001b[0;32m-> 1442\u001b[0;31m         \u001b[0mself\u001b[0m\u001b[0;34m.\u001b[0m\u001b[0m_engine\u001b[0m \u001b[0;34m=\u001b[0m \u001b[0mself\u001b[0m\u001b[0;34m.\u001b[0m\u001b[0m_make_engine\u001b[0m\u001b[0;34m(\u001b[0m\u001b[0mf\u001b[0m\u001b[0;34m,\u001b[0m \u001b[0mself\u001b[0m\u001b[0;34m.\u001b[0m\u001b[0mengine\u001b[0m\u001b[0;34m)\u001b[0m\u001b[0;34m\u001b[0m\u001b[0;34m\u001b[0m\u001b[0m\n\u001b[0m\u001b[1;32m   1443\u001b[0m \u001b[0;34m\u001b[0m\u001b[0m\n\u001b[1;32m   1444\u001b[0m     \u001b[0;32mdef\u001b[0m \u001b[0mclose\u001b[0m\u001b[0;34m(\u001b[0m\u001b[0mself\u001b[0m\u001b[0;34m)\u001b[0m \u001b[0;34m->\u001b[0m \u001b[0;32mNone\u001b[0m\u001b[0;34m:\u001b[0m\u001b[0;34m\u001b[0m\u001b[0;34m\u001b[0m\u001b[0m\n",
            "\u001b[0;32m/usr/local/lib/python3.10/dist-packages/pandas/io/parsers/readers.py\u001b[0m in \u001b[0;36m_make_engine\u001b[0;34m(self, f, engine)\u001b[0m\n\u001b[1;32m   1733\u001b[0m                 \u001b[0;32mif\u001b[0m \u001b[0;34m\"b\"\u001b[0m \u001b[0;32mnot\u001b[0m \u001b[0;32min\u001b[0m \u001b[0mmode\u001b[0m\u001b[0;34m:\u001b[0m\u001b[0;34m\u001b[0m\u001b[0;34m\u001b[0m\u001b[0m\n\u001b[1;32m   1734\u001b[0m                     \u001b[0mmode\u001b[0m \u001b[0;34m+=\u001b[0m \u001b[0;34m\"b\"\u001b[0m\u001b[0;34m\u001b[0m\u001b[0;34m\u001b[0m\u001b[0m\n\u001b[0;32m-> 1735\u001b[0;31m             self.handles = get_handle(\n\u001b[0m\u001b[1;32m   1736\u001b[0m                 \u001b[0mf\u001b[0m\u001b[0;34m,\u001b[0m\u001b[0;34m\u001b[0m\u001b[0;34m\u001b[0m\u001b[0m\n\u001b[1;32m   1737\u001b[0m                 \u001b[0mmode\u001b[0m\u001b[0;34m,\u001b[0m\u001b[0;34m\u001b[0m\u001b[0;34m\u001b[0m\u001b[0m\n",
            "\u001b[0;32m/usr/local/lib/python3.10/dist-packages/pandas/io/common.py\u001b[0m in \u001b[0;36mget_handle\u001b[0;34m(path_or_buf, mode, encoding, compression, memory_map, is_text, errors, storage_options)\u001b[0m\n\u001b[1;32m    854\u001b[0m         \u001b[0;32mif\u001b[0m \u001b[0mioargs\u001b[0m\u001b[0;34m.\u001b[0m\u001b[0mencoding\u001b[0m \u001b[0;32mand\u001b[0m \u001b[0;34m\"b\"\u001b[0m \u001b[0;32mnot\u001b[0m \u001b[0;32min\u001b[0m \u001b[0mioargs\u001b[0m\u001b[0;34m.\u001b[0m\u001b[0mmode\u001b[0m\u001b[0;34m:\u001b[0m\u001b[0;34m\u001b[0m\u001b[0;34m\u001b[0m\u001b[0m\n\u001b[1;32m    855\u001b[0m             \u001b[0;31m# Encoding\u001b[0m\u001b[0;34m\u001b[0m\u001b[0;34m\u001b[0m\u001b[0m\n\u001b[0;32m--> 856\u001b[0;31m             handle = open(\n\u001b[0m\u001b[1;32m    857\u001b[0m                 \u001b[0mhandle\u001b[0m\u001b[0;34m,\u001b[0m\u001b[0;34m\u001b[0m\u001b[0;34m\u001b[0m\u001b[0m\n\u001b[1;32m    858\u001b[0m                 \u001b[0mioargs\u001b[0m\u001b[0;34m.\u001b[0m\u001b[0mmode\u001b[0m\u001b[0;34m,\u001b[0m\u001b[0;34m\u001b[0m\u001b[0;34m\u001b[0m\u001b[0m\n",
            "\u001b[0;31mFileNotFoundError\u001b[0m: [Errno 2] No such file or directory: 'dados_municipios_2010.csv'"
          ]
        }
      ],
      "source": [
        "dados_censo = pd.read_csv('dados_municipios_2010.csv', sep = ';', decimal = ',', encoding = 'latin1')"
      ]
    },
    {
      "cell_type": "markdown",
      "metadata": {
        "id": "WltBdBdIYGHG"
      },
      "source": [
        "## Ajustar dados"
      ]
    },
    {
      "cell_type": "code",
      "execution_count": null,
      "metadata": {
        "id": "Q8pEkZrzT32V"
      },
      "outputs": [],
      "source": [
        "max_date = max(dados_brasil['date'])"
      ]
    },
    {
      "cell_type": "code",
      "execution_count": null,
      "metadata": {
        "id": "SSyzaKD5T36E"
      },
      "outputs": [],
      "source": [
        "dados_brasil = dados_brasil[(dados_brasil['date'] == max_date) & \\\n",
        "                            (dados_brasil['state'] != 'TOTAL')]"
      ]
    },
    {
      "cell_type": "code",
      "execution_count": null,
      "metadata": {
        "id": "rWTG9vnTgi0J"
      },
      "outputs": [],
      "source": [
        "cols = ['ibgeID', 'date', 'state', 'city', 'totalCases', 'deaths']"
      ]
    },
    {
      "cell_type": "code",
      "execution_count": null,
      "metadata": {
        "id": "MMDDAVCNgi3q"
      },
      "outputs": [],
      "source": [
        "dados_brasil = dados_brasil[cols].reset_index(drop=True)"
      ]
    },
    {
      "cell_type": "markdown",
      "metadata": {
        "id": "vr1mYB46gi7i"
      },
      "source": [
        "## Aqui começa o trabalho"
      ]
    },
    {
      "cell_type": "markdown",
      "metadata": {
        "id": "T0c-HjqZXX58"
      },
      "source": [
        "1 –Realizar o join com o dataframe “dados_brasil”com o dataframe “dados_censo”."
      ]
    },
    {
      "cell_type": "code",
      "source": [
        "# exibir/visualizar a tabela dados_brasil\n",
        "dados_brasil"
      ],
      "metadata": {
        "id": "OfJfx5a7g0lY"
      },
      "execution_count": null,
      "outputs": []
    },
    {
      "cell_type": "code",
      "source": [
        "# exibir/visualizar a tabela dados_censo\n",
        "dados_censo"
      ],
      "metadata": {
        "id": "mvGJC6SYg0rK"
      },
      "execution_count": null,
      "outputs": []
    },
    {
      "cell_type": "code",
      "source": [
        "#realizar o join usando a função pd.merge pela coluna ibgeID que é a coluna em comum das duas tabelas\n",
        "dados_merge = pd.merge(dados_brasil, dados_censo, on=['ibgeID'], how = 'left')\n",
        "dados_merge"
      ],
      "metadata": {
        "id": "9YjWjbVVg0t3"
      },
      "execution_count": null,
      "outputs": []
    },
    {
      "cell_type": "code",
      "source": [
        "# visualizar dados ausentes e/ou duplicatas\n",
        "dados_sem_merge = dados_merge[dados_merge.isnull().any(axis=1) == True]"
      ],
      "metadata": {
        "id": "3wsVyfy2qhF-"
      },
      "execution_count": null,
      "outputs": []
    },
    {
      "cell_type": "code",
      "source": [
        "dados_sem_merge[['ibgeID', 'state', 'city']].drop_duplicates()"
      ],
      "metadata": {
        "id": "gkkHssDsql1x"
      },
      "execution_count": null,
      "outputs": []
    },
    {
      "cell_type": "code",
      "source": [
        "# dados sem duplicatas ou valores ausentes\n",
        "dados_merge_final = dados_merge[~dados_merge.isnull().any(axis=1) == True].reset_index()\n",
        "dados_merge_final"
      ],
      "metadata": {
        "id": "nEYZ2aZ9s2N0"
      },
      "execution_count": null,
      "outputs": []
    },
    {
      "cell_type": "markdown",
      "metadata": {
        "id": "qFPfla6zXYsD"
      },
      "source": [
        "2 –Qual  seria  o  tamanho  de  amostra  para  uma  pesquisa  em  todos  os  municípios  do  Brasil contidos  no  dataframe?  (Utilizar  a  variância  da  renda  per  capita  como  base  da  fórmula  de amostragem, z = 1,96 e margem de erro = 20)."
      ]
    },
    {
      "cell_type": "code",
      "source": [
        "# descobrir o número total de municípios no dataframe\n",
        "len(dados_merge_final['ibgeID'].unique())"
      ],
      "metadata": {
        "id": "-L3NC2SAg1eR"
      },
      "execution_count": null,
      "outputs": []
    },
    {
      "cell_type": "code",
      "source": [
        "# forma alternativa de como descobrir o número total de municípios no dataframe\n",
        "dados_merge_final.shape"
      ],
      "metadata": {
        "id": "MzCzgLXVym7V"
      },
      "execution_count": null,
      "outputs": []
    },
    {
      "cell_type": "code",
      "source": [
        "# descorbrir a variância (ou seja o desvio padrão) da renda per capta\n",
        "variancia_rdpc = dados_merge_final.agg(dp_RDPC = pd.NamedAgg('RDPC', 'std'))\n",
        "variancia_rdpc"
      ],
      "metadata": {
        "id": "mj_zEILgyTEI"
      },
      "execution_count": null,
      "outputs": []
    },
    {
      "cell_type": "code",
      "source": [
        "# para este exercício usaremos amostra contínua\n",
        "def formula_amostra_continua(N, S, Z, ME):\n",
        "  n = (Z**2 * S**2 * N) / ((ME**2 * (N-1)) + (Z**2 * S**2))\n",
        "  return int(n)"
      ],
      "metadata": {
        "id": "JFpqCl1yxNpx"
      },
      "execution_count": null,
      "outputs": []
    },
    {
      "cell_type": "code",
      "source": [
        "# nomear as variáveis para a fórmula de AMOSTRA CONTÍNUA\n",
        "# S = variância/desvio padrão   N = população total   Z = valor da distribuição para o nível de confiança adotado  ME = margem de erro\n",
        "N = 5565\n",
        "Z = 1.96\n",
        "S = 243.269333\n",
        "ME = 20"
      ],
      "metadata": {
        "id": "qJ8o__BqWX9m"
      },
      "execution_count": null,
      "outputs": []
    },
    {
      "cell_type": "code",
      "source": [
        "n_br = formula_amostra_continua(N, S, Z, ME)\n",
        "n_br"
      ],
      "metadata": {
        "id": "_Fl-hjkcyWS6"
      },
      "execution_count": null,
      "outputs": []
    },
    {
      "cell_type": "markdown",
      "metadata": {
        "id": "7jNbFzOIXcK6"
      },
      "source": [
        "3 –Qual seria o tamanho da amostra para São Paulo? (Utilizar a variância da renda per capita como base da fórmula de amostragem, z = 1,96 e margem de erro = 20)"
      ]
    },
    {
      "cell_type": "code",
      "source": [
        "estado = 'SP'"
      ],
      "metadata": {
        "id": "BIgo77tpg2Ut"
      },
      "execution_count": null,
      "outputs": []
    },
    {
      "cell_type": "code",
      "source": [
        "dados_sp = dados_merge_final[dados_merge_final['state'] == estado].reset_index()\n",
        "dados_sp"
      ],
      "metadata": {
        "id": "R362Q6fYg2XK"
      },
      "execution_count": null,
      "outputs": []
    },
    {
      "cell_type": "code",
      "source": [
        "# descorbrir a variância (ou seja o desvio padrão) da renda per capta\n",
        "variancia_rdpc_sp = dados_sp.agg(dp_RDPC = pd.NamedAgg('RDPC', 'std'))\n",
        "variancia_rdpc_sp"
      ],
      "metadata": {
        "id": "F2Jw37vW-rNm"
      },
      "execution_count": null,
      "outputs": []
    },
    {
      "cell_type": "code",
      "source": [
        "# neste exercício usaremos amostra contínua\n",
        "def formula_amostra_continua(N, S, Z, ME):\n",
        "  n = (Z**2 * S**2 * N) / ((ME**2 * (N-1)) + (Z**2 * S**2))\n",
        "  return int(n)"
      ],
      "metadata": {
        "id": "qxGPxqkzg2cJ"
      },
      "execution_count": null,
      "outputs": []
    },
    {
      "cell_type": "code",
      "source": [
        "# nomear as variáveis para a fórmula de AMOSTRA CONTÍNUA\n",
        "# S = variância/desvio padrão   N = população total   Z = valor da distribuição para o nível de confiança adotado  ME = margem de erro\n",
        "N = 645\n",
        "Z = 1.96\n",
        "S = 197.39827\n",
        "ME = 25"
      ],
      "metadata": {
        "id": "dmlF0kwVWVVE"
      },
      "execution_count": null,
      "outputs": []
    },
    {
      "cell_type": "code",
      "source": [
        "n_sp = formula_amostra_continua(N, S, Z, ME)\n",
        "n_sp"
      ],
      "metadata": {
        "id": "kAlSjGGGg2ew"
      },
      "execution_count": null,
      "outputs": []
    },
    {
      "cell_type": "markdown",
      "metadata": {
        "id": "XC1dCf7nXeBL"
      },
      "source": [
        "4 –Agora que possui os tamanhos de amostra para o Brasil (n_br) e para São Paulo (n_sp), criar um dataframe para a amostra do Brasil e outro dataframe para amostra de São Paulo. (utilizar o método da amostra aleatória simples)"
      ]
    },
    {
      "cell_type": "code",
      "source": [
        "# dataframe para Brasil\n",
        "dados_amostra_simples_br = dados_merge_final.sample(n=n_br, random_state=1245)\n",
        "dados_amostra_simples_br"
      ],
      "metadata": {
        "id": "sWe9azQWg2_u"
      },
      "execution_count": null,
      "outputs": []
    },
    {
      "cell_type": "code",
      "source": [
        "# dataframe para SP\n",
        "dados_amostra_simples_sp = dados_sp.sample(n=n_sp, random_state=1245)\n",
        "dados_amostra_simples_sp"
      ],
      "metadata": {
        "id": "QtwQSYTig3CP"
      },
      "execution_count": null,
      "outputs": []
    },
    {
      "cell_type": "markdown",
      "metadata": {
        "id": "oJPQlUWgXi-b"
      },
      "source": [
        "5 –Agora    que    possui    os    dataframes    de    Brasil    (dados_amostra_br)    e    São    Paulo (dados_amostra_sp), realizar as seguintes análises:"
      ]
    },
    {
      "cell_type": "markdown",
      "metadata": {
        "id": "qxJSfqH1XmCz"
      },
      "source": [
        "a) Obter as medidas descritivas: média, desvio padrão, primeiro, segundo e terceiro quartil para o número de infectados."
      ]
    },
    {
      "cell_type": "markdown",
      "source": [
        "Brasil"
      ],
      "metadata": {
        "id": "HZPFFiQUDKfl"
      }
    },
    {
      "cell_type": "code",
      "source": [
        "# Criar a função do primeiro quartil\n",
        "def q1_quantile(x):\n",
        "  return np.quantile(x, 0.25)"
      ],
      "metadata": {
        "id": "Ja5zXoIj9__j"
      },
      "execution_count": null,
      "outputs": []
    },
    {
      "cell_type": "code",
      "source": [
        "# Criar a função do segundo quartil\n",
        "def q2_quantile(x):\n",
        "  return np.quantile(x, 0.50)"
      ],
      "metadata": {
        "id": "73G-CYbg-KRA"
      },
      "execution_count": null,
      "outputs": []
    },
    {
      "cell_type": "code",
      "source": [
        "# Criar a função do terceiro quartil\n",
        "def q3_quantile(x):\n",
        "  return np.quantile(x, 0.75)"
      ],
      "metadata": {
        "id": "GHUZpFAW-KVT"
      },
      "execution_count": null,
      "outputs": []
    },
    {
      "cell_type": "code",
      "source": [
        "# medidas descritivas Brasil para o número de infectados, note que, temos que realizar o groupby por uma coluna que todos os dados são\n",
        "# iguais para todos os registros, no caso deste dataframe é a coluna \"date\"\n",
        "dados_descritivos_br = dados_amostra_simples_br.groupby('date').agg(media_infectados = pd.NamedAgg('totalCases','mean'),\n",
        "                          dp_infectados = pd.NamedAgg('totalCases','std'),\n",
        "                          q1_infectados = pd.NamedAgg('totalCases', q1_quantile),\n",
        "                          q2_infectados = pd.NamedAgg('totalCases', q2_quantile),\n",
        "                          q3_infectados = pd.NamedAgg('totalCases', q3_quantile)).reset_index()"
      ],
      "metadata": {
        "id": "u5bTyMf30b8e"
      },
      "execution_count": null,
      "outputs": []
    },
    {
      "cell_type": "code",
      "source": [
        "dados_descritivos_br"
      ],
      "metadata": {
        "id": "i6TLhMK4OU0q"
      },
      "execution_count": null,
      "outputs": []
    },
    {
      "cell_type": "markdown",
      "source": [
        "Estado de São Paulo"
      ],
      "metadata": {
        "id": "ZsHdSP_YDN_9"
      }
    },
    {
      "cell_type": "code",
      "source": [
        "# Criar a função do primeiro quartil\n",
        "def q1_quantile(x):\n",
        "  return np.quantile(x, 0.25)"
      ],
      "metadata": {
        "id": "FY5XDk58B5Dv"
      },
      "execution_count": null,
      "outputs": []
    },
    {
      "cell_type": "code",
      "source": [
        "# Criar a função do segundo quartil\n",
        "def q2_quantile(x):\n",
        "  return np.quantile(x, 0.50)"
      ],
      "metadata": {
        "id": "qSxDvntXB5n5"
      },
      "execution_count": null,
      "outputs": []
    },
    {
      "cell_type": "code",
      "source": [
        "# Criar a função do terceiro quartil\n",
        "def q3_quantile(x):\n",
        "  return np.quantile(x, 0.75)"
      ],
      "metadata": {
        "id": "Bw91mE81CAQl"
      },
      "execution_count": null,
      "outputs": []
    },
    {
      "cell_type": "code",
      "source": [
        "# medidas descritivas São Paulo para o número de infectados, note que temos que realizar o groupby por uma coluna que todos os dados são\n",
        "# iguais para todos os registros, no caso deste dataframe é a coluna \"state\"\n",
        "dados_descritivos_sp = dados_amostra_simples_sp.groupby('state').agg(media_infectados = pd.NamedAgg('totalCases','mean'),\n",
        "                          dp_infectados = pd.NamedAgg('totalCases','std'),\n",
        "                          q1_infectados = pd.NamedAgg('totalCases', q1_quantile),\n",
        "                          q2_infectados = pd.NamedAgg('totalCases', q2_quantile),\n",
        "                          q3_infectados = pd.NamedAgg('totalCases', q3_quantile)).reset_index()"
      ],
      "metadata": {
        "id": "rhCcVq_gCCtG"
      },
      "execution_count": null,
      "outputs": []
    },
    {
      "cell_type": "code",
      "source": [
        "dados_descritivos_sp"
      ],
      "metadata": {
        "id": "i_Dxd2yhCL1z"
      },
      "execution_count": null,
      "outputs": []
    },
    {
      "cell_type": "markdown",
      "metadata": {
        "id": "d2ytwi6SXpDV"
      },
      "source": [
        "b) Obter as medidas descritivas: média, desvio padrão, primeiro, segundo e terceiro quartil para o número de mortes."
      ]
    },
    {
      "cell_type": "code",
      "source": [
        "# Criar a função do primeiro quartil\n",
        "def q1_quantile(x):\n",
        "  return np.quantile(x, 0.25)"
      ],
      "metadata": {
        "id": "okjgDoDIg7kB"
      },
      "execution_count": null,
      "outputs": []
    },
    {
      "cell_type": "code",
      "source": [
        "# Criar a função do segundo quartil\n",
        "def q2_quantile(x):\n",
        "  return np.quantile(x, 0.50)"
      ],
      "metadata": {
        "id": "yjZ-VXU3g6W1"
      },
      "execution_count": null,
      "outputs": []
    },
    {
      "cell_type": "code",
      "source": [
        "# Criar a função do terceiro quartil\n",
        "def q3_quantile(x):\n",
        "  return np.quantile(x, 0.75)"
      ],
      "metadata": {
        "id": "Nc02xcXxg6Zq"
      },
      "execution_count": null,
      "outputs": []
    },
    {
      "cell_type": "code",
      "source": [
        "# medidas descritivas Brasil para o número de infectados opção\n",
        "dados_descritivos_br_mortes = dados_amostra_simples_br.groupby('date').agg(media_mortos = pd.NamedAgg('deaths','mean'),\n",
        "                          dp_mortos = pd.NamedAgg('deaths','std'),\n",
        "                          q1_mortos = pd.NamedAgg('deaths', q1_quantile),\n",
        "                          q2_mortos = pd.NamedAgg('deaths', q2_quantile),\n",
        "                          q3_mortos = pd.NamedAgg('deaths', q3_quantile)).reset_index()"
      ],
      "metadata": {
        "id": "TwCTzuuaErRX"
      },
      "execution_count": null,
      "outputs": []
    },
    {
      "cell_type": "code",
      "source": [
        "dados_descritivos_br_mortes"
      ],
      "metadata": {
        "id": "OCtEubXZErT4"
      },
      "execution_count": null,
      "outputs": []
    },
    {
      "cell_type": "markdown",
      "source": [
        "Estado de São Paulo"
      ],
      "metadata": {
        "id": "nBkYMLrUFpH5"
      }
    },
    {
      "cell_type": "code",
      "source": [
        "# Criar a função do primeiro quartil\n",
        "def q1_quantile(x):\n",
        "  return np.quantile(x, 0.25)"
      ],
      "metadata": {
        "id": "EqF-B6kcFtID"
      },
      "execution_count": null,
      "outputs": []
    },
    {
      "cell_type": "code",
      "source": [
        "# Criar a função do segundo quartil\n",
        "def q2_quantile(x):\n",
        "  return np.quantile(x, 0.50)"
      ],
      "metadata": {
        "id": "wU1r9DPtFttP"
      },
      "execution_count": null,
      "outputs": []
    },
    {
      "cell_type": "code",
      "source": [
        "# Criar a função do terceiro quartil\n",
        "def q3_quantile(x):\n",
        "  return np.quantile(x, 0.75)"
      ],
      "metadata": {
        "id": "4OiSdJADFtwj"
      },
      "execution_count": null,
      "outputs": []
    },
    {
      "cell_type": "code",
      "source": [
        "# medidas descritivas SP para o número de infectados opção 1\n",
        "dados_descritivos_sp_mortes = dados_amostra_simples_sp.groupby('state').agg(media_mortos = pd.NamedAgg('deaths','mean'),\n",
        "                          dp_mortos = pd.NamedAgg('deaths','std'),\n",
        "                          q1_mortos = pd.NamedAgg('deaths', q1_quantile),\n",
        "                          q2_mortos = pd.NamedAgg('deaths', q2_quantile),\n",
        "                          q3_mortos = pd.NamedAgg('deaths', q3_quantile)).reset_index()"
      ],
      "metadata": {
        "id": "NamUUQnlFxbd"
      },
      "execution_count": null,
      "outputs": []
    },
    {
      "cell_type": "code",
      "source": [
        "dados_descritivos_sp_mortes"
      ],
      "metadata": {
        "id": "pi0w9brnF5Z2"
      },
      "execution_count": null,
      "outputs": []
    },
    {
      "cell_type": "markdown",
      "metadata": {
        "id": "07KK-q7-Xsk9"
      },
      "source": [
        "c) Gerar um histograma par o número de infectados e mortes. O desenho do histograma é similar com alguma das distribuições apresentadas?"
      ]
    },
    {
      "cell_type": "code",
      "source": [
        "# a distribuição de Poisson cabe neste exercício pois\n",
        "# consite de n eventos que podem ser contados (infectados e mortos)\n",
        "# eventos independentes\n",
        "# obter a média dos eventos dentro de um intervalo\n",
        "\n",
        "# Infectados Brasil\n",
        "\n",
        "plt.hist(dados_amostra_simples_br['totalCases'])\n",
        "plt.xlabel('Número de Infectados')\n",
        "plt.ylabel('Frequência')"
      ],
      "metadata": {
        "id": "Wql2Kau1g54y"
      },
      "execution_count": null,
      "outputs": []
    },
    {
      "cell_type": "code",
      "source": [
        "# Infectados São Paulo\n",
        "plt.hist(dados_amostra_simples_sp['totalCases'])\n",
        "plt.xlabel('Número de Infectados')\n",
        "plt.ylabel('Frequência')"
      ],
      "metadata": {
        "id": "yRlvb4S6Zniv"
      },
      "execution_count": null,
      "outputs": []
    },
    {
      "cell_type": "code",
      "source": [
        "# Mortes Brasil\n",
        "plt.hist(dados_amostra_simples_br['deaths'])\n",
        "plt.xlabel('Número de Mortos')\n",
        "plt.ylabel('Frequência')"
      ],
      "metadata": {
        "id": "EZNw7uKVazju"
      },
      "execution_count": null,
      "outputs": []
    },
    {
      "cell_type": "code",
      "source": [
        "# Mortes SP\n",
        "plt.hist(dados_amostra_simples_sp['deaths'])\n",
        "plt.xlabel('Número de Mortos')\n",
        "plt.ylabel('Frequência')"
      ],
      "metadata": {
        "id": "U5XDBpeMa4ft"
      },
      "execution_count": null,
      "outputs": []
    },
    {
      "cell_type": "code",
      "source": [
        "# O desenho do histograma é similar com alguma das distribuições de Poisson, uma vez que, a barra maior\n",
        "# condiz com o apresentado no exercício anterior das médias de infectados e mortos, ou seja, o que o gráfico nos diz\n",
        "# é que a probabilidade do número de pessoas serem infectadas e/ou morrerem condiz com a altura da barra, então\n",
        "# quanto maior a barra mais próximo da média está, ou seja, mais probabilidades da ocorrência."
      ],
      "metadata": {
        "id": "5F_hpdSAgaP0"
      },
      "execution_count": null,
      "outputs": []
    },
    {
      "cell_type": "markdown",
      "source": [
        "d) Compare os resultados de Brasil e SP."
      ],
      "metadata": {
        "id": "_4mh3mncg4h9"
      }
    },
    {
      "cell_type": "code",
      "source": [
        "# São Paulo demonstrou uma alta frequência de muitos casos de infecção e mortes, principalmente por causa de municípios com\n",
        "# grande densidade populacional como a região metropolitana, o que fez com que esses números aumentassem.\n",
        "\n",
        "# Em comparação ao Brasil, a média sem mantém muito parecida, o que de fato os difere é como mencionado, as altas frequencias com muitos\n",
        "# infectados e mortos."
      ],
      "metadata": {
        "id": "1xktM03HbEoi"
      },
      "execution_count": null,
      "outputs": []
    },
    {
      "cell_type": "code",
      "source": [
        "# INTEGRANTES\n",
        "# Cesar Oliveira Goes - RM: 98119\n",
        "# Fiama dos Santos Trajano - RM: 97885\n",
        "# Karina Maciel Palmeira - RM: 551770"
      ],
      "metadata": {
        "id": "8_j0iqP-nRkd"
      },
      "execution_count": null,
      "outputs": []
    }
  ],
  "metadata": {
    "colab": {
      "provenance": [],
      "include_colab_link": true
    },
    "kernelspec": {
      "display_name": "Python 3",
      "name": "python3"
    },
    "language_info": {
      "name": "python"
    }
  },
  "nbformat": 4,
  "nbformat_minor": 0
}