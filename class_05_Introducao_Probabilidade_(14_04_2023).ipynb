{
  "nbformat": 4,
  "nbformat_minor": 0,
  "metadata": {
    "colab": {
      "provenance": [],
      "authorship_tag": "ABX9TyNEBg2YrCB9bKmgizVoJq2u",
      "include_colab_link": true
    },
    "kernelspec": {
      "name": "python3",
      "display_name": "Python 3"
    },
    "language_info": {
      "name": "python"
    }
  },
  "cells": [
    {
      "cell_type": "markdown",
      "metadata": {
        "id": "view-in-github",
        "colab_type": "text"
      },
      "source": [
        "<a href=\"https://colab.research.google.com/github/cesaroliveiragoes/Statistics-for-Data-Science/blob/main/class_05_Introducao_Probabilidade_(14_04_2023).ipynb\" target=\"_parent\"><img src=\"https://colab.research.google.com/assets/colab-badge.svg\" alt=\"Open In Colab\"/></a>"
      ]
    },
    {
      "cell_type": "markdown",
      "source": [
        "# Introdução Probabilidade"
      ],
      "metadata": {
        "id": "DtF2lecBGamX"
      }
    },
    {
      "cell_type": "code",
      "source": [
        "import numpy as np\n",
        "import pandas as pd"
      ],
      "metadata": {
        "id": "M1k6PsLoGu9P"
      },
      "execution_count": null,
      "outputs": []
    },
    {
      "cell_type": "code",
      "source": [
        "#Biblioteca Análise combinatória\n",
        "from itertools import product, permutations, combinations, combinations_with_replacement\n",
        "import math"
      ],
      "metadata": {
        "id": "e7TM4L1-GzVg"
      },
      "execution_count": null,
      "outputs": []
    },
    {
      "cell_type": "markdown",
      "source": [
        "- Detalhes Adicionais"
      ],
      "metadata": {
        "id": "Piyfb68NHWcX"
      }
    },
    {
      "cell_type": "code",
      "source": [
        "#Comandos Linux\n",
        "#diretório do python\n",
        "! which python3"
      ],
      "metadata": {
        "colab": {
          "base_uri": "https://localhost:8080/"
        },
        "id": "AT6BuSINHYAX",
        "outputId": "c6a7ed58-2022-4f9c-8955-f08191a4a2e1"
      },
      "execution_count": null,
      "outputs": [
        {
          "output_type": "stream",
          "name": "stdout",
          "text": [
            "/usr/bin/python3\n"
          ]
        }
      ]
    },
    {
      "cell_type": "code",
      "source": [
        "#qual versão do python\n",
        "! /usr/bin/python3 --version"
      ],
      "metadata": {
        "colab": {
          "base_uri": "https://localhost:8080/"
        },
        "id": "YHFWamknHxV5",
        "outputId": "87360946-e498-44a2-eb65-89836f8db63f"
      },
      "execution_count": null,
      "outputs": [
        {
          "output_type": "stream",
          "name": "stdout",
          "text": [
            "Python 3.9.16\n"
          ]
        }
      ]
    },
    {
      "cell_type": "code",
      "source": [
        "import sys\n",
        "sys.version"
      ],
      "metadata": {
        "colab": {
          "base_uri": "https://localhost:8080/",
          "height": 35
        },
        "id": "vaWNRNI9IDem",
        "outputId": "1e761863-7628-4b98-c025-c7db704a17f5"
      },
      "execution_count": null,
      "outputs": [
        {
          "output_type": "execute_result",
          "data": {
            "text/plain": [
              "'3.9.16 (main, Dec  7 2022, 01:11:51) \\n[GCC 9.4.0]'"
            ],
            "application/vnd.google.colaboratory.intrinsic+json": {
              "type": "string"
            }
          },
          "metadata": {},
          "execution_count": 5
        }
      ]
    },
    {
      "cell_type": "markdown",
      "source": [
        "##Exemplos"
      ],
      "metadata": {
        "id": "X7PQuvf7HFYO"
      }
    },
    {
      "cell_type": "markdown",
      "source": [
        "- Permutação"
      ],
      "metadata": {
        "id": "TDPjSRn2IQQs"
      }
    },
    {
      "cell_type": "code",
      "source": [
        "alunos = ['guilherme','alex','cesar']"
      ],
      "metadata": {
        "id": "hnmYn87-HLt4"
      },
      "execution_count": null,
      "outputs": []
    },
    {
      "cell_type": "code",
      "source": [
        "permutacoes = permutations(alunos, 3)"
      ],
      "metadata": {
        "id": "-viwb5MyIj7R"
      },
      "execution_count": null,
      "outputs": []
    },
    {
      "cell_type": "code",
      "source": [
        "# obter as permutacoes\n",
        "possiveis_permutacoes = list(permutacoes)"
      ],
      "metadata": {
        "id": "Z0XCweBxItlW"
      },
      "execution_count": null,
      "outputs": []
    },
    {
      "cell_type": "code",
      "source": [
        "# numero de permutações\n",
        "len(list(possiveis_permutacoes))"
      ],
      "metadata": {
        "colab": {
          "base_uri": "https://localhost:8080/"
        },
        "id": "LtLFH3_kJGLX",
        "outputId": "0f5661ea-aefa-40cc-9a31-9c31cbd8acd1"
      },
      "execution_count": null,
      "outputs": [
        {
          "output_type": "execute_result",
          "data": {
            "text/plain": [
              "6"
            ]
          },
          "metadata": {},
          "execution_count": 9
        }
      ]
    },
    {
      "cell_type": "code",
      "source": [
        "# numero total de permutacoes\n",
        "def numero_permutacoes(n, k, repeticao = True):\n",
        "  if repeticao is True:\n",
        "  # com repeticao\n",
        "    return n**k\n",
        "  else:\n",
        "  # sem repeticao\n",
        "    return math.factorial(n) / math.factorial(n-k)"
      ],
      "metadata": {
        "id": "zsK_IzluJX-X"
      },
      "execution_count": null,
      "outputs": []
    },
    {
      "cell_type": "code",
      "source": [
        "# com repeticao\n",
        "numero_permutacoes(3, 3, repeticao = True)"
      ],
      "metadata": {
        "colab": {
          "base_uri": "https://localhost:8080/"
        },
        "id": "v-yLbkcGLCOp",
        "outputId": "2668702a-28b2-4904-d480-9e30dfccb239"
      },
      "execution_count": null,
      "outputs": [
        {
          "output_type": "execute_result",
          "data": {
            "text/plain": [
              "27"
            ]
          },
          "metadata": {},
          "execution_count": 11
        }
      ]
    },
    {
      "cell_type": "code",
      "source": [
        "# sem repeticao\n",
        "numero_permutacoes(3, 3, repeticao = False)"
      ],
      "metadata": {
        "colab": {
          "base_uri": "https://localhost:8080/"
        },
        "id": "lriR_wpDLMnY",
        "outputId": "81d9c866-d4ca-42b7-b4d8-11fdf6b835c9"
      },
      "execution_count": null,
      "outputs": [
        {
          "output_type": "execute_result",
          "data": {
            "text/plain": [
              "6.0"
            ]
          },
          "metadata": {},
          "execution_count": 12
        }
      ]
    },
    {
      "cell_type": "code",
      "source": [
        "# usando a funcao perm\n",
        "math.perm(3, 3)"
      ],
      "metadata": {
        "colab": {
          "base_uri": "https://localhost:8080/"
        },
        "id": "70PhlBRaLXGC",
        "outputId": "fea20634-ef34-4774-edc4-17ff527ad9d0"
      },
      "execution_count": null,
      "outputs": [
        {
          "output_type": "execute_result",
          "data": {
            "text/plain": [
              "6"
            ]
          },
          "metadata": {},
          "execution_count": 13
        }
      ]
    },
    {
      "cell_type": "markdown",
      "source": [
        "- Combinação"
      ],
      "metadata": {
        "id": "Ij3MFrqlLcDa"
      }
    },
    {
      "cell_type": "code",
      "source": [
        "alunos = ['guilherme', 'alex', 'cesar', 'cleudon']"
      ],
      "metadata": {
        "id": "5zWTUWTnUqvo"
      },
      "execution_count": null,
      "outputs": []
    },
    {
      "cell_type": "code",
      "source": [
        "combinacao = combinations(alunos, 2)"
      ],
      "metadata": {
        "id": "ATvooibVU9V0"
      },
      "execution_count": null,
      "outputs": []
    },
    {
      "cell_type": "code",
      "source": [
        "#obter as combinacoes\n",
        "lista_combinacao = list(combinacao)\n",
        "lista_combinacao"
      ],
      "metadata": {
        "colab": {
          "base_uri": "https://localhost:8080/"
        },
        "id": "8q_rhVRWVH7x",
        "outputId": "22919549-549a-4baa-e224-5d38979021e2"
      },
      "execution_count": null,
      "outputs": [
        {
          "output_type": "execute_result",
          "data": {
            "text/plain": [
              "[('guilherme', 'alex'),\n",
              " ('guilherme', 'cesar'),\n",
              " ('guilherme', 'cleudon'),\n",
              " ('alex', 'cesar'),\n",
              " ('alex', 'cleudon'),\n",
              " ('cesar', 'cleudon')]"
            ]
          },
          "metadata": {},
          "execution_count": 16
        }
      ]
    },
    {
      "cell_type": "code",
      "source": [
        "#obter o total\n",
        "len(lista_combinacao)"
      ],
      "metadata": {
        "colab": {
          "base_uri": "https://localhost:8080/"
        },
        "id": "b36iL4DZVKDh",
        "outputId": "7b5fdb8e-2175-4dd1-9cde-86fa950afdde"
      },
      "execution_count": null,
      "outputs": [
        {
          "output_type": "execute_result",
          "data": {
            "text/plain": [
              "6"
            ]
          },
          "metadata": {},
          "execution_count": 17
        }
      ]
    },
    {
      "cell_type": "code",
      "source": [
        "#formula combinacao\n",
        "def formula_combinacao(n, k, repeticao = True):\n",
        "  if repeticao is True:\n",
        "  # com repeticao\n",
        "   return math.factorial(n+k-1) / (math.factorial(k) * math.factorial(n-1))\n",
        "  else:\n",
        "  # sem repeticao\n",
        "   return math.factorial(n) / math.factorial(k) * math.factorial(n-k)\n"
      ],
      "metadata": {
        "id": "PbP_dI3HWpPk"
      },
      "execution_count": null,
      "outputs": []
    },
    {
      "cell_type": "code",
      "source": [
        "formula_combinacao(4, 2)"
      ],
      "metadata": {
        "colab": {
          "base_uri": "https://localhost:8080/"
        },
        "id": "u1yBhnyiX895",
        "outputId": "5c94d3cf-61d5-4619-9326-0ffb5cd0a8c0"
      },
      "execution_count": null,
      "outputs": [
        {
          "output_type": "execute_result",
          "data": {
            "text/plain": [
              "10.0"
            ]
          },
          "metadata": {},
          "execution_count": 19
        }
      ]
    },
    {
      "cell_type": "code",
      "source": [
        "formula_combinacao(4, 2, repeticao = False)"
      ],
      "metadata": {
        "colab": {
          "base_uri": "https://localhost:8080/"
        },
        "id": "zjrpkLOoYAVo",
        "outputId": "56dbea67-5e95-4ce0-b083-cecfa9607e03"
      },
      "execution_count": null,
      "outputs": [
        {
          "output_type": "execute_result",
          "data": {
            "text/plain": [
              "24.0"
            ]
          },
          "metadata": {},
          "execution_count": 20
        }
      ]
    },
    {
      "cell_type": "code",
      "source": [
        "math.comb(4, 2)"
      ],
      "metadata": {
        "colab": {
          "base_uri": "https://localhost:8080/"
        },
        "id": "8eZ3xiOzYXRY",
        "outputId": "9f1214b8-d557-4471-c8e5-8290a5a4d6b3"
      },
      "execution_count": null,
      "outputs": [
        {
          "output_type": "execute_result",
          "data": {
            "text/plain": [
              "6"
            ]
          },
          "metadata": {},
          "execution_count": 21
        }
      ]
    },
    {
      "cell_type": "markdown",
      "source": [
        "## Problema das senhas"
      ],
      "metadata": {
        "id": "FHZh64wrY_6I"
      }
    },
    {
      "cell_type": "code",
      "source": [
        "numero_permutacoes(10, 6, repeticao = False)\n"
      ],
      "metadata": {
        "colab": {
          "base_uri": "https://localhost:8080/"
        },
        "id": "pd94nFP6Y_8-",
        "outputId": "5d4c8365-2da7-432c-9d2a-97d760065876"
      },
      "execution_count": null,
      "outputs": [
        {
          "output_type": "execute_result",
          "data": {
            "text/plain": [
              "151200.0"
            ]
          },
          "metadata": {},
          "execution_count": 22
        }
      ]
    },
    {
      "cell_type": "markdown",
      "source": [
        "Problema Mega Sena"
      ],
      "metadata": {
        "id": "LKoM0ja2Y__r"
      }
    },
    {
      "cell_type": "code",
      "source": [
        "formula_combinacao(60, 6, repeticao = False)"
      ],
      "metadata": {
        "colab": {
          "base_uri": "https://localhost:8080/"
        },
        "id": "4OXjaEiFZwjf",
        "outputId": "7cdafad8-5fbc-4009-c208-3d45a6166ec1"
      },
      "execution_count": null,
      "outputs": [
        {
          "output_type": "execute_result",
          "data": {
            "text/plain": [
              "2.6678436536352796e+150"
            ]
          },
          "metadata": {},
          "execution_count": 23
        }
      ]
    },
    {
      "cell_type": "markdown",
      "source": [],
      "metadata": {
        "id": "j4Q2DqlIZ4xZ"
      }
    }
  ]
}