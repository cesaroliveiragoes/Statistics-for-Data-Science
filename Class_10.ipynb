{
  "nbformat": 4,
  "nbformat_minor": 0,
  "metadata": {
    "colab": {
      "provenance": [],
      "authorship_tag": "ABX9TyMFQySzoWu3oBCIZ4CcyIJd",
      "include_colab_link": true
    },
    "kernelspec": {
      "name": "python3",
      "display_name": "Python 3"
    },
    "language_info": {
      "name": "python"
    }
  },
  "cells": [
    {
      "cell_type": "markdown",
      "metadata": {
        "id": "view-in-github",
        "colab_type": "text"
      },
      "source": [
        "<a href=\"https://colab.research.google.com/github/cesaroliveiragoes/Statistics-for-Data-Science/blob/main/Class_10.ipynb\" target=\"_parent\"><img src=\"https://colab.research.google.com/assets/colab-badge.svg\" alt=\"Open In Colab\"/></a>"
      ]
    },
    {
      "cell_type": "markdown",
      "source": [
        "#Derivadas no python"
      ],
      "metadata": {
        "id": "99Uip4EzL9XT"
      }
    },
    {
      "cell_type": "markdown",
      "source": [
        "# Bibliotecas"
      ],
      "metadata": {
        "id": "kA3dOERUmjwv"
      }
    },
    {
      "cell_type": "code",
      "source": [
        "import numpy as np\n",
        "import pandas as pd\n",
        "import sympy as sp\n",
        "import matplotlib.pyplot as plt"
      ],
      "metadata": {
        "id": "uwYgr4simfwg"
      },
      "execution_count": null,
      "outputs": []
    },
    {
      "cell_type": "markdown",
      "source": [
        "# Exemplos"
      ],
      "metadata": {
        "id": "XhIerVu6m06a"
      }
    },
    {
      "cell_type": "markdown",
      "source": [
        "Exemplo 1 - Regra da Constante"
      ],
      "metadata": {
        "id": "HW8AJsBhm50Z"
      }
    },
    {
      "cell_type": "code",
      "source": [
        "# regra da constante\n",
        "\n",
        "x = 3\n",
        "sp.diff(x)"
      ],
      "metadata": {
        "colab": {
          "base_uri": "https://localhost:8080/",
          "height": 37
        },
        "id": "x5cJT9C2mxla",
        "outputId": "107e8638-42bb-4cfe-9ec9-9bdd02c6a200"
      },
      "execution_count": null,
      "outputs": [
        {
          "output_type": "execute_result",
          "data": {
            "text/plain": [
              "0"
            ],
            "text/latex": "$\\displaystyle 0$"
          },
          "metadata": {},
          "execution_count": 3
        }
      ]
    },
    {
      "cell_type": "markdown",
      "source": [
        "Exemplo 2 - Regra da Potência"
      ],
      "metadata": {
        "id": "KycxbhVOnNO0"
      }
    },
    {
      "cell_type": "code",
      "source": [
        "# definir o simbolo\n",
        "\n",
        "x = sp.Symbol('x')"
      ],
      "metadata": {
        "id": "-wBfBQ3OnH2G"
      },
      "execution_count": null,
      "outputs": []
    },
    {
      "cell_type": "code",
      "source": [
        "# definir equação\n",
        "\n",
        "funcao = x**2 \n",
        "funcao "
      ],
      "metadata": {
        "colab": {
          "base_uri": "https://localhost:8080/",
          "height": 38
        },
        "id": "KNjA3cexnZuW",
        "outputId": "1c8e52e5-e306-4a69-8240-7eef1eb59530"
      },
      "execution_count": null,
      "outputs": [
        {
          "output_type": "execute_result",
          "data": {
            "text/plain": [
              "x**2"
            ],
            "text/latex": "$\\displaystyle x^{2}$"
          },
          "metadata": {},
          "execution_count": 5
        }
      ]
    },
    {
      "cell_type": "code",
      "source": [
        "# encontrar derivada\n",
        "\n",
        "derivada_funcao = sp.diff(funcao)\n",
        "derivada_funcao"
      ],
      "metadata": {
        "colab": {
          "base_uri": "https://localhost:8080/",
          "height": 38
        },
        "id": "ScKIOQHTnj9h",
        "outputId": "8cdb9b3a-77f2-4455-85a1-4ad7bd7259e8"
      },
      "execution_count": null,
      "outputs": [
        {
          "output_type": "execute_result",
          "data": {
            "text/plain": [
              "2*x"
            ],
            "text/latex": "$\\displaystyle 2 x$"
          },
          "metadata": {},
          "execution_count": 7
        }
      ]
    },
    {
      "cell_type": "code",
      "source": [
        "# grafico funcao original\n",
        "\n",
        "sp.plot(funcao)"
      ],
      "metadata": {
        "colab": {
          "base_uri": "https://localhost:8080/",
          "height": 501
        },
        "id": "PJ6xRRvvnqaC",
        "outputId": "3c238222-bd99-49be-e525-a4712a5baf4b"
      },
      "execution_count": null,
      "outputs": [
        {
          "output_type": "display_data",
          "data": {
            "text/plain": [
              "<Figure size 640x480 with 1 Axes>"
            ],
            "image/png": "[encoded data removed]"
          },
          "metadata": {}
        },
        {
          "output_type": "execute_result",
          "data": {
            "text/plain": [
              "<sympy.plotting.plot.Plot at 0x7f4e933176a0>"
            ]
          },
          "metadata": {},
          "execution_count": 8
        }
      ]
    },
    {
      "cell_type": "code",
      "source": [
        "#grafico funcao derivada \n",
        "\n",
        "sp.plot(derivada_funcao)"
      ],
      "metadata": {
        "colab": {
          "base_uri": "https://localhost:8080/",
          "height": 504
        },
        "id": "JADntqPfn9fT",
        "outputId": "885e4389-ee68-4ac0-c696-c8f2bff57728"
      },
      "execution_count": null,
      "outputs": [
        {
          "output_type": "display_data",
          "data": {
            "text/plain": [
              "<Figure size 640x480 with 1 Axes>"
            ],
            "image/png": "[encoded data removed]"
          },
          "metadata": {}
        },
        {
          "output_type": "execute_result",
          "data": {
            "text/plain": [
              "<sympy.plotting.plot.Plot at 0x7f4e93317760>"
            ]
          },
          "metadata": {},
          "execution_count": 10
        }
      ]
    },
    {
      "cell_type": "markdown",
      "source": [
        "Exemplo 3 - Regra da Multiplicação"
      ],
      "metadata": {
        "id": "x_0AW8DroVd7"
      }
    },
    {
      "cell_type": "code",
      "source": [
        "# definir o simbolo\n",
        "\n",
        "x = sp.Symbol('x')"
      ],
      "metadata": {
        "id": "7JUJiKG6oF3M"
      },
      "execution_count": null,
      "outputs": []
    },
    {
      "cell_type": "code",
      "source": [
        "# definir a equação\n",
        "\n",
        "funcao = (x**2+3) * (2*x+1)\n",
        "funcao"
      ],
      "metadata": {
        "colab": {
          "base_uri": "https://localhost:8080/",
          "height": 38
        },
        "id": "7C5v_akYoeM-",
        "outputId": "59fd1f47-7203-446f-e23c-84ca113b8575"
      },
      "execution_count": null,
      "outputs": [
        {
          "output_type": "execute_result",
          "data": {
            "text/plain": [
              "(2*x + 1)*(x**2 + 3)"
            ],
            "text/latex": "$\\displaystyle \\left(2 x + 1\\right) \\left(x^{2} + 3\\right)$"
          },
          "metadata": {},
          "execution_count": 12
        }
      ]
    },
    {
      "cell_type": "code",
      "source": [
        "# encontrar a derivada\n",
        "funcao_derivada = sp.diff(funcao)\n",
        "funcao_derivada"
      ],
      "metadata": {
        "colab": {
          "base_uri": "https://localhost:8080/",
          "height": 38
        },
        "id": "pMysjdz-ooU2",
        "outputId": "cc9aef45-ef5d-4bc6-cfdb-e208ef3a4a91"
      },
      "execution_count": null,
      "outputs": [
        {
          "output_type": "execute_result",
          "data": {
            "text/plain": [
              "2*x**2 + 2*x*(2*x + 1) + 6"
            ],
            "text/latex": "$\\displaystyle 2 x^{2} + 2 x \\left(2 x + 1\\right) + 6$"
          },
          "metadata": {},
          "execution_count": 15
        }
      ]
    },
    {
      "cell_type": "code",
      "source": [
        "# simplificar a funcao\n",
        "\n",
        "sp.simplify(funcao_derivada)"
      ],
      "metadata": {
        "colab": {
          "base_uri": "https://localhost:8080/",
          "height": 38
        },
        "id": "0FjD6sGIoxNP",
        "outputId": "dd0b7b63-a2b6-496b-edb9-7949dd782b97"
      },
      "execution_count": null,
      "outputs": [
        {
          "output_type": "execute_result",
          "data": {
            "text/plain": [
              "6*x**2 + 2*x + 6"
            ],
            "text/latex": "$\\displaystyle 6 x^{2} + 2 x + 6$"
          },
          "metadata": {},
          "execution_count": 16
        }
      ]
    },
    {
      "cell_type": "markdown",
      "source": [
        "Exemplo 4 - Regra da divisão"
      ],
      "metadata": {
        "id": "tF7QQ3MNpS74"
      }
    },
    {
      "cell_type": "code",
      "source": [
        "# definir o simbolo\n",
        "\n",
        "x = sp.Symbol('x')"
      ],
      "metadata": {
        "id": "ubUT0uqWpCvH"
      },
      "execution_count": null,
      "outputs": []
    },
    {
      "cell_type": "code",
      "source": [
        "# definir a equação\n",
        "\n",
        "funcao = (3*x**2 + 1) / (2*x - 1)\n",
        "funcao\n",
        "\n"
      ],
      "metadata": {
        "colab": {
          "base_uri": "https://localhost:8080/",
          "height": 55
        },
        "id": "HR80NzHxpYm-",
        "outputId": "97cfe3f5-8415-4bdb-e450-767cd70dce38"
      },
      "execution_count": null,
      "outputs": [
        {
          "output_type": "execute_result",
          "data": {
            "text/plain": [
              "(3*x**2 + 1)/(2*x - 1)"
            ],
            "text/latex": "$\\displaystyle \\frac{3 x^{2} + 1}{2 x - 1}$"
          },
          "metadata": {},
          "execution_count": 45
        }
      ]
    },
    {
      "cell_type": "code",
      "source": [
        "# encontrar a derivada\n",
        "\n",
        "funcao_derivada = sp.diff(funcao)\n",
        "funcao_derivada"
      ],
      "metadata": {
        "colab": {
          "base_uri": "https://localhost:8080/",
          "height": 62
        },
        "id": "Siq5qa0ctJVt",
        "outputId": "2804de81-991e-42b5-8c0c-98228aa9bd8b"
      },
      "execution_count": null,
      "outputs": [
        {
          "output_type": "execute_result",
          "data": {
            "text/plain": [
              "6*x/(2*x - 1) - 2*(3*x**2 + 1)/(2*x - 1)**2"
            ],
            "text/latex": "$\\displaystyle \\frac{6 x}{2 x - 1} - \\frac{2 \\cdot \\left(3 x^{2} + 1\\right)}{\\left(2 x - 1\\right)^{2}}$"
          },
          "metadata": {},
          "execution_count": 46
        }
      ]
    },
    {
      "cell_type": "code",
      "source": [
        "# simplificar a funcao\n",
        "\n",
        "sp.simplify(funcao_derivada)"
      ],
      "metadata": {
        "colab": {
          "base_uri": "https://localhost:8080/",
          "height": 57
        },
        "id": "PbGx_GR_tdEN",
        "outputId": "aef34c4f-e113-4ff2-a297-a17cf33ee53c"
      },
      "execution_count": null,
      "outputs": [
        {
          "output_type": "execute_result",
          "data": {
            "text/plain": [
              "2*(3*x**2 - 3*x - 1)/(4*x**2 - 4*x + 1)"
            ],
            "text/latex": "$\\displaystyle \\frac{2 \\cdot \\left(3 x^{2} - 3 x - 1\\right)}{4 x^{2} - 4 x + 1}$"
          },
          "metadata": {},
          "execution_count": 47
        }
      ]
    },
    {
      "cell_type": "markdown",
      "source": [
        "Exemplo 5 - Regra do Logaritimo"
      ],
      "metadata": {
        "id": "1GwAw8ezuAEE"
      }
    },
    {
      "cell_type": "code",
      "source": [
        "# definir o simbolo\n",
        "\n",
        "x = sp.Symbol('x')"
      ],
      "metadata": {
        "id": "LoOTUIkytua1"
      },
      "execution_count": null,
      "outputs": []
    },
    {
      "cell_type": "code",
      "source": [
        "# definir equacao\n",
        "\n",
        "funcao = x * sp.log(x)\n",
        "funcao"
      ],
      "metadata": {
        "colab": {
          "base_uri": "https://localhost:8080/",
          "height": 38
        },
        "id": "Xxs5lSOeuLFE",
        "outputId": "c7cb62eb-934a-4b13-be4e-7701d4d51f66"
      },
      "execution_count": null,
      "outputs": [
        {
          "output_type": "execute_result",
          "data": {
            "text/plain": [
              "x*log(x)"
            ],
            "text/latex": "$\\displaystyle x \\log{\\left(x \\right)}$"
          },
          "metadata": {},
          "execution_count": 55
        }
      ]
    },
    {
      "cell_type": "code",
      "source": [
        "# encontrar a derivada\n",
        "\n",
        "funcao_derivada = sp.diff(funcao)\n",
        "funcao_derivada"
      ],
      "metadata": {
        "colab": {
          "base_uri": "https://localhost:8080/",
          "height": 38
        },
        "id": "dk4LTcjvu2Hk",
        "outputId": "52366e0a-fbe0-4afc-c0df-8b60902ef203"
      },
      "execution_count": null,
      "outputs": [
        {
          "output_type": "execute_result",
          "data": {
            "text/plain": [
              "log(x) + 1"
            ],
            "text/latex": "$\\displaystyle \\log{\\left(x \\right)} + 1$"
          },
          "metadata": {},
          "execution_count": 59
        }
      ]
    },
    {
      "cell_type": "code",
      "source": [
        "# simplificar a funcao\n",
        "\n",
        "sp.simplify(funcao_derivada)"
      ],
      "metadata": {
        "colab": {
          "base_uri": "https://localhost:8080/",
          "height": 38
        },
        "id": "1CszupvnvDWZ",
        "outputId": "287784d8-2dab-4e91-a7a4-522ca47df182"
      },
      "execution_count": null,
      "outputs": [
        {
          "output_type": "execute_result",
          "data": {
            "text/plain": [
              "log(x) + 1"
            ],
            "text/latex": "$\\displaystyle \\log{\\left(x \\right)} + 1$"
          },
          "metadata": {},
          "execution_count": 60
        }
      ]
    },
    {
      "cell_type": "markdown",
      "source": [
        "Exemplo 6 - Regra Exponencial"
      ],
      "metadata": {
        "id": "Wy0W2KnZvNaB"
      }
    },
    {
      "cell_type": "code",
      "source": [
        "# definir o simbolo\n",
        "\n",
        "x = sp.Symbol('x')"
      ],
      "metadata": {
        "id": "fItYFL7DvRTl"
      },
      "execution_count": null,
      "outputs": []
    },
    {
      "cell_type": "code",
      "source": [
        "# definir equacao\n",
        "\n",
        "funcao = x * sp.exp(2*x)\n",
        "funcao"
      ],
      "metadata": {
        "colab": {
          "base_uri": "https://localhost:8080/",
          "height": 38
        },
        "id": "OgEtHrPFvRZI",
        "outputId": "033ac03a-cfe0-455c-f1e3-676a9ae0ac04"
      },
      "execution_count": null,
      "outputs": [
        {
          "output_type": "execute_result",
          "data": {
            "text/plain": [
              "x*exp(2*x)"
            ],
            "text/latex": "$\\displaystyle x e^{2 x}$"
          },
          "metadata": {},
          "execution_count": 63
        }
      ]
    },
    {
      "cell_type": "code",
      "source": [
        "# encontrar a derivada\n",
        "\n",
        "funcao_derivada = sp.diff(funcao)\n",
        "funcao_derivada"
      ],
      "metadata": {
        "id": "o4_mQGOavaC4"
      },
      "execution_count": null,
      "outputs": []
    },
    {
      "cell_type": "markdown",
      "source": [
        ". Transformar a função simbolica em numérica"
      ],
      "metadata": {
        "id": "KvtPrAfUpfVf"
      }
    },
    {
      "cell_type": "code",
      "source": [],
      "metadata": {
        "id": "rkETDKuNvCUR"
      },
      "execution_count": null,
      "outputs": []
    },
    {
      "cell_type": "code",
      "source": [
        "funcao_derivada(2)"
      ],
      "metadata": {
        "colab": {
          "base_uri": "https://localhost:8080/",
          "height": 166
        },
        "id": "2zpmTeDLpeh_",
        "outputId": "25226364-edb9-49de-901c-9d6700b6a51a"
      },
      "execution_count": null,
      "outputs": [
        {
          "output_type": "error",
          "ename": "TypeError",
          "evalue": "ignored",
          "traceback": [
            "\u001b[0;31m---------------------------------------------------------------------------\u001b[0m",
            "\u001b[0;31mTypeError\u001b[0m                                 Traceback (most recent call last)",
            "\u001b[0;32m<ipython-input-19-def21373b76c>\u001b[0m in \u001b[0;36m<cell line: 1>\u001b[0;34m()\u001b[0m\n\u001b[0;32m----> 1\u001b[0;31m \u001b[0mfuncao_derivada\u001b[0m\u001b[0;34m(\u001b[0m\u001b[0;36m2\u001b[0m\u001b[0;34m)\u001b[0m\u001b[0;34m\u001b[0m\u001b[0;34m\u001b[0m\u001b[0m\n\u001b[0m",
            "\u001b[0;31mTypeError\u001b[0m: 'Add' object is not callable"
          ]
        }
      ]
    },
    {
      "cell_type": "code",
      "source": [
        "funcao_derivada_calc = sp.lambdify(x, funcao_derivada)"
      ],
      "metadata": {
        "id": "A9YbjXdApyGw"
      },
      "execution_count": null,
      "outputs": []
    },
    {
      "cell_type": "code",
      "source": [
        "funcao_derivada_calc(2)"
      ],
      "metadata": {
        "colab": {
          "base_uri": "https://localhost:8080/"
        },
        "id": "pHAoX_K0pzhL",
        "outputId": "b6c90619-84d8-4e04-f7c9-3d6afa5f1e2b"
      },
      "execution_count": null,
      "outputs": [
        {
          "output_type": "execute_result",
          "data": {
            "text/plain": [
              "34"
            ]
          },
          "metadata": {},
          "execution_count": 25
        }
      ]
    },
    {
      "cell_type": "markdown",
      "source": [
        "Exemplo do Lucro"
      ],
      "metadata": {
        "id": "P6sabQ5AqTXp"
      }
    },
    {
      "cell_type": "code",
      "source": [
        "# definir o simbolo\n",
        "\n",
        "p = sp.Symbol('p')\n",
        "p"
      ],
      "metadata": {
        "colab": {
          "base_uri": "https://localhost:8080/",
          "height": 38
        },
        "id": "hgB3FmGhqIW6",
        "outputId": "b2a9cde2-4bb6-4d2a-d5ab-e0c915896a36"
      },
      "execution_count": null,
      "outputs": [
        {
          "output_type": "execute_result",
          "data": {
            "text/plain": [
              "p"
            ],
            "text/latex": "$\\displaystyle p$"
          },
          "metadata": {},
          "execution_count": 27
        }
      ]
    },
    {
      "cell_type": "code",
      "source": [
        "#definir a equação\n",
        "\n",
        "funcao_lucro = -2 * p**2 + 50.4 * p - 10\n",
        "funcao_lucro"
      ],
      "metadata": {
        "colab": {
          "base_uri": "https://localhost:8080/",
          "height": 38
        },
        "id": "S3yxsuSOqc2L",
        "outputId": "b08d95c6-ed55-42b5-e699-b8d75945a3c4"
      },
      "execution_count": null,
      "outputs": [
        {
          "output_type": "execute_result",
          "data": {
            "text/plain": [
              "-2*p**2 + 50.4*p - 10"
            ],
            "text/latex": "$\\displaystyle - 2 p^{2} + 50.4 p - 10$"
          },
          "metadata": {},
          "execution_count": 28
        }
      ]
    },
    {
      "cell_type": "code",
      "source": [
        "# encontrar a derivada\n",
        "\n",
        "funcao_lucro_derivada = sp.diff(funcao_lucro)\n",
        "funcao_lucro_derivada"
      ],
      "metadata": {
        "colab": {
          "base_uri": "https://localhost:8080/",
          "height": 38
        },
        "id": "-tG7uRY3qtpz",
        "outputId": "f8835a63-ca8f-4cd2-bccd-56b5a81fbdd9"
      },
      "execution_count": null,
      "outputs": [
        {
          "output_type": "execute_result",
          "data": {
            "text/plain": [
              "50.4 - 4*p"
            ],
            "text/latex": "$\\displaystyle 50.4 - 4 p$"
          },
          "metadata": {},
          "execution_count": 32
        }
      ]
    },
    {
      "cell_type": "code",
      "source": [
        "# encontrar o melhor preço\n",
        "\n",
        "sp.solve(funcao_lucro_derivada)"
      ],
      "metadata": {
        "colab": {
          "base_uri": "https://localhost:8080/"
        },
        "id": "z1nlwUfTq2Fs",
        "outputId": "dfcb6d32-2210-4b37-e528-48e82ba8f127"
      },
      "execution_count": null,
      "outputs": [
        {
          "output_type": "execute_result",
          "data": {
            "text/plain": [
              "[12.6000000000000]"
            ]
          },
          "metadata": {},
          "execution_count": 33
        }
      ]
    },
    {
      "cell_type": "markdown",
      "source": [
        "- Gráfico do Lucro"
      ],
      "metadata": {
        "id": "iWnoQnwXrOoj"
      }
    },
    {
      "cell_type": "code",
      "source": [
        "funcao_lucro_calc = sp.lambdify(p, funcao_lucro)\n"
      ],
      "metadata": {
        "id": "7Fp3I_z4rAYs"
      },
      "execution_count": null,
      "outputs": []
    },
    {
      "cell_type": "code",
      "source": [
        "funcao_lucro_calc(12.6)"
      ],
      "metadata": {
        "colab": {
          "base_uri": "https://localhost:8080/"
        },
        "id": "3zBOQv4QrXnF",
        "outputId": "42de037d-37f7-43fc-be16-64d0f30e61df"
      },
      "execution_count": null,
      "outputs": [
        {
          "output_type": "execute_result",
          "data": {
            "text/plain": [
              "307.52"
            ]
          },
          "metadata": {},
          "execution_count": 39
        }
      ]
    },
    {
      "cell_type": "code",
      "source": [
        "x = range(1,20)\n",
        "precos = list(x)\n",
        "precos"
      ],
      "metadata": {
        "colab": {
          "base_uri": "https://localhost:8080/"
        },
        "id": "R5x2YtOurn4k",
        "outputId": "125917bc-75b1-46f4-ddea-52e666d47f51"
      },
      "execution_count": null,
      "outputs": [
        {
          "output_type": "execute_result",
          "data": {
            "text/plain": [
              "[1, 2, 3, 4, 5, 6, 7, 8, 9, 10, 11, 12, 13, 14, 15, 16, 17, 18, 19]"
            ]
          },
          "metadata": {},
          "execution_count": 40
        }
      ]
    },
    {
      "cell_type": "code",
      "source": [
        "lucros = [funcao_lucro_calc(p) for p in precos]\n",
        "  "
      ],
      "metadata": {
        "id": "v5NdscgirxEm"
      },
      "execution_count": null,
      "outputs": []
    },
    {
      "cell_type": "code",
      "source": [
        "plt.plot(precos, lucros)"
      ],
      "metadata": {
        "colab": {
          "base_uri": "https://localhost:8080/",
          "height": 447
        },
        "id": "zP-u662GsFVN",
        "outputId": "86b2e7b9-6eb0-47d5-eec5-ab0597541df1"
      },
      "execution_count": null,
      "outputs": [
        {
          "output_type": "execute_result",
          "data": {
            "text/plain": [
              "[<matplotlib.lines.Line2D at 0x7f4e908919f0>]"
            ]
          },
          "metadata": {},
          "execution_count": 42
        },
        {
          "output_type": "display_data",
          "data": {
            "text/plain": [
              "<Figure size 640x480 with 1 Axes>"
            ],
            "image/png": "[encoded data removed]"
          },
          "metadata": {}
        }
      ]
    }
  ]
}