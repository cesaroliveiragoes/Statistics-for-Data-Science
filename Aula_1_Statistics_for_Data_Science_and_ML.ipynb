{
  "nbformat": 4,
  "nbformat_minor": 0,
  "metadata": {
    "colab": {
      "provenance": [],
      "authorship_tag": "ABX9TyMJrTnrqOZHgjHDe2cZyjn2"
    },
    "kernelspec": {
      "name": "python3",
      "display_name": "Python 3"
    },
    "language_info": {
      "name": "python"
    }
  },
  "cells": [
    {
      "cell_type": "markdown",
      "source": [
        "## Aula 01\n"
      ],
      "metadata": {
        "id": "hYQdnT6YD-Fv"
      }
    },
    {
      "cell_type": "markdown",
      "source": [
        "Bibliotecas\n"
      ],
      "metadata": {
        "id": "QAf1lP9ICoKK"
      }
    },
    {
      "cell_type": "code",
      "source": [
        "import numpy as np\n",
        "import pandas as pd\n",
        "import matplotlib.pyplot as plt "
      ],
      "metadata": {
        "id": "t-VsSqtLE4Q-"
      },
      "execution_count": null,
      "outputs": []
    },
    {
      "cell_type": "markdown",
      "source": [
        "Listas, Dicionários e Dataframes"
      ],
      "metadata": {
        "id": "JcmOEdZQGPEQ"
      }
    },
    {
      "cell_type": "markdown",
      "source": [
        "- Variável"
      ],
      "metadata": {
        "id": "CQr0SJfWH0yG"
      }
    },
    {
      "cell_type": "code",
      "source": [
        "a = 'Cesar'\n",
        "a"
      ],
      "metadata": {
        "colab": {
          "base_uri": "https://localhost:8080/",
          "height": 35
        },
        "id": "MYzZLKc5H3vG",
        "outputId": "4ffd87ef-9aa9-4938-ee90-7602a2b56614"
      },
      "execution_count": null,
      "outputs": [
        {
          "output_type": "execute_result",
          "data": {
            "text/plain": [
              "'Cesar'"
            ],
            "application/vnd.google.colaboratory.intrinsic+json": {
              "type": "string"
            }
          },
          "metadata": {},
          "execution_count": 6
        }
      ]
    },
    {
      "cell_type": "code",
      "source": [
        "b = 3\n",
        "b"
      ],
      "metadata": {
        "colab": {
          "base_uri": "https://localhost:8080/"
        },
        "id": "fIk0pZbwIILf",
        "outputId": "0cfd1d20-91c6-4f87-a638-e5181d923d8c"
      },
      "execution_count": null,
      "outputs": [
        {
          "output_type": "execute_result",
          "data": {
            "text/plain": [
              "3"
            ]
          },
          "metadata": {},
          "execution_count": 4
        }
      ]
    },
    {
      "cell_type": "code",
      "source": [
        "c = True\n",
        "c"
      ],
      "metadata": {
        "colab": {
          "base_uri": "https://localhost:8080/"
        },
        "id": "q4qEOqAUI9fl",
        "outputId": "d0803460-a07c-4624-b3db-9ed408a10e89"
      },
      "execution_count": null,
      "outputs": [
        {
          "output_type": "execute_result",
          "data": {
            "text/plain": [
              "True"
            ]
          },
          "metadata": {},
          "execution_count": 9
        }
      ]
    },
    {
      "cell_type": "markdown",
      "source": [
        "- Listas"
      ],
      "metadata": {
        "id": "_mV-1CbzIxWm"
      }
    },
    {
      "cell_type": "code",
      "source": [
        "lista1 = [1, 'Cesar', 3, False]\n",
        "lista1"
      ],
      "metadata": {
        "colab": {
          "base_uri": "https://localhost:8080/"
        },
        "id": "3rCz59KJJbpk",
        "outputId": "a553264a-26d4-43fc-dacc-eff92aa020de"
      },
      "execution_count": null,
      "outputs": [
        {
          "output_type": "execute_result",
          "data": {
            "text/plain": [
              "[1, 'Cesar', 3, False]"
            ]
          },
          "metadata": {},
          "execution_count": 14
        }
      ]
    },
    {
      "cell_type": "code",
      "source": [
        "lista1[1]"
      ],
      "metadata": {
        "colab": {
          "base_uri": "https://localhost:8080/",
          "height": 35
        },
        "id": "S_QH2v1BP_lW",
        "outputId": "a874fbda-789c-4977-90b9-cb60ffd98faa"
      },
      "execution_count": null,
      "outputs": [
        {
          "output_type": "execute_result",
          "data": {
            "text/plain": [
              "'Cesar'"
            ],
            "application/vnd.google.colaboratory.intrinsic+json": {
              "type": "string"
            }
          },
          "metadata": {},
          "execution_count": 25
        }
      ]
    },
    {
      "cell_type": "markdown",
      "source": [
        "- Dicionário\n"
      ],
      "metadata": {
        "id": "QmpWScR9JiOw"
      }
    },
    {
      "cell_type": "code",
      "source": [
        "dicionario = {'lista1': lista1, 'lista2' : [30, 20, True]}\n"
      ],
      "metadata": {
        "id": "ELkJHO2KJmA4"
      },
      "execution_count": null,
      "outputs": []
    },
    {
      "cell_type": "code",
      "source": [
        "dicionario"
      ],
      "metadata": {
        "colab": {
          "base_uri": "https://localhost:8080/"
        },
        "id": "TG-E1KUaLnBN",
        "outputId": "f1670333-7db3-4568-f988-269112e6b070"
      },
      "execution_count": null,
      "outputs": [
        {
          "output_type": "execute_result",
          "data": {
            "text/plain": [
              "{'lista1': [1, 'Cesar', 3, False], 'lista2': [30, 20, True]}"
            ]
          },
          "metadata": {},
          "execution_count": 20
        }
      ]
    },
    {
      "cell_type": "code",
      "source": [
        "dicionario['lista2']"
      ],
      "metadata": {
        "colab": {
          "base_uri": "https://localhost:8080/"
        },
        "id": "tuiGUaLuQok_",
        "outputId": "6bc16904-ccb7-41c8-95eb-81052ff1f9de"
      },
      "execution_count": null,
      "outputs": [
        {
          "output_type": "execute_result",
          "data": {
            "text/plain": [
              "[30, 20, True]"
            ]
          },
          "metadata": {},
          "execution_count": 28
        }
      ]
    },
    {
      "cell_type": "code",
      "source": [
        "dicionario['lista2'][0:2]"
      ],
      "metadata": {
        "colab": {
          "base_uri": "https://localhost:8080/"
        },
        "id": "c8POL8QvQYc-",
        "outputId": "2092c47c-4833-4422-b660-8334b0fb4097"
      },
      "execution_count": null,
      "outputs": [
        {
          "output_type": "execute_result",
          "data": {
            "text/plain": [
              "[30, 20]"
            ]
          },
          "metadata": {},
          "execution_count": 31
        }
      ]
    },
    {
      "cell_type": "markdown",
      "source": [
        "- Dataframe"
      ],
      "metadata": {
        "id": "gDxNdR0tLoze"
      }
    },
    {
      "cell_type": "code",
      "source": [
        "dados_salarios = pd.DataFrame({'nome' : ['rogerinho', 'rony', 'severina'],\n",
        " 'salario' : [1500, 50000, 5000]})"
      ],
      "metadata": {
        "id": "UVRj3UZcLss1"
      },
      "execution_count": null,
      "outputs": []
    },
    {
      "cell_type": "code",
      "source": [
        "dados_salarios"
      ],
      "metadata": {
        "colab": {
          "base_uri": "https://localhost:8080/",
          "height": 143
        },
        "id": "fIxwQCv-N9nB",
        "outputId": "cfcb8ef6-23fd-481b-94bf-f1d1ce01ac49"
      },
      "execution_count": null,
      "outputs": [
        {
          "output_type": "execute_result",
          "data": {
            "text/plain": [
              "        nome  salario\n",
              "0  rogerinho     1500\n",
              "1       rony    50000\n",
              "2   severina     5000"
            ],
            "text/html": [
              "\n",
              "  <div id=\"df-92796ffc-379e-47f1-a9ee-4b4d99181fc7\">\n",
              "    <div class=\"colab-df-container\">\n",
              "      <div>\n",
              "<style scoped>\n",
              "    .dataframe tbody tr th:only-of-type {\n",
              "        vertical-align: middle;\n",
              "    }\n",
              "\n",
              "    .dataframe tbody tr th {\n",
              "        vertical-align: top;\n",
              "    }\n",
              "\n",
              "    .dataframe thead th {\n",
              "        text-align: right;\n",
              "    }\n",
              "</style>\n",
              "<table border=\"1\" class=\"dataframe\">\n",
              "  <thead>\n",
              "    <tr style=\"text-align: right;\">\n",
              "      <th></th>\n",
              "      <th>nome</th>\n",
              "      <th>salario</th>\n",
              "    </tr>\n",
              "  </thead>\n",
              "  <tbody>\n",
              "    <tr>\n",
              "      <th>0</th>\n",
              "      <td>rogerinho</td>\n",
              "      <td>1500</td>\n",
              "    </tr>\n",
              "    <tr>\n",
              "      <th>1</th>\n",
              "      <td>rony</td>\n",
              "      <td>50000</td>\n",
              "    </tr>\n",
              "    <tr>\n",
              "      <th>2</th>\n",
              "      <td>severina</td>\n",
              "      <td>5000</td>\n",
              "    </tr>\n",
              "  </tbody>\n",
              "</table>\n",
              "</div>\n",
              "      <button class=\"colab-df-convert\" onclick=\"convertToInteractive('df-92796ffc-379e-47f1-a9ee-4b4d99181fc7')\"\n",
              "              title=\"Convert this dataframe to an interactive table.\"\n",
              "              style=\"display:none;\">\n",
              "        \n",
              "  <svg xmlns=\"http://www.w3.org/2000/svg\" height=\"24px\"viewBox=\"0 0 24 24\"\n",
              "       width=\"24px\">\n",
              "    <path d=\"M0 0h24v24H0V0z\" fill=\"none\"/>\n",
              "    <path d=\"M18.56 5.44l.94 2.06.94-2.06 2.06-.94-2.06-.94-.94-2.06-.94 2.06-2.06.94zm-11 1L8.5 8.5l.94-2.06 2.06-.94-2.06-.94L8.5 2.5l-.94 2.06-2.06.94zm10 10l.94 2.06.94-2.06 2.06-.94-2.06-.94-.94-2.06-.94 2.06-2.06.94z\"/><path d=\"M17.41 7.96l-1.37-1.37c-.4-.4-.92-.59-1.43-.59-.52 0-1.04.2-1.43.59L10.3 9.45l-7.72 7.72c-.78.78-.78 2.05 0 2.83L4 21.41c.39.39.9.59 1.41.59.51 0 1.02-.2 1.41-.59l7.78-7.78 2.81-2.81c.8-.78.8-2.07 0-2.86zM5.41 20L4 18.59l7.72-7.72 1.47 1.35L5.41 20z\"/>\n",
              "  </svg>\n",
              "      </button>\n",
              "      \n",
              "  <style>\n",
              "    .colab-df-container {\n",
              "      display:flex;\n",
              "      flex-wrap:wrap;\n",
              "      gap: 12px;\n",
              "    }\n",
              "\n",
              "    .colab-df-convert {\n",
              "      background-color: #E8F0FE;\n",
              "      border: none;\n",
              "      border-radius: 50%;\n",
              "      cursor: pointer;\n",
              "      display: none;\n",
              "      fill: #1967D2;\n",
              "      height: 32px;\n",
              "      padding: 0 0 0 0;\n",
              "      width: 32px;\n",
              "    }\n",
              "\n",
              "    .colab-df-convert:hover {\n",
              "      background-color: #E2EBFA;\n",
              "      box-shadow: 0px 1px 2px rgba(60, 64, 67, 0.3), 0px 1px 3px 1px rgba(60, 64, 67, 0.15);\n",
              "      fill: #174EA6;\n",
              "    }\n",
              "\n",
              "    [theme=dark] .colab-df-convert {\n",
              "      background-color: #3B4455;\n",
              "      fill: #D2E3FC;\n",
              "    }\n",
              "\n",
              "    [theme=dark] .colab-df-convert:hover {\n",
              "      background-color: #434B5C;\n",
              "      box-shadow: 0px 1px 3px 1px rgba(0, 0, 0, 0.15);\n",
              "      filter: drop-shadow(0px 1px 2px rgba(0, 0, 0, 0.3));\n",
              "      fill: #FFFFFF;\n",
              "    }\n",
              "  </style>\n",
              "\n",
              "      <script>\n",
              "        const buttonEl =\n",
              "          document.querySelector('#df-92796ffc-379e-47f1-a9ee-4b4d99181fc7 button.colab-df-convert');\n",
              "        buttonEl.style.display =\n",
              "          google.colab.kernel.accessAllowed ? 'block' : 'none';\n",
              "\n",
              "        async function convertToInteractive(key) {\n",
              "          const element = document.querySelector('#df-92796ffc-379e-47f1-a9ee-4b4d99181fc7');\n",
              "          const dataTable =\n",
              "            await google.colab.kernel.invokeFunction('convertToInteractive',\n",
              "                                                     [key], {});\n",
              "          if (!dataTable) return;\n",
              "\n",
              "          const docLinkHtml = 'Like what you see? Visit the ' +\n",
              "            '<a target=\"_blank\" href=https://colab.research.google.com/notebooks/data_table.ipynb>data table notebook</a>'\n",
              "            + ' to learn more about interactive tables.';\n",
              "          element.innerHTML = '';\n",
              "          dataTable['output_type'] = 'display_data';\n",
              "          await google.colab.output.renderOutput(dataTable, element);\n",
              "          const docLink = document.createElement('div');\n",
              "          docLink.innerHTML = docLinkHtml;\n",
              "          element.appendChild(docLink);\n",
              "        }\n",
              "      </script>\n",
              "    </div>\n",
              "  </div>\n",
              "  "
            ]
          },
          "metadata": {},
          "execution_count": 24
        }
      ]
    },
    {
      "cell_type": "markdown",
      "source": [
        "Carregar Dados"
      ],
      "metadata": {
        "id": "uzvCxS_XR8-q"
      }
    },
    {
      "cell_type": "code",
      "source": [
        "dados = pd.read_csv('scouts.csv')"
      ],
      "metadata": {
        "id": "-z6xg5RXSBKY"
      },
      "execution_count": null,
      "outputs": []
    },
    {
      "cell_type": "code",
      "source": [
        "dados"
      ],
      "metadata": {
        "id": "HdHV3E51S0ix",
        "outputId": "29bca9bf-c230-4008-ceb4-db648ee4390c",
        "colab": {
          "base_uri": "https://localhost:8080/",
          "height": 627
        }
      },
      "execution_count": null,
      "outputs": [
        {
          "output_type": "execute_result",
          "data": {
            "text/plain": [
              "       atleta_id          apelido  rodada_id   ano  clube_id        clube  \\\n",
              "0          87552      Vitor Bueno         27  2015       277       Santos   \n",
              "1          87552      Vitor Bueno         28  2015       277       Santos   \n",
              "2          87552      Vitor Bueno         29  2015       277       Santos   \n",
              "3          87552      Vitor Bueno         30  2015       277       Santos   \n",
              "4          87552      Vitor Bueno         31  2015       277       Santos   \n",
              "...          ...              ...        ...   ...       ...          ...   \n",
              "29715      82943  Matheus Ribeiro         13  2015       293  Atlético-PR   \n",
              "29716      82943  Matheus Ribeiro         14  2015       293  Atlético-PR   \n",
              "29717      82943  Matheus Ribeiro         15  2015       293  Atlético-PR   \n",
              "29718      86783         Henrique          6  2015       294     Coritiba   \n",
              "29719      86783         Henrique          7  2015       294     Coritiba   \n",
              "\n",
              "       posicao_id posicao  jogos_num  pontos_num  ...  FC  GC  CA  CV  SG  DD  \\\n",
              "0               4     mei          1         0.0  ...   0   0   0   0   0   0   \n",
              "1               4     mei          1         0.0  ...   0   0   0   0   0   0   \n",
              "2               4     mei          1         0.0  ...   0   0   0   0   0   0   \n",
              "3               4     mei          1         0.0  ...   0   0   0   0   0   0   \n",
              "4               4     mei          2        -0.3  ...   0   0   0   0   0   0   \n",
              "...           ...     ...        ...         ...  ...  ..  ..  ..  ..  ..  ..   \n",
              "29715           2     lat          1         0.0  ...   0   0   0   0   0   0   \n",
              "29716           2     lat          1         0.0  ...   0   0   0   0   0   0   \n",
              "29717           2     lat          1         0.0  ...   0   0   0   0   0   0   \n",
              "29718           2     lat          2        -4.8  ...   2   0   1   0   0   0   \n",
              "29719           2     lat          3        -2.3  ...   2   0   0   0   0   0   \n",
              "\n",
              "       DP  GS  status_id  status  \n",
              "0       0   0          0     NaN  \n",
              "1       0   0          0     NaN  \n",
              "2       0   0          0     NaN  \n",
              "3       0   0          0     NaN  \n",
              "4       0   0          0     NaN  \n",
              "...    ..  ..        ...     ...  \n",
              "29715   0   0          0     NaN  \n",
              "29716   0   0          0     NaN  \n",
              "29717   0   0          0     NaN  \n",
              "29718   0   0          0     NaN  \n",
              "29719   0   0          0     NaN  \n",
              "\n",
              "[29720 rows x 34 columns]"
            ],
            "text/html": [
              "\n",
              "  <div id=\"df-b0d770b6-5a55-49f5-bb06-ad23f78926da\">\n",
              "    <div class=\"colab-df-container\">\n",
              "      <div>\n",
              "<style scoped>\n",
              "    .dataframe tbody tr th:only-of-type {\n",
              "        vertical-align: middle;\n",
              "    }\n",
              "\n",
              "    .dataframe tbody tr th {\n",
              "        vertical-align: top;\n",
              "    }\n",
              "\n",
              "    .dataframe thead th {\n",
              "        text-align: right;\n",
              "    }\n",
              "</style>\n",
              "<table border=\"1\" class=\"dataframe\">\n",
              "  <thead>\n",
              "    <tr style=\"text-align: right;\">\n",
              "      <th></th>\n",
              "      <th>atleta_id</th>\n",
              "      <th>apelido</th>\n",
              "      <th>rodada_id</th>\n",
              "      <th>ano</th>\n",
              "      <th>clube_id</th>\n",
              "      <th>clube</th>\n",
              "      <th>posicao_id</th>\n",
              "      <th>posicao</th>\n",
              "      <th>jogos_num</th>\n",
              "      <th>pontos_num</th>\n",
              "      <th>...</th>\n",
              "      <th>FC</th>\n",
              "      <th>GC</th>\n",
              "      <th>CA</th>\n",
              "      <th>CV</th>\n",
              "      <th>SG</th>\n",
              "      <th>DD</th>\n",
              "      <th>DP</th>\n",
              "      <th>GS</th>\n",
              "      <th>status_id</th>\n",
              "      <th>status</th>\n",
              "    </tr>\n",
              "  </thead>\n",
              "  <tbody>\n",
              "    <tr>\n",
              "      <th>0</th>\n",
              "      <td>87552</td>\n",
              "      <td>Vitor Bueno</td>\n",
              "      <td>27</td>\n",
              "      <td>2015</td>\n",
              "      <td>277</td>\n",
              "      <td>Santos</td>\n",
              "      <td>4</td>\n",
              "      <td>mei</td>\n",
              "      <td>1</td>\n",
              "      <td>0.0</td>\n",
              "      <td>...</td>\n",
              "      <td>0</td>\n",
              "      <td>0</td>\n",
              "      <td>0</td>\n",
              "      <td>0</td>\n",
              "      <td>0</td>\n",
              "      <td>0</td>\n",
              "      <td>0</td>\n",
              "      <td>0</td>\n",
              "      <td>0</td>\n",
              "      <td>NaN</td>\n",
              "    </tr>\n",
              "    <tr>\n",
              "      <th>1</th>\n",
              "      <td>87552</td>\n",
              "      <td>Vitor Bueno</td>\n",
              "      <td>28</td>\n",
              "      <td>2015</td>\n",
              "      <td>277</td>\n",
              "      <td>Santos</td>\n",
              "      <td>4</td>\n",
              "      <td>mei</td>\n",
              "      <td>1</td>\n",
              "      <td>0.0</td>\n",
              "      <td>...</td>\n",
              "      <td>0</td>\n",
              "      <td>0</td>\n",
              "      <td>0</td>\n",
              "      <td>0</td>\n",
              "      <td>0</td>\n",
              "      <td>0</td>\n",
              "      <td>0</td>\n",
              "      <td>0</td>\n",
              "      <td>0</td>\n",
              "      <td>NaN</td>\n",
              "    </tr>\n",
              "    <tr>\n",
              "      <th>2</th>\n",
              "      <td>87552</td>\n",
              "      <td>Vitor Bueno</td>\n",
              "      <td>29</td>\n",
              "      <td>2015</td>\n",
              "      <td>277</td>\n",
              "      <td>Santos</td>\n",
              "      <td>4</td>\n",
              "      <td>mei</td>\n",
              "      <td>1</td>\n",
              "      <td>0.0</td>\n",
              "      <td>...</td>\n",
              "      <td>0</td>\n",
              "      <td>0</td>\n",
              "      <td>0</td>\n",
              "      <td>0</td>\n",
              "      <td>0</td>\n",
              "      <td>0</td>\n",
              "      <td>0</td>\n",
              "      <td>0</td>\n",
              "      <td>0</td>\n",
              "      <td>NaN</td>\n",
              "    </tr>\n",
              "    <tr>\n",
              "      <th>3</th>\n",
              "      <td>87552</td>\n",
              "      <td>Vitor Bueno</td>\n",
              "      <td>30</td>\n",
              "      <td>2015</td>\n",
              "      <td>277</td>\n",
              "      <td>Santos</td>\n",
              "      <td>4</td>\n",
              "      <td>mei</td>\n",
              "      <td>1</td>\n",
              "      <td>0.0</td>\n",
              "      <td>...</td>\n",
              "      <td>0</td>\n",
              "      <td>0</td>\n",
              "      <td>0</td>\n",
              "      <td>0</td>\n",
              "      <td>0</td>\n",
              "      <td>0</td>\n",
              "      <td>0</td>\n",
              "      <td>0</td>\n",
              "      <td>0</td>\n",
              "      <td>NaN</td>\n",
              "    </tr>\n",
              "    <tr>\n",
              "      <th>4</th>\n",
              "      <td>87552</td>\n",
              "      <td>Vitor Bueno</td>\n",
              "      <td>31</td>\n",
              "      <td>2015</td>\n",
              "      <td>277</td>\n",
              "      <td>Santos</td>\n",
              "      <td>4</td>\n",
              "      <td>mei</td>\n",
              "      <td>2</td>\n",
              "      <td>-0.3</td>\n",
              "      <td>...</td>\n",
              "      <td>0</td>\n",
              "      <td>0</td>\n",
              "      <td>0</td>\n",
              "      <td>0</td>\n",
              "      <td>0</td>\n",
              "      <td>0</td>\n",
              "      <td>0</td>\n",
              "      <td>0</td>\n",
              "      <td>0</td>\n",
              "      <td>NaN</td>\n",
              "    </tr>\n",
              "    <tr>\n",
              "      <th>...</th>\n",
              "      <td>...</td>\n",
              "      <td>...</td>\n",
              "      <td>...</td>\n",
              "      <td>...</td>\n",
              "      <td>...</td>\n",
              "      <td>...</td>\n",
              "      <td>...</td>\n",
              "      <td>...</td>\n",
              "      <td>...</td>\n",
              "      <td>...</td>\n",
              "      <td>...</td>\n",
              "      <td>...</td>\n",
              "      <td>...</td>\n",
              "      <td>...</td>\n",
              "      <td>...</td>\n",
              "      <td>...</td>\n",
              "      <td>...</td>\n",
              "      <td>...</td>\n",
              "      <td>...</td>\n",
              "      <td>...</td>\n",
              "      <td>...</td>\n",
              "    </tr>\n",
              "    <tr>\n",
              "      <th>29715</th>\n",
              "      <td>82943</td>\n",
              "      <td>Matheus Ribeiro</td>\n",
              "      <td>13</td>\n",
              "      <td>2015</td>\n",
              "      <td>293</td>\n",
              "      <td>Atlético-PR</td>\n",
              "      <td>2</td>\n",
              "      <td>lat</td>\n",
              "      <td>1</td>\n",
              "      <td>0.0</td>\n",
              "      <td>...</td>\n",
              "      <td>0</td>\n",
              "      <td>0</td>\n",
              "      <td>0</td>\n",
              "      <td>0</td>\n",
              "      <td>0</td>\n",
              "      <td>0</td>\n",
              "      <td>0</td>\n",
              "      <td>0</td>\n",
              "      <td>0</td>\n",
              "      <td>NaN</td>\n",
              "    </tr>\n",
              "    <tr>\n",
              "      <th>29716</th>\n",
              "      <td>82943</td>\n",
              "      <td>Matheus Ribeiro</td>\n",
              "      <td>14</td>\n",
              "      <td>2015</td>\n",
              "      <td>293</td>\n",
              "      <td>Atlético-PR</td>\n",
              "      <td>2</td>\n",
              "      <td>lat</td>\n",
              "      <td>1</td>\n",
              "      <td>0.0</td>\n",
              "      <td>...</td>\n",
              "      <td>0</td>\n",
              "      <td>0</td>\n",
              "      <td>0</td>\n",
              "      <td>0</td>\n",
              "      <td>0</td>\n",
              "      <td>0</td>\n",
              "      <td>0</td>\n",
              "      <td>0</td>\n",
              "      <td>0</td>\n",
              "      <td>NaN</td>\n",
              "    </tr>\n",
              "    <tr>\n",
              "      <th>29717</th>\n",
              "      <td>82943</td>\n",
              "      <td>Matheus Ribeiro</td>\n",
              "      <td>15</td>\n",
              "      <td>2015</td>\n",
              "      <td>293</td>\n",
              "      <td>Atlético-PR</td>\n",
              "      <td>2</td>\n",
              "      <td>lat</td>\n",
              "      <td>1</td>\n",
              "      <td>0.0</td>\n",
              "      <td>...</td>\n",
              "      <td>0</td>\n",
              "      <td>0</td>\n",
              "      <td>0</td>\n",
              "      <td>0</td>\n",
              "      <td>0</td>\n",
              "      <td>0</td>\n",
              "      <td>0</td>\n",
              "      <td>0</td>\n",
              "      <td>0</td>\n",
              "      <td>NaN</td>\n",
              "    </tr>\n",
              "    <tr>\n",
              "      <th>29718</th>\n",
              "      <td>86783</td>\n",
              "      <td>Henrique</td>\n",
              "      <td>6</td>\n",
              "      <td>2015</td>\n",
              "      <td>294</td>\n",
              "      <td>Coritiba</td>\n",
              "      <td>2</td>\n",
              "      <td>lat</td>\n",
              "      <td>2</td>\n",
              "      <td>-4.8</td>\n",
              "      <td>...</td>\n",
              "      <td>2</td>\n",
              "      <td>0</td>\n",
              "      <td>1</td>\n",
              "      <td>0</td>\n",
              "      <td>0</td>\n",
              "      <td>0</td>\n",
              "      <td>0</td>\n",
              "      <td>0</td>\n",
              "      <td>0</td>\n",
              "      <td>NaN</td>\n",
              "    </tr>\n",
              "    <tr>\n",
              "      <th>29719</th>\n",
              "      <td>86783</td>\n",
              "      <td>Henrique</td>\n",
              "      <td>7</td>\n",
              "      <td>2015</td>\n",
              "      <td>294</td>\n",
              "      <td>Coritiba</td>\n",
              "      <td>2</td>\n",
              "      <td>lat</td>\n",
              "      <td>3</td>\n",
              "      <td>-2.3</td>\n",
              "      <td>...</td>\n",
              "      <td>2</td>\n",
              "      <td>0</td>\n",
              "      <td>0</td>\n",
              "      <td>0</td>\n",
              "      <td>0</td>\n",
              "      <td>0</td>\n",
              "      <td>0</td>\n",
              "      <td>0</td>\n",
              "      <td>0</td>\n",
              "      <td>NaN</td>\n",
              "    </tr>\n",
              "  </tbody>\n",
              "</table>\n",
              "<p>29720 rows × 34 columns</p>\n",
              "</div>\n",
              "      <button class=\"colab-df-convert\" onclick=\"convertToInteractive('df-b0d770b6-5a55-49f5-bb06-ad23f78926da')\"\n",
              "              title=\"Convert this dataframe to an interactive table.\"\n",
              "              style=\"display:none;\">\n",
              "        \n",
              "  <svg xmlns=\"http://www.w3.org/2000/svg\" height=\"24px\"viewBox=\"0 0 24 24\"\n",
              "       width=\"24px\">\n",
              "    <path d=\"M0 0h24v24H0V0z\" fill=\"none\"/>\n",
              "    <path d=\"M18.56 5.44l.94 2.06.94-2.06 2.06-.94-2.06-.94-.94-2.06-.94 2.06-2.06.94zm-11 1L8.5 8.5l.94-2.06 2.06-.94-2.06-.94L8.5 2.5l-.94 2.06-2.06.94zm10 10l.94 2.06.94-2.06 2.06-.94-2.06-.94-.94-2.06-.94 2.06-2.06.94z\"/><path d=\"M17.41 7.96l-1.37-1.37c-.4-.4-.92-.59-1.43-.59-.52 0-1.04.2-1.43.59L10.3 9.45l-7.72 7.72c-.78.78-.78 2.05 0 2.83L4 21.41c.39.39.9.59 1.41.59.51 0 1.02-.2 1.41-.59l7.78-7.78 2.81-2.81c.8-.78.8-2.07 0-2.86zM5.41 20L4 18.59l7.72-7.72 1.47 1.35L5.41 20z\"/>\n",
              "  </svg>\n",
              "      </button>\n",
              "      \n",
              "  <style>\n",
              "    .colab-df-container {\n",
              "      display:flex;\n",
              "      flex-wrap:wrap;\n",
              "      gap: 12px;\n",
              "    }\n",
              "\n",
              "    .colab-df-convert {\n",
              "      background-color: #E8F0FE;\n",
              "      border: none;\n",
              "      border-radius: 50%;\n",
              "      cursor: pointer;\n",
              "      display: none;\n",
              "      fill: #1967D2;\n",
              "      height: 32px;\n",
              "      padding: 0 0 0 0;\n",
              "      width: 32px;\n",
              "    }\n",
              "\n",
              "    .colab-df-convert:hover {\n",
              "      background-color: #E2EBFA;\n",
              "      box-shadow: 0px 1px 2px rgba(60, 64, 67, 0.3), 0px 1px 3px 1px rgba(60, 64, 67, 0.15);\n",
              "      fill: #174EA6;\n",
              "    }\n",
              "\n",
              "    [theme=dark] .colab-df-convert {\n",
              "      background-color: #3B4455;\n",
              "      fill: #D2E3FC;\n",
              "    }\n",
              "\n",
              "    [theme=dark] .colab-df-convert:hover {\n",
              "      background-color: #434B5C;\n",
              "      box-shadow: 0px 1px 3px 1px rgba(0, 0, 0, 0.15);\n",
              "      filter: drop-shadow(0px 1px 2px rgba(0, 0, 0, 0.3));\n",
              "      fill: #FFFFFF;\n",
              "    }\n",
              "  </style>\n",
              "\n",
              "      <script>\n",
              "        const buttonEl =\n",
              "          document.querySelector('#df-b0d770b6-5a55-49f5-bb06-ad23f78926da button.colab-df-convert');\n",
              "        buttonEl.style.display =\n",
              "          google.colab.kernel.accessAllowed ? 'block' : 'none';\n",
              "\n",
              "        async function convertToInteractive(key) {\n",
              "          const element = document.querySelector('#df-b0d770b6-5a55-49f5-bb06-ad23f78926da');\n",
              "          const dataTable =\n",
              "            await google.colab.kernel.invokeFunction('convertToInteractive',\n",
              "                                                     [key], {});\n",
              "          if (!dataTable) return;\n",
              "\n",
              "          const docLinkHtml = 'Like what you see? Visit the ' +\n",
              "            '<a target=\"_blank\" href=https://colab.research.google.com/notebooks/data_table.ipynb>data table notebook</a>'\n",
              "            + ' to learn more about interactive tables.';\n",
              "          element.innerHTML = '';\n",
              "          dataTable['output_type'] = 'display_data';\n",
              "          await google.colab.output.renderOutput(dataTable, element);\n",
              "          const docLink = document.createElement('div');\n",
              "          docLink.innerHTML = docLinkHtml;\n",
              "          element.appendChild(docLink);\n",
              "        }\n",
              "      </script>\n",
              "    </div>\n",
              "  </div>\n",
              "  "
            ]
          },
          "metadata": {},
          "execution_count": 34
        }
      ]
    }
  ]
}