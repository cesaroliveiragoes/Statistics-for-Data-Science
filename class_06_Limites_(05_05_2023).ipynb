{
  "nbformat": 4,
  "nbformat_minor": 0,
  "metadata": {
    "colab": {
      "provenance": [],
      "authorship_tag": "ABX9TyOZ2GPzd28Te1AnCo1tX+pX",
      "include_colab_link": true
    },
    "kernelspec": {
      "name": "python3",
      "display_name": "Python 3"
    },
    "language_info": {
      "name": "python"
    }
  },
  "cells": [
    {
      "cell_type": "markdown",
      "metadata": {
        "id": "view-in-github",
        "colab_type": "text"
      },
      "source": [
        "<a href=\"https://colab.research.google.com/github/cesaroliveiragoes/Statistics-for-Data-Science/blob/main/class_06_Limites_(05_05_2023).ipynb\" target=\"_parent\"><img src=\"https://colab.research.google.com/assets/colab-badge.svg\" alt=\"Open In Colab\"/></a>"
      ]
    },
    {
      "cell_type": "markdown",
      "source": [
        "## Limites no Python"
      ],
      "metadata": {
        "id": "nqRIuqiVkBki"
      }
    },
    {
      "cell_type": "markdown",
      "source": [
        "# Bibliotecas"
      ],
      "metadata": {
        "id": "MBuULokJlx3H"
      }
    },
    {
      "cell_type": "code",
      "source": [
        "import numpy as np\n",
        "import pandas as pd\n",
        "import sympy as sp"
      ],
      "metadata": {
        "id": "I-a6MSQmleqx"
      },
      "execution_count": null,
      "outputs": []
    },
    {
      "cell_type": "markdown",
      "source": [
        "# Exemplo 1"
      ],
      "metadata": {
        "id": "zm7T06X5m0kh"
      }
    },
    {
      "cell_type": "markdown",
      "source": [
        "$\\lim_{x \\to 1} \\frac{x^2 + x - 2}{x-2}$"
      ],
      "metadata": {
        "id": "0P7SRvKdmtXK"
      }
    },
    {
      "cell_type": "code",
      "source": [
        "# Definir simbolo\n",
        "x = sp.Symbol('x')\n",
        "x"
      ],
      "metadata": {
        "colab": {
          "base_uri": "https://localhost:8080/",
          "height": 38
        },
        "id": "B5K1K21OlfN6",
        "outputId": "369ed26d-5975-402f-9285-a80bd908dc64"
      },
      "execution_count": null,
      "outputs": [
        {
          "output_type": "execute_result",
          "data": {
            "text/plain": [
              "x"
            ],
            "text/latex": "$\\displaystyle x$"
          },
          "metadata": {},
          "execution_count": 32
        }
      ]
    },
    {
      "cell_type": "code",
      "source": [
        "# definir a funcao\n",
        "funcao = (x**2 + x - 2) / (x - 1)\n",
        "funcao"
      ],
      "metadata": {
        "colab": {
          "base_uri": "https://localhost:8080/",
          "height": 55
        },
        "id": "2sZvFu2RlfQT",
        "outputId": "8795d8e1-9c1b-4e30-c0ab-619947ddc9ff"
      },
      "execution_count": null,
      "outputs": [
        {
          "output_type": "execute_result",
          "data": {
            "text/plain": [
              "(x**2 + x - 2)/(x - 1)"
            ],
            "text/latex": "$\\displaystyle \\frac{x^{2} + x - 2}{x - 1}$"
          },
          "metadata": {},
          "execution_count": 33
        }
      ]
    },
    {
      "cell_type": "code",
      "source": [
        "# encontrar o limite\n",
        "sp.limit(funcao, x, 1)"
      ],
      "metadata": {
        "colab": {
          "base_uri": "https://localhost:8080/",
          "height": 37
        },
        "id": "mLEqenA4lfSh",
        "outputId": "fa40b26e-0e9c-4170-9a13-f4f1063ce5e5"
      },
      "execution_count": null,
      "outputs": [
        {
          "output_type": "execute_result",
          "data": {
            "text/plain": [
              "3"
            ],
            "text/latex": "$\\displaystyle 3$"
          },
          "metadata": {},
          "execution_count": 34
        }
      ]
    },
    {
      "cell_type": "code",
      "source": [
        "# grafico\n",
        "sp.plot(funcao)"
      ],
      "metadata": {
        "colab": {
          "base_uri": "https://localhost:8080/",
          "height": 504
        },
        "id": "LI9KNg-PlfUx",
        "outputId": "bb998b33-9c52-410b-dc8f-0da6c1e2c30f"
      },
      "execution_count": null,
      "outputs": [
        {
          "output_type": "display_data",
          "data": {
            "text/plain": [
              "<Figure size 640x480 with 1 Axes>"
            ],
            "image/png": "[encoded data removed]"
          },
          "metadata": {}
        },
        {
          "output_type": "execute_result",
          "data": {
            "text/plain": [
              "<sympy.plotting.plot.Plot at 0x7f89a6e734c0>"
            ]
          },
          "metadata": {},
          "execution_count": 35
        }
      ]
    },
    {
      "cell_type": "markdown",
      "source": [
        "# Exemplo 2\n"
      ],
      "metadata": {
        "id": "-aNyhxHSow-L"
      }
    },
    {
      "cell_type": "markdown",
      "source": [
        "$\\lim_{x \\to 2} \\frac{x+1}{x-2}$"
      ],
      "metadata": {
        "id": "26OJ9bPQo17x"
      }
    },
    {
      "cell_type": "code",
      "source": [
        "#definir o x\n",
        "x = sp.Symbol('x')\n",
        "x"
      ],
      "metadata": {
        "colab": {
          "base_uri": "https://localhost:8080/",
          "height": 38
        },
        "id": "pWW_JnUwo1GJ",
        "outputId": "0e358c40-54ea-4a72-d19a-9ce25c667ebe"
      },
      "execution_count": null,
      "outputs": [
        {
          "output_type": "execute_result",
          "data": {
            "text/plain": [
              "x"
            ],
            "text/latex": "$\\displaystyle x$"
          },
          "metadata": {},
          "execution_count": 36
        }
      ]
    },
    {
      "cell_type": "code",
      "source": [
        "# definir a funcao\n",
        "funcao = (x + 1) / (x - 2)\n",
        "funcao"
      ],
      "metadata": {
        "colab": {
          "base_uri": "https://localhost:8080/",
          "height": 52
        },
        "id": "OVyWNo-UlfZ9",
        "outputId": "09f7ed6d-1bbb-4ebe-b255-01eacc767661"
      },
      "execution_count": null,
      "outputs": [
        {
          "output_type": "execute_result",
          "data": {
            "text/plain": [
              "(x + 1)/(x - 2)"
            ],
            "text/latex": "$\\displaystyle \\frac{x + 1}{x - 2}$"
          },
          "metadata": {},
          "execution_count": 37
        }
      ]
    },
    {
      "cell_type": "code",
      "source": [
        "#definir o limite\n",
        "sp.limit(funcao, x, 2)"
      ],
      "metadata": {
        "colab": {
          "base_uri": "https://localhost:8080/",
          "height": 37
        },
        "id": "qwbrNGCulfca",
        "outputId": "533336dc-5b30-4e33-9909-ef1037dfbeb3"
      },
      "execution_count": null,
      "outputs": [
        {
          "output_type": "execute_result",
          "data": {
            "text/plain": [
              "oo"
            ],
            "text/latex": "$\\displaystyle \\infty$"
          },
          "metadata": {},
          "execution_count": 38
        }
      ]
    },
    {
      "cell_type": "code",
      "source": [
        "# grafico\n",
        "sp.plot(funcao, xlim = [-3.5, 5], ylim = [-15,15])\n"
      ],
      "metadata": {
        "colab": {
          "base_uri": "https://localhost:8080/",
          "height": 504
        },
        "id": "ENgpu4WClfey",
        "outputId": "68acbdbe-8290-4344-e4bc-d80bab6b0f95"
      },
      "execution_count": null,
      "outputs": [
        {
          "output_type": "display_data",
          "data": {
            "text/plain": [
              "<Figure size 640x480 with 1 Axes>"
            ],
            "image/png": "[encoded data removed]"
          },
          "metadata": {}
        },
        {
          "output_type": "execute_result",
          "data": {
            "text/plain": [
              "<sympy.plotting.plot.Plot at 0x7f89a6d16a10>"
            ]
          },
          "metadata": {},
          "execution_count": 39
        }
      ]
    },
    {
      "cell_type": "markdown",
      "source": [
        "# Exemplo 3 e 4"
      ],
      "metadata": {
        "id": "E5W1yKQ3q-BZ"
      }
    },
    {
      "cell_type": "markdown",
      "source": [
        "$lim_{x \\to 0} 2+3x$\n",
        "\n",
        "$\\lim_{x \\to \\infty} 2+3x$"
      ],
      "metadata": {
        "id": "lOyfvo2Blfhq"
      }
    },
    {
      "cell_type": "code",
      "source": [
        "#definir o x\n",
        "x = sp.Symbol('x')\n",
        "x"
      ],
      "metadata": {
        "colab": {
          "base_uri": "https://localhost:8080/",
          "height": 38
        },
        "id": "pt7NH6mglfkT",
        "outputId": "c27a52e2-b9a4-4895-8852-8e24532e515c"
      },
      "execution_count": null,
      "outputs": [
        {
          "output_type": "execute_result",
          "data": {
            "text/plain": [
              "x"
            ],
            "text/latex": "$\\displaystyle x$"
          },
          "metadata": {},
          "execution_count": 40
        }
      ]
    },
    {
      "cell_type": "code",
      "source": [
        "# definir a funcao\n",
        "funcao = 2 + 3*x\n",
        "funcao"
      ],
      "metadata": {
        "colab": {
          "base_uri": "https://localhost:8080/",
          "height": 38
        },
        "id": "01prRTuKrECP",
        "outputId": "1e14aba7-123f-45a4-b076-653f5fe09e21"
      },
      "execution_count": null,
      "outputs": [
        {
          "output_type": "execute_result",
          "data": {
            "text/plain": [
              "3*x + 2"
            ],
            "text/latex": "$\\displaystyle 3 x + 2$"
          },
          "metadata": {},
          "execution_count": 41
        }
      ]
    },
    {
      "cell_type": "code",
      "source": [
        "#definir o limite tendendo a zero\n",
        "sp.limit(funcao, x, 0)"
      ],
      "metadata": {
        "colab": {
          "base_uri": "https://localhost:8080/",
          "height": 37
        },
        "id": "ePAUV4O9rMzp",
        "outputId": "5fbc0a98-54cb-4051-a6bb-296e3aa5d40c"
      },
      "execution_count": null,
      "outputs": [
        {
          "output_type": "execute_result",
          "data": {
            "text/plain": [
              "2"
            ],
            "text/latex": "$\\displaystyle 2$"
          },
          "metadata": {},
          "execution_count": 18
        }
      ]
    },
    {
      "cell_type": "code",
      "source": [
        "#definir o limite tendendo ao infinito\n",
        "sp.limit(funcao, x, sp.oo)"
      ],
      "metadata": {
        "colab": {
          "base_uri": "https://localhost:8080/",
          "height": 37
        },
        "id": "xuwyDqfvrQ_Q",
        "outputId": "9d23680d-b7c5-4b02-a0b9-c5e67c462afa"
      },
      "execution_count": null,
      "outputs": [
        {
          "output_type": "execute_result",
          "data": {
            "text/plain": [
              "oo"
            ],
            "text/latex": "$\\displaystyle \\infty$"
          },
          "metadata": {},
          "execution_count": 19
        }
      ]
    },
    {
      "cell_type": "code",
      "source": [
        "# grafico\n",
        "sp.plot(funcao, xlim = [-3.5, 5], ylim = [-15,15])"
      ],
      "metadata": {
        "colab": {
          "base_uri": "https://localhost:8080/",
          "height": 504
        },
        "id": "Cy-WjUzgrrKX",
        "outputId": "c643a24a-8175-4f5c-b44f-f81b02227187"
      },
      "execution_count": null,
      "outputs": [
        {
          "output_type": "display_data",
          "data": {
            "text/plain": [
              "<Figure size 640x480 with 1 Axes>"
            ],
            "image/png": "[encoded data removed]"
          },
          "metadata": {}
        },
        {
          "output_type": "execute_result",
          "data": {
            "text/plain": [
              "<sympy.plotting.plot.Plot at 0x7f89a707af20>"
            ]
          },
          "metadata": {},
          "execution_count": 20
        }
      ]
    },
    {
      "cell_type": "markdown",
      "source": [
        "# Exemplo 5 e 6"
      ],
      "metadata": {
        "id": "w78QxrmhrklQ"
      }
    },
    {
      "cell_type": "markdown",
      "source": [
        "$\\lim_{x \\to 0} \\beta_0 + \\beta_1 x$\n",
        "\n",
        "$\\lim_{x \\to \\infty} \\beta_0 + \\beta_1 x$"
      ],
      "metadata": {
        "id": "5FyIt-5tsLOm"
      }
    },
    {
      "cell_type": "code",
      "source": [
        "#definir o x\n",
        "x = sp.Symbol('x')\n",
        "beta0 = sp.Symbol('beta_0')\n",
        "beta1 = sp.Symbol('beta_1')\n",
        "beta0"
      ],
      "metadata": {
        "colab": {
          "base_uri": "https://localhost:8080/",
          "height": 38
        },
        "id": "N-xAycJosLfe",
        "outputId": "1c2b2637-700d-4b6b-945e-7f9435e2217d"
      },
      "execution_count": null,
      "outputs": [
        {
          "output_type": "execute_result",
          "data": {
            "text/plain": [
              "beta_0"
            ],
            "text/latex": "$\\displaystyle \\beta_{0}$"
          },
          "metadata": {},
          "execution_count": 21
        }
      ]
    },
    {
      "cell_type": "code",
      "source": [
        "# definir a funcao\n",
        "funcao = beta0 + beta1*x\n",
        "funcao"
      ],
      "metadata": {
        "colab": {
          "base_uri": "https://localhost:8080/",
          "height": 38
        },
        "id": "QFAPLP52sLiG",
        "outputId": "c99b545f-d327-4afe-d0ed-434c5331a8fa"
      },
      "execution_count": null,
      "outputs": [
        {
          "output_type": "execute_result",
          "data": {
            "text/plain": [
              "beta_0 + beta_1*x"
            ],
            "text/latex": "$\\displaystyle \\beta_{0} + \\beta_{1} x$"
          },
          "metadata": {},
          "execution_count": 22
        }
      ]
    },
    {
      "cell_type": "code",
      "source": [
        "#limite x tendendo a 0\n",
        "sp.limit(funcao,x,0)"
      ],
      "metadata": {
        "colab": {
          "base_uri": "https://localhost:8080/",
          "height": 38
        },
        "id": "Rl06Tb90sLkf",
        "outputId": "2491fa0b-5a3e-45a1-910f-6d2001bed5e5"
      },
      "execution_count": null,
      "outputs": [
        {
          "output_type": "execute_result",
          "data": {
            "text/plain": [
              "beta_0"
            ],
            "text/latex": "$\\displaystyle \\beta_{0}$"
          },
          "metadata": {},
          "execution_count": 23
        }
      ]
    },
    {
      "cell_type": "code",
      "source": [
        "#limite x tendendo ao infinito\n",
        "sp.limit(funcao,x, sp.oo)"
      ],
      "metadata": {
        "colab": {
          "base_uri": "https://localhost:8080/",
          "height": 38
        },
        "id": "HcF26cKttGEp",
        "outputId": "193d8718-1ef9-4c2b-dd5d-da0f91d0d7cf"
      },
      "execution_count": null,
      "outputs": [
        {
          "output_type": "execute_result",
          "data": {
            "text/plain": [
              "oo*sign(beta_1)"
            ],
            "text/latex": "$\\displaystyle \\infty \\operatorname{sign}{\\left(\\beta_{1} \\right)}$"
          },
          "metadata": {},
          "execution_count": 24
        }
      ]
    },
    {
      "cell_type": "markdown",
      "source": [
        "# Exemplo 7 e 8"
      ],
      "metadata": {
        "id": "OSO89tJCtY9X"
      }
    },
    {
      "cell_type": "markdown",
      "source": [
        "$\\lim_{x \\to 0} \\frac{1}{1+e^{-x}}$\n",
        "\n",
        "$\\lim_{x \\to \\infty} \\frac{1}{1+e^{-x}}$\n"
      ],
      "metadata": {
        "id": "pYr4dCV5rxno"
      }
    },
    {
      "cell_type": "code",
      "source": [
        "#definir o x\n",
        "x = sp.Symbol('x')\n",
        "x"
      ],
      "metadata": {
        "colab": {
          "base_uri": "https://localhost:8080/",
          "height": 38
        },
        "id": "tytxenl0ra3s",
        "outputId": "02135f3c-d6f0-4600-deb3-952f4513fb6c"
      },
      "execution_count": null,
      "outputs": [
        {
          "output_type": "execute_result",
          "data": {
            "text/plain": [
              "x"
            ],
            "text/latex": "$\\displaystyle x$"
          },
          "metadata": {},
          "execution_count": 25
        }
      ]
    },
    {
      "cell_type": "code",
      "source": [
        "# definir a funcao\n",
        "funcao = 1 / (1 + sp.exp(-x))\n",
        "funcao"
      ],
      "metadata": {
        "colab": {
          "base_uri": "https://localhost:8080/",
          "height": 52
        },
        "id": "0u4IGh0mtoRm",
        "outputId": "2a8147d3-4bf5-40f0-9484-40010f7d07a6"
      },
      "execution_count": null,
      "outputs": [
        {
          "output_type": "execute_result",
          "data": {
            "text/plain": [
              "1/(1 + exp(-x))"
            ],
            "text/latex": "$\\displaystyle \\frac{1}{1 + e^{- x}}$"
          },
          "metadata": {},
          "execution_count": 26
        }
      ]
    },
    {
      "cell_type": "code",
      "source": [
        "#limite x tendendo a 0\n",
        "sp.limit(funcao,x,0)"
      ],
      "metadata": {
        "colab": {
          "base_uri": "https://localhost:8080/",
          "height": 51
        },
        "id": "ExVi1Hxpty3b",
        "outputId": "606f3c40-9831-4649-940c-a380551fd982"
      },
      "execution_count": null,
      "outputs": [
        {
          "output_type": "execute_result",
          "data": {
            "text/plain": [
              "1/2"
            ],
            "text/latex": "$\\displaystyle \\frac{1}{2}$"
          },
          "metadata": {},
          "execution_count": 27
        }
      ]
    },
    {
      "cell_type": "code",
      "source": [
        "#limite x tendendo ao infinito\n",
        "sp.limit(funcao,x, sp.oo)"
      ],
      "metadata": {
        "colab": {
          "base_uri": "https://localhost:8080/",
          "height": 37
        },
        "id": "sfvemPpst4ll",
        "outputId": "b310b2f6-5ae6-47e8-994b-7246e21a828b"
      },
      "execution_count": null,
      "outputs": [
        {
          "output_type": "execute_result",
          "data": {
            "text/plain": [
              "1"
            ],
            "text/latex": "$\\displaystyle 1$"
          },
          "metadata": {},
          "execution_count": 28
        }
      ]
    },
    {
      "cell_type": "code",
      "source": [
        "#limite x tendendo ao infinito negativo\n",
        "sp.limit(funcao,x, -sp.oo)"
      ],
      "metadata": {
        "colab": {
          "base_uri": "https://localhost:8080/",
          "height": 37
        },
        "id": "MUVNu2eguCzk",
        "outputId": "d6586aef-c8fe-4148-ecc5-6276b3686e3c"
      },
      "execution_count": null,
      "outputs": [
        {
          "output_type": "execute_result",
          "data": {
            "text/plain": [
              "0"
            ],
            "text/latex": "$\\displaystyle 0$"
          },
          "metadata": {},
          "execution_count": 29
        }
      ]
    },
    {
      "cell_type": "code",
      "source": [
        "# grafico\n",
        "sp.plot(funcao)"
      ],
      "metadata": {
        "colab": {
          "base_uri": "https://localhost:8080/",
          "height": 501
        },
        "id": "nKzpySeduDxx",
        "outputId": "c3e31cdf-2c27-433d-eb26-e47147570286"
      },
      "execution_count": null,
      "outputs": [
        {
          "output_type": "display_data",
          "data": {
            "text/plain": [
              "<Figure size 640x480 with 1 Axes>"
            ],
            "image/png": "[encoded data removed]"
          },
          "metadata": {}
        },
        {
          "output_type": "execute_result",
          "data": {
            "text/plain": [
              "<sympy.plotting.plot.Plot at 0x7f89a6da8e50>"
            ]
          },
          "metadata": {},
          "execution_count": 30
        }
      ]
    }
  ]
}